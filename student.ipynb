{
 "cells": [
  {
   "cell_type": "markdown",
   "metadata": {},
   "source": [
    "## Final Project Submission\n",
    "\n",
    "Please fill out:\n",
    "* Student name: Dennis Muthama Mwanzia\n",
    "* Student pace: Full time\n",
    "* Scheduled project review date/time: March 2023\n",
    "* Instructor name: William Okomba\n",
    "* Blog post URL:Github\n"
   ]
  },
  {
   "cell_type": "markdown",
   "metadata": {},
   "source": [
    "# Overview\n",
    "\n",
    "# Business Problem\n",
    "\n",
    "Microsoft has seen big companies create original video content, and they have dediced to enter in the industry. However, they have no understanding of the movie industry. As a data scientist, they have hired me to help them better understand the film industry. I am tasked with exploring the type of films that are currently best performing at the box office. I will be exploring the type of films that are currently performing best at the box office and then i will translate these findings into actionable insights that the head of the Microsoft New Movie studio will use to decide what type of films to create. \n",
    "\n",
    "## Objectives/Questions to be answered? \n",
    "1. What type of data do I have for analysis?\n",
    "2. How was this data selected and why is it important to answer the above business problem? \n",
    "3. What type of movie genres are currently existing in the market?\n",
    "4. What is the cost of production of these movie genres?\n",
    "5. What are the features of these movie genres? Duration, Directors, Actors, Studios produced, etc?\n",
    "6. What are the movie box offices for these genres?\n",
    "7. What are the net incomes of these movie genres?\n",
    "8. What are the Returns on Investment for these movie genres?\n",
    "9. What type of movie genres are most profitable?\n",
    "\n",
    "## Data Used for Analysis\n",
    "The zipped file contains the following data\n",
    "   1. Box Office Mojo Movie gross (domestic & worldwide)\n",
    "   2. Movie information\n",
    "   3. The Movie databse (TMDB)\n",
    "   4. Movie budgets\n",
    "   5. Movie reviews \n",
    "   \n",
    "\n",
    "\n"
   ]
  },
  {
   "cell_type": "markdown",
   "metadata": {},
   "source": [
    "## Objectives & Approach\n",
    "To do data analysis and make the necessary recommendations to Microsoft New Movie Studio, I analyzed all the datasets looking for specific variables that were useful in my analysis.\n",
    "## Performance Metrics\n",
    "I used the following dependent performance metric in my analysis.\n",
    "1. Profitability measured by Return on Investment denoted as ROI\n",
    "## The dependent Variables\n",
    "1. Averaging Rating\n",
    "2. Genres\n",
    "3. runtime in Minutes\n",
    "4. Number of votes \n",
    "5. Studio\n",
    "6. Production budget"
   ]
  },
  {
   "cell_type": "code",
   "execution_count": 1,
   "metadata": {},
   "outputs": [],
   "source": [
    "#I started by importing the following standard packages in python \n",
    "import pandas as pd\n",
    "import numpy as np\n",
    "import matplotlib.pyplot as plt\n",
    "import sqlite3 \n",
    "import seaborn as sns\n",
    "%matplotlib inline "
   ]
  },
  {
   "cell_type": "markdown",
   "metadata": {},
   "source": [
    "# Loading Datasets"
   ]
  },
  {
   "cell_type": "markdown",
   "metadata": {},
   "source": [
    "## 1. Loading the Box Office Mojo gross Dataset"
   ]
  },
  {
   "cell_type": "code",
   "execution_count": 2,
   "metadata": {
    "scrolled": false
   },
   "outputs": [
    {
     "data": {
      "text/html": [
       "<div>\n",
       "<style scoped>\n",
       "    .dataframe tbody tr th:only-of-type {\n",
       "        vertical-align: middle;\n",
       "    }\n",
       "\n",
       "    .dataframe tbody tr th {\n",
       "        vertical-align: top;\n",
       "    }\n",
       "\n",
       "    .dataframe thead th {\n",
       "        text-align: right;\n",
       "    }\n",
       "</style>\n",
       "<table border=\"1\" class=\"dataframe\">\n",
       "  <thead>\n",
       "    <tr style=\"text-align: right;\">\n",
       "      <th></th>\n",
       "      <th>title</th>\n",
       "      <th>studio</th>\n",
       "      <th>domestic_gross</th>\n",
       "      <th>foreign_gross</th>\n",
       "      <th>year</th>\n",
       "    </tr>\n",
       "  </thead>\n",
       "  <tbody>\n",
       "    <tr>\n",
       "      <th>0</th>\n",
       "      <td>Toy Story 3</td>\n",
       "      <td>BV</td>\n",
       "      <td>415000000.0</td>\n",
       "      <td>652000000</td>\n",
       "      <td>2010</td>\n",
       "    </tr>\n",
       "    <tr>\n",
       "      <th>1</th>\n",
       "      <td>Alice in Wonderland (2010)</td>\n",
       "      <td>BV</td>\n",
       "      <td>334200000.0</td>\n",
       "      <td>691300000</td>\n",
       "      <td>2010</td>\n",
       "    </tr>\n",
       "    <tr>\n",
       "      <th>2</th>\n",
       "      <td>Harry Potter and the Deathly Hallows Part 1</td>\n",
       "      <td>WB</td>\n",
       "      <td>296000000.0</td>\n",
       "      <td>664300000</td>\n",
       "      <td>2010</td>\n",
       "    </tr>\n",
       "    <tr>\n",
       "      <th>3</th>\n",
       "      <td>Inception</td>\n",
       "      <td>WB</td>\n",
       "      <td>292600000.0</td>\n",
       "      <td>535700000</td>\n",
       "      <td>2010</td>\n",
       "    </tr>\n",
       "    <tr>\n",
       "      <th>4</th>\n",
       "      <td>Shrek Forever After</td>\n",
       "      <td>P/DW</td>\n",
       "      <td>238700000.0</td>\n",
       "      <td>513900000</td>\n",
       "      <td>2010</td>\n",
       "    </tr>\n",
       "  </tbody>\n",
       "</table>\n",
       "</div>"
      ],
      "text/plain": [
       "                                         title studio  domestic_gross  \\\n",
       "0                                  Toy Story 3     BV     415000000.0   \n",
       "1                   Alice in Wonderland (2010)     BV     334200000.0   \n",
       "2  Harry Potter and the Deathly Hallows Part 1     WB     296000000.0   \n",
       "3                                    Inception     WB     292600000.0   \n",
       "4                          Shrek Forever After   P/DW     238700000.0   \n",
       "\n",
       "  foreign_gross  year  \n",
       "0     652000000  2010  \n",
       "1     691300000  2010  \n",
       "2     664300000  2010  \n",
       "3     535700000  2010  \n",
       "4     513900000  2010  "
      ]
     },
     "execution_count": 2,
     "metadata": {},
     "output_type": "execute_result"
    }
   ],
   "source": [
    "#Import data using read_csv function of pandas & load 5 rows for inspection\n",
    "#bom.movie_gross\n",
    "bom_movie = pd.read_csv('bom.movie_gross.csv.gz')\n",
    "bom_movie.head()"
   ]
  },
  {
   "cell_type": "markdown",
   "metadata": {},
   "source": [
    "### Data Exploration"
   ]
  },
  {
   "cell_type": "code",
   "execution_count": 3,
   "metadata": {},
   "outputs": [
    {
     "name": "stdout",
     "output_type": "stream",
     "text": [
      "<class 'pandas.core.frame.DataFrame'>\n",
      "RangeIndex: 3387 entries, 0 to 3386\n",
      "Data columns (total 5 columns):\n",
      " #   Column          Non-Null Count  Dtype  \n",
      "---  ------          --------------  -----  \n",
      " 0   title           3387 non-null   object \n",
      " 1   studio          3382 non-null   object \n",
      " 2   domestic_gross  3359 non-null   float64\n",
      " 3   foreign_gross   2037 non-null   object \n",
      " 4   year            3387 non-null   int64  \n",
      "dtypes: float64(1), int64(1), object(3)\n",
      "memory usage: 132.4+ KB\n"
     ]
    }
   ],
   "source": [
    "# examine the data info \n",
    "bom_movie.info()\n",
    "#The foreign_gross column even though it appears as an integer, its stored as an object,\n",
    "# thus not suitable for statistical analysis"
   ]
  },
  {
   "cell_type": "code",
   "execution_count": 4,
   "metadata": {},
   "outputs": [
    {
     "data": {
      "text/plain": [
       "title             False\n",
       "studio             True\n",
       "domestic_gross     True\n",
       "foreign_gross      True\n",
       "year              False\n",
       "dtype: bool"
      ]
     },
     "execution_count": 4,
     "metadata": {},
     "output_type": "execute_result"
    }
   ],
   "source": [
    "#Data inspection and exploration\n",
    "# Examine if there are missing values\n",
    "bom_movie.isna().any()\n",
    "# Studio column, domestic_gross and foreign_gross columns all have missing data.\n",
    "#Lets find out how many values are missing"
   ]
  },
  {
   "cell_type": "code",
   "execution_count": 5,
   "metadata": {},
   "outputs": [
    {
     "data": {
      "text/plain": [
       "title                0\n",
       "studio               5\n",
       "domestic_gross      28\n",
       "foreign_gross     1350\n",
       "year                 0\n",
       "dtype: int64"
      ]
     },
     "execution_count": 5,
     "metadata": {},
     "output_type": "execute_result"
    }
   ],
   "source": [
    "bom_movie.isna().sum()\n",
    "#foreign_gross have lots of missing data and hence we drop it\n",
    "#domestic gross column has few missing data, we therefore replace with  median value since the median does not distort the \n",
    "# overall data distribution.\n",
    "# Studio is a categorical data therefore since we cannot fill in missing information arbitraly, we fill null values with \n",
    "#missing"
   ]
  },
  {
   "cell_type": "code",
   "execution_count": 6,
   "metadata": {},
   "outputs": [],
   "source": [
    "bom_movie['domestic_gross'].fillna(bom_movie['domestic_gross'].median(), inplace = True)"
   ]
  },
  {
   "cell_type": "code",
   "execution_count": 7,
   "metadata": {
    "scrolled": true
   },
   "outputs": [],
   "source": [
    "bom_movie['studio'].fillna('Missing', inplace = True)"
   ]
  },
  {
   "cell_type": "code",
   "execution_count": 8,
   "metadata": {},
   "outputs": [],
   "source": [
    "bom_movie.drop('foreign_gross', axis=1, inplace=True)"
   ]
  },
  {
   "cell_type": "code",
   "execution_count": 9,
   "metadata": {},
   "outputs": [
    {
     "data": {
      "text/plain": [
       "title             0\n",
       "studio            0\n",
       "domestic_gross    0\n",
       "year              0\n",
       "dtype: int64"
      ]
     },
     "execution_count": 9,
     "metadata": {},
     "output_type": "execute_result"
    }
   ],
   "source": [
    "bom_movie.isna().sum()"
   ]
  },
  {
   "cell_type": "code",
   "execution_count": 10,
   "metadata": {},
   "outputs": [
    {
     "data": {
      "text/plain": [
       "array(['Toy Story 3', 'Alice in Wonderland (2010)',\n",
       "       'Harry Potter and the Deathly Hallows Part 1', ..., 'El Pacto',\n",
       "       'The Swan', 'An Actor Prepares'], dtype=object)"
      ]
     },
     "execution_count": 10,
     "metadata": {},
     "output_type": "execute_result"
    }
   ],
   "source": [
    "#Lets now detect if there are any placeholder values in the remaining columns\n",
    "bom_movie['title'].unique()"
   ]
  },
  {
   "cell_type": "code",
   "execution_count": 11,
   "metadata": {
    "scrolled": true
   },
   "outputs": [
    {
     "data": {
      "text/plain": [
       "array(['BV', 'WB', 'P/DW', 'Sum.', 'Par.', 'Uni.', 'Fox', 'Wein.', 'Sony',\n",
       "       'FoxS', 'SGem', 'WB (NL)', 'LGF', 'MBox', 'CL', 'W/Dim.', 'CBS',\n",
       "       'Focus', 'MGM', 'Over.', 'Mira.', 'IFC', 'CJ', 'NM', 'SPC', 'ParV',\n",
       "       'Gold.', 'JS', 'RAtt.', 'Magn.', 'Free', '3D', 'UTV', 'Rela.',\n",
       "       'Zeit.', 'Anch.', 'PDA', 'Lorb.', 'App.', 'Drft.', 'Osci.', 'IW',\n",
       "       'Rog.', 'Missing', 'Eros', 'Relbig.', 'Viv.', 'Hann.', 'Strand',\n",
       "       'NGE', 'Scre.', 'Kino', 'Abr.', 'CZ', 'ATO', 'First', 'GK',\n",
       "       'FInd.', 'NFC', 'TFC', 'Pala.', 'Imag.', 'NAV', 'Arth.', 'CLS',\n",
       "       'Mont.', 'Olive', 'CGld', 'FOAK', 'IVP', 'Yash', 'ICir', 'FM',\n",
       "       'Vita.', 'WOW', 'Truly', 'Indic.', 'FD', 'Vari.', 'TriS', 'ORF',\n",
       "       'IM', 'Elev.', 'Cohen', 'NeoC', 'Jan.', 'MNE', 'Trib.', 'Rocket',\n",
       "       'OMNI/FSR', 'KKM', 'Argo.', 'SMod', 'Libre', 'FRun', 'WHE', 'P4',\n",
       "       'KC', 'SD', 'AM', 'MPFT', 'Icar.', 'AGF', 'A23', 'Da.', 'NYer',\n",
       "       'Rialto', 'DF', 'KL', 'ALP', 'LG/S', 'WGUSA', 'MPI', 'RTWC', 'FIP',\n",
       "       'RF', 'ArcEnt', 'PalUni', 'EpicPics', 'EOne', 'LD', 'AF', 'TFA',\n",
       "       'Myr.', 'BM&DH', 'SEG', 'PalT', 'Outs', 'OutF', 'BSM', 'WAMCR',\n",
       "       'PM&E', 'A24', 'Cdgm.', 'Distrib.', 'Imax', 'PH', 'HTR', 'ELS',\n",
       "       'PI', 'E1', 'TVC', 'FEF', 'EXCL', 'MSF', 'P/108', 'FCW', 'XL',\n",
       "       'Shout!', 'SV', 'CE', 'VPD', 'KE', 'Saban', 'CF&SR', 'Triu', 'DR',\n",
       "       'Crnth', 'Ampl.', 'CP', 'Proud', 'BGP', 'Abk.', 'DLA', 'B360',\n",
       "       'BWP', 'SEA', 'RME', 'KS', 'VE', 'LGP', 'EC', 'FUN', 'STX', 'AR',\n",
       "       'BG', 'PFR', 'BST', 'BH Tilt', 'BSC', 'U/P', 'UHE', 'CLF', 'FR',\n",
       "       'AaF', 'Orch.', 'Alc', 'PBS', 'SHO', 'Grav.', 'Gathr', 'Asp.',\n",
       "       'ADC', 'Rel.', 'SM', 'AZ', 'UEP', 'ITL', 'TA', 'MR', 'BBC',\n",
       "       'CFilms', 'Part.', 'FOR', 'TAFC', 'JBG', 'PNT', 'CineGalaxy',\n",
       "       'Fathom', 'Zee', 'Men.', 'YFG', 'Gaatri', 'Mon', 'Ghop',\n",
       "       'Cleopatra', 'Dreamwest', 'SDS', 'Linn', 'Electric', 'Jampa', 'HC',\n",
       "       'GrtIndia', 'Neon', 'ENTMP', 'Good Deed', 'ParC', 'Aviron',\n",
       "       'Annapurna', 'Amazon', 'Affirm', 'MOM', 'Orion', 'CFI', 'UTMW',\n",
       "       'Crimson', 'CAVU', 'EF', 'Arrow', 'Hiber', 'Studio 8',\n",
       "       'Global Road', 'Trafalgar', 'Greenwich', 'Spanglish', 'Blue Fox',\n",
       "       'RLJ', 'Swen', 'PackYourBag', 'Gaum.', 'Grindstone',\n",
       "       'Conglomerate', 'MUBI', 'Darin Southa', 'Super', 'CARUSEL', 'PDF',\n",
       "       'Synergetic'], dtype=object)"
      ]
     },
     "execution_count": 11,
     "metadata": {},
     "output_type": "execute_result"
    }
   ],
   "source": [
    "bom_movie['studio'].unique()"
   ]
  },
  {
   "cell_type": "code",
   "execution_count": 12,
   "metadata": {
    "scrolled": true
   },
   "outputs": [
    {
     "data": {
      "text/plain": [
       "array([2010, 2011, 2012, 2013, 2014, 2015, 2016, 2017, 2018], dtype=int64)"
      ]
     },
     "execution_count": 12,
     "metadata": {},
     "output_type": "execute_result"
    }
   ],
   "source": [
    "bom_movie['year'].unique()\n",
    "#bom_movie dataset is now fully cleaned and can be used for analysis"
   ]
  },
  {
   "cell_type": "markdown",
   "metadata": {},
   "source": []
  },
  {
   "cell_type": "markdown",
   "metadata": {},
   "source": [
    "# 2. Loading the Movie budgets dataset"
   ]
  },
  {
   "cell_type": "code",
   "execution_count": 13,
   "metadata": {
    "scrolled": false
   },
   "outputs": [
    {
     "data": {
      "text/html": [
       "<div>\n",
       "<style scoped>\n",
       "    .dataframe tbody tr th:only-of-type {\n",
       "        vertical-align: middle;\n",
       "    }\n",
       "\n",
       "    .dataframe tbody tr th {\n",
       "        vertical-align: top;\n",
       "    }\n",
       "\n",
       "    .dataframe thead th {\n",
       "        text-align: right;\n",
       "    }\n",
       "</style>\n",
       "<table border=\"1\" class=\"dataframe\">\n",
       "  <thead>\n",
       "    <tr style=\"text-align: right;\">\n",
       "      <th></th>\n",
       "      <th>id</th>\n",
       "      <th>release_date</th>\n",
       "      <th>movie</th>\n",
       "      <th>production_budget</th>\n",
       "      <th>domestic_gross</th>\n",
       "      <th>worldwide_gross</th>\n",
       "    </tr>\n",
       "  </thead>\n",
       "  <tbody>\n",
       "    <tr>\n",
       "      <th>0</th>\n",
       "      <td>1</td>\n",
       "      <td>Dec 18, 2009</td>\n",
       "      <td>Avatar</td>\n",
       "      <td>$425,000,000</td>\n",
       "      <td>$760,507,625</td>\n",
       "      <td>$2,776,345,279</td>\n",
       "    </tr>\n",
       "    <tr>\n",
       "      <th>1</th>\n",
       "      <td>2</td>\n",
       "      <td>May 20, 2011</td>\n",
       "      <td>Pirates of the Caribbean: On Stranger Tides</td>\n",
       "      <td>$410,600,000</td>\n",
       "      <td>$241,063,875</td>\n",
       "      <td>$1,045,663,875</td>\n",
       "    </tr>\n",
       "    <tr>\n",
       "      <th>2</th>\n",
       "      <td>3</td>\n",
       "      <td>Jun 7, 2019</td>\n",
       "      <td>Dark Phoenix</td>\n",
       "      <td>$350,000,000</td>\n",
       "      <td>$42,762,350</td>\n",
       "      <td>$149,762,350</td>\n",
       "    </tr>\n",
       "    <tr>\n",
       "      <th>3</th>\n",
       "      <td>4</td>\n",
       "      <td>May 1, 2015</td>\n",
       "      <td>Avengers: Age of Ultron</td>\n",
       "      <td>$330,600,000</td>\n",
       "      <td>$459,005,868</td>\n",
       "      <td>$1,403,013,963</td>\n",
       "    </tr>\n",
       "    <tr>\n",
       "      <th>4</th>\n",
       "      <td>5</td>\n",
       "      <td>Dec 15, 2017</td>\n",
       "      <td>Star Wars Ep. VIII: The Last Jedi</td>\n",
       "      <td>$317,000,000</td>\n",
       "      <td>$620,181,382</td>\n",
       "      <td>$1,316,721,747</td>\n",
       "    </tr>\n",
       "  </tbody>\n",
       "</table>\n",
       "</div>"
      ],
      "text/plain": [
       "   id  release_date                                        movie  \\\n",
       "0   1  Dec 18, 2009                                       Avatar   \n",
       "1   2  May 20, 2011  Pirates of the Caribbean: On Stranger Tides   \n",
       "2   3   Jun 7, 2019                                 Dark Phoenix   \n",
       "3   4   May 1, 2015                      Avengers: Age of Ultron   \n",
       "4   5  Dec 15, 2017            Star Wars Ep. VIII: The Last Jedi   \n",
       "\n",
       "  production_budget domestic_gross worldwide_gross  \n",
       "0      $425,000,000   $760,507,625  $2,776,345,279  \n",
       "1      $410,600,000   $241,063,875  $1,045,663,875  \n",
       "2      $350,000,000    $42,762,350    $149,762,350  \n",
       "3      $330,600,000   $459,005,868  $1,403,013,963  \n",
       "4      $317,000,000   $620,181,382  $1,316,721,747  "
      ]
     },
     "execution_count": 13,
     "metadata": {},
     "output_type": "execute_result"
    }
   ],
   "source": [
    "budgets_movie = pd.read_csv('tn.movie_budgets.csv.gz')\n",
    "budgets_movie.head()"
   ]
  },
  {
   "cell_type": "markdown",
   "metadata": {},
   "source": [
    "### Data Exploration and Cleaning"
   ]
  },
  {
   "cell_type": "code",
   "execution_count": 14,
   "metadata": {
    "scrolled": false
   },
   "outputs": [
    {
     "name": "stdout",
     "output_type": "stream",
     "text": [
      "<class 'pandas.core.frame.DataFrame'>\n",
      "RangeIndex: 5782 entries, 0 to 5781\n",
      "Data columns (total 6 columns):\n",
      " #   Column             Non-Null Count  Dtype \n",
      "---  ------             --------------  ----- \n",
      " 0   id                 5782 non-null   int64 \n",
      " 1   release_date       5782 non-null   object\n",
      " 2   movie              5782 non-null   object\n",
      " 3   production_budget  5782 non-null   object\n",
      " 4   domestic_gross     5782 non-null   object\n",
      " 5   worldwide_gross    5782 non-null   object\n",
      "dtypes: int64(1), object(5)\n",
      "memory usage: 271.2+ KB\n"
     ]
    }
   ],
   "source": [
    "budgets_movie.info()"
   ]
  },
  {
   "cell_type": "markdown",
   "metadata": {},
   "source": [
    "A close examination of the info reveals that there dataset has no missing information. However, we needed to convert production_budget, domestic_gross and worldwide_gross from objects to floats by removing the commas and dollar sign to make the data suitable for statistical analysis. "
   ]
  },
  {
   "cell_type": "code",
   "execution_count": 15,
   "metadata": {
    "scrolled": true
   },
   "outputs": [
    {
     "name": "stdout",
     "output_type": "stream",
     "text": [
      "id                     int64\n",
      "release_date          object\n",
      "movie                 object\n",
      "production_budget    float64\n",
      "domestic_gross       float64\n",
      "worldwide_gross      float64\n",
      "dtype: object\n"
     ]
    },
    {
     "name": "stderr",
     "output_type": "stream",
     "text": [
      "C:\\Users\\USER PC\\AppData\\Local\\Temp\\ipykernel_13156\\3844833264.py:2: FutureWarning: The default value of regex will change from True to False in a future version. In addition, single character regular expressions will *not* be treated as literal strings when regex=True.\n",
      "  budgets_movie['production_budget'] = budgets_movie['production_budget'].str.replace('$', '').str.replace(',', '').astype(float)\n",
      "C:\\Users\\USER PC\\AppData\\Local\\Temp\\ipykernel_13156\\3844833264.py:3: FutureWarning: The default value of regex will change from True to False in a future version. In addition, single character regular expressions will *not* be treated as literal strings when regex=True.\n",
      "  budgets_movie['domestic_gross'] = budgets_movie['domestic_gross'].str.replace('$', '').str.replace(',', '').astype(float)\n",
      "C:\\Users\\USER PC\\AppData\\Local\\Temp\\ipykernel_13156\\3844833264.py:4: FutureWarning: The default value of regex will change from True to False in a future version. In addition, single character regular expressions will *not* be treated as literal strings when regex=True.\n",
      "  budgets_movie['worldwide_gross'] = budgets_movie['worldwide_gross'].str.replace('$', '').str.replace(',', '').astype(float)\n"
     ]
    }
   ],
   "source": [
    "# Remove commas, $ signs and store columns as datatype float\n",
    "budgets_movie['production_budget'] = budgets_movie['production_budget'].str.replace('$', '').str.replace(',', '').astype(float)\n",
    "budgets_movie['domestic_gross'] = budgets_movie['domestic_gross'].str.replace('$', '').str.replace(',', '').astype(float)\n",
    "budgets_movie['worldwide_gross'] = budgets_movie['worldwide_gross'].str.replace('$', '').str.replace(',', '').astype(float)\n",
    "#confirm that columns are now stored as floats\n",
    "print(budgets_movie.dtypes)\n"
   ]
  },
  {
   "cell_type": "code",
   "execution_count": 16,
   "metadata": {},
   "outputs": [
    {
     "data": {
      "text/plain": [
       "id                   0\n",
       "release_date         0\n",
       "movie                0\n",
       "production_budget    0\n",
       "domestic_gross       0\n",
       "worldwide_gross      0\n",
       "dtype: int64"
      ]
     },
     "execution_count": 16,
     "metadata": {},
     "output_type": "execute_result"
    }
   ],
   "source": [
    "#confirm that there is no missing information\n",
    "budgets_movie.isna().sum()\n",
    "#There is no missing data, we proceed to check for any special placeholder valuesb"
   ]
  },
  {
   "cell_type": "code",
   "execution_count": 17,
   "metadata": {},
   "outputs": [
    {
     "data": {
      "text/plain": [
       "array(['Dec 18, 2009', 'May 20, 2011', 'Jun 7, 2019', ..., 'Aug 14, 2008',\n",
       "       'Feb 26, 1993', 'Jul 13, 2005'], dtype=object)"
      ]
     },
     "execution_count": 17,
     "metadata": {},
     "output_type": "execute_result"
    }
   ],
   "source": [
    "budgets_movie['release_date'].unique()"
   ]
  },
  {
   "cell_type": "code",
   "execution_count": 18,
   "metadata": {
    "scrolled": false
   },
   "outputs": [
    {
     "data": {
      "text/plain": [
       "array(['Avatar', 'Pirates of the Caribbean: On Stranger Tides',\n",
       "       'Dark Phoenix', ..., 'Return to the Land of Wonders',\n",
       "       'A Plague So Pleasant', 'My Date With Drew'], dtype=object)"
      ]
     },
     "execution_count": 18,
     "metadata": {},
     "output_type": "execute_result"
    }
   ],
   "source": [
    "budgets_movie['movie'].unique()\n",
    "#The data is cleaned and ready to be used for analysis"
   ]
  },
  {
   "cell_type": "markdown",
   "metadata": {},
   "source": [
    "I needed to develop a profitability column that measures the Return on Investment for each movie. Therefore i proceeded to add a new column called ROI that measures the Rate of Return for each movie based on its domestic and world gross box revenues and rounded the figure to 2 decimal places. Its stored as datatype float."
   ]
  },
  {
   "cell_type": "code",
   "execution_count": 19,
   "metadata": {},
   "outputs": [],
   "source": [
    "budgets_movie['ROI'] = round(((budgets_movie['domestic_gross'] + budgets_movie['worldwide_gross'])-budgets_movie['production_budget']) / budgets_movie['production_budget'],2)"
   ]
  },
  {
   "cell_type": "code",
   "execution_count": 20,
   "metadata": {
    "scrolled": false
   },
   "outputs": [
    {
     "data": {
      "text/html": [
       "<div>\n",
       "<style scoped>\n",
       "    .dataframe tbody tr th:only-of-type {\n",
       "        vertical-align: middle;\n",
       "    }\n",
       "\n",
       "    .dataframe tbody tr th {\n",
       "        vertical-align: top;\n",
       "    }\n",
       "\n",
       "    .dataframe thead th {\n",
       "        text-align: right;\n",
       "    }\n",
       "</style>\n",
       "<table border=\"1\" class=\"dataframe\">\n",
       "  <thead>\n",
       "    <tr style=\"text-align: right;\">\n",
       "      <th></th>\n",
       "      <th>id</th>\n",
       "      <th>release_date</th>\n",
       "      <th>movie</th>\n",
       "      <th>production_budget</th>\n",
       "      <th>domestic_gross</th>\n",
       "      <th>worldwide_gross</th>\n",
       "      <th>ROI</th>\n",
       "    </tr>\n",
       "  </thead>\n",
       "  <tbody>\n",
       "    <tr>\n",
       "      <th>0</th>\n",
       "      <td>1</td>\n",
       "      <td>Dec 18, 2009</td>\n",
       "      <td>Avatar</td>\n",
       "      <td>425000000.0</td>\n",
       "      <td>760507625.0</td>\n",
       "      <td>2.776345e+09</td>\n",
       "      <td>7.32</td>\n",
       "    </tr>\n",
       "    <tr>\n",
       "      <th>1</th>\n",
       "      <td>2</td>\n",
       "      <td>May 20, 2011</td>\n",
       "      <td>Pirates of the Caribbean: On Stranger Tides</td>\n",
       "      <td>410600000.0</td>\n",
       "      <td>241063875.0</td>\n",
       "      <td>1.045664e+09</td>\n",
       "      <td>2.13</td>\n",
       "    </tr>\n",
       "    <tr>\n",
       "      <th>2</th>\n",
       "      <td>3</td>\n",
       "      <td>Jun 7, 2019</td>\n",
       "      <td>Dark Phoenix</td>\n",
       "      <td>350000000.0</td>\n",
       "      <td>42762350.0</td>\n",
       "      <td>1.497624e+08</td>\n",
       "      <td>-0.45</td>\n",
       "    </tr>\n",
       "    <tr>\n",
       "      <th>3</th>\n",
       "      <td>4</td>\n",
       "      <td>May 1, 2015</td>\n",
       "      <td>Avengers: Age of Ultron</td>\n",
       "      <td>330600000.0</td>\n",
       "      <td>459005868.0</td>\n",
       "      <td>1.403014e+09</td>\n",
       "      <td>4.63</td>\n",
       "    </tr>\n",
       "    <tr>\n",
       "      <th>4</th>\n",
       "      <td>5</td>\n",
       "      <td>Dec 15, 2017</td>\n",
       "      <td>Star Wars Ep. VIII: The Last Jedi</td>\n",
       "      <td>317000000.0</td>\n",
       "      <td>620181382.0</td>\n",
       "      <td>1.316722e+09</td>\n",
       "      <td>5.11</td>\n",
       "    </tr>\n",
       "  </tbody>\n",
       "</table>\n",
       "</div>"
      ],
      "text/plain": [
       "   id  release_date                                        movie  \\\n",
       "0   1  Dec 18, 2009                                       Avatar   \n",
       "1   2  May 20, 2011  Pirates of the Caribbean: On Stranger Tides   \n",
       "2   3   Jun 7, 2019                                 Dark Phoenix   \n",
       "3   4   May 1, 2015                      Avengers: Age of Ultron   \n",
       "4   5  Dec 15, 2017            Star Wars Ep. VIII: The Last Jedi   \n",
       "\n",
       "   production_budget  domestic_gross  worldwide_gross   ROI  \n",
       "0        425000000.0     760507625.0     2.776345e+09  7.32  \n",
       "1        410600000.0     241063875.0     1.045664e+09  2.13  \n",
       "2        350000000.0      42762350.0     1.497624e+08 -0.45  \n",
       "3        330600000.0     459005868.0     1.403014e+09  4.63  \n",
       "4        317000000.0     620181382.0     1.316722e+09  5.11  "
      ]
     },
     "execution_count": 20,
     "metadata": {},
     "output_type": "execute_result"
    }
   ],
   "source": [
    "budgets_movie.head()"
   ]
  },
  {
   "cell_type": "markdown",
   "metadata": {},
   "source": []
  },
  {
   "cell_type": "markdown",
   "metadata": {},
   "source": [
    "# 3. Loading Movie Information "
   ]
  },
  {
   "cell_type": "code",
   "execution_count": 21,
   "metadata": {
    "scrolled": true
   },
   "outputs": [
    {
     "data": {
      "text/html": [
       "<div>\n",
       "<style scoped>\n",
       "    .dataframe tbody tr th:only-of-type {\n",
       "        vertical-align: middle;\n",
       "    }\n",
       "\n",
       "    .dataframe tbody tr th {\n",
       "        vertical-align: top;\n",
       "    }\n",
       "\n",
       "    .dataframe thead th {\n",
       "        text-align: right;\n",
       "    }\n",
       "</style>\n",
       "<table border=\"1\" class=\"dataframe\">\n",
       "  <thead>\n",
       "    <tr style=\"text-align: right;\">\n",
       "      <th></th>\n",
       "      <th>id</th>\n",
       "      <th>synopsis</th>\n",
       "      <th>rating</th>\n",
       "      <th>genre</th>\n",
       "      <th>director</th>\n",
       "      <th>writer</th>\n",
       "      <th>theater_date</th>\n",
       "      <th>dvd_date</th>\n",
       "      <th>currency</th>\n",
       "      <th>box_office</th>\n",
       "      <th>runtime</th>\n",
       "      <th>studio</th>\n",
       "    </tr>\n",
       "  </thead>\n",
       "  <tbody>\n",
       "    <tr>\n",
       "      <th>0</th>\n",
       "      <td>1</td>\n",
       "      <td>This gritty, fast-paced, and innovative police...</td>\n",
       "      <td>R</td>\n",
       "      <td>Action and Adventure|Classics|Drama</td>\n",
       "      <td>William Friedkin</td>\n",
       "      <td>Ernest Tidyman</td>\n",
       "      <td>Oct 9, 1971</td>\n",
       "      <td>Sep 25, 2001</td>\n",
       "      <td>NaN</td>\n",
       "      <td>NaN</td>\n",
       "      <td>104 minutes</td>\n",
       "      <td>NaN</td>\n",
       "    </tr>\n",
       "    <tr>\n",
       "      <th>1</th>\n",
       "      <td>3</td>\n",
       "      <td>New York City, not-too-distant-future: Eric Pa...</td>\n",
       "      <td>R</td>\n",
       "      <td>Drama|Science Fiction and Fantasy</td>\n",
       "      <td>David Cronenberg</td>\n",
       "      <td>David Cronenberg|Don DeLillo</td>\n",
       "      <td>Aug 17, 2012</td>\n",
       "      <td>Jan 1, 2013</td>\n",
       "      <td>$</td>\n",
       "      <td>600,000</td>\n",
       "      <td>108 minutes</td>\n",
       "      <td>Entertainment One</td>\n",
       "    </tr>\n",
       "    <tr>\n",
       "      <th>2</th>\n",
       "      <td>5</td>\n",
       "      <td>Illeana Douglas delivers a superb performance ...</td>\n",
       "      <td>R</td>\n",
       "      <td>Drama|Musical and Performing Arts</td>\n",
       "      <td>Allison Anders</td>\n",
       "      <td>Allison Anders</td>\n",
       "      <td>Sep 13, 1996</td>\n",
       "      <td>Apr 18, 2000</td>\n",
       "      <td>NaN</td>\n",
       "      <td>NaN</td>\n",
       "      <td>116 minutes</td>\n",
       "      <td>NaN</td>\n",
       "    </tr>\n",
       "    <tr>\n",
       "      <th>3</th>\n",
       "      <td>6</td>\n",
       "      <td>Michael Douglas runs afoul of a treacherous su...</td>\n",
       "      <td>R</td>\n",
       "      <td>Drama|Mystery and Suspense</td>\n",
       "      <td>Barry Levinson</td>\n",
       "      <td>Paul Attanasio|Michael Crichton</td>\n",
       "      <td>Dec 9, 1994</td>\n",
       "      <td>Aug 27, 1997</td>\n",
       "      <td>NaN</td>\n",
       "      <td>NaN</td>\n",
       "      <td>128 minutes</td>\n",
       "      <td>NaN</td>\n",
       "    </tr>\n",
       "    <tr>\n",
       "      <th>4</th>\n",
       "      <td>7</td>\n",
       "      <td>NaN</td>\n",
       "      <td>NR</td>\n",
       "      <td>Drama|Romance</td>\n",
       "      <td>Rodney Bennett</td>\n",
       "      <td>Giles Cooper</td>\n",
       "      <td>NaN</td>\n",
       "      <td>NaN</td>\n",
       "      <td>NaN</td>\n",
       "      <td>NaN</td>\n",
       "      <td>200 minutes</td>\n",
       "      <td>NaN</td>\n",
       "    </tr>\n",
       "  </tbody>\n",
       "</table>\n",
       "</div>"
      ],
      "text/plain": [
       "   id                                           synopsis rating  \\\n",
       "0   1  This gritty, fast-paced, and innovative police...      R   \n",
       "1   3  New York City, not-too-distant-future: Eric Pa...      R   \n",
       "2   5  Illeana Douglas delivers a superb performance ...      R   \n",
       "3   6  Michael Douglas runs afoul of a treacherous su...      R   \n",
       "4   7                                                NaN     NR   \n",
       "\n",
       "                                 genre          director  \\\n",
       "0  Action and Adventure|Classics|Drama  William Friedkin   \n",
       "1    Drama|Science Fiction and Fantasy  David Cronenberg   \n",
       "2    Drama|Musical and Performing Arts    Allison Anders   \n",
       "3           Drama|Mystery and Suspense    Barry Levinson   \n",
       "4                        Drama|Romance    Rodney Bennett   \n",
       "\n",
       "                            writer  theater_date      dvd_date currency  \\\n",
       "0                   Ernest Tidyman   Oct 9, 1971  Sep 25, 2001      NaN   \n",
       "1     David Cronenberg|Don DeLillo  Aug 17, 2012   Jan 1, 2013        $   \n",
       "2                   Allison Anders  Sep 13, 1996  Apr 18, 2000      NaN   \n",
       "3  Paul Attanasio|Michael Crichton   Dec 9, 1994  Aug 27, 1997      NaN   \n",
       "4                     Giles Cooper           NaN           NaN      NaN   \n",
       "\n",
       "  box_office      runtime             studio  \n",
       "0        NaN  104 minutes                NaN  \n",
       "1    600,000  108 minutes  Entertainment One  \n",
       "2        NaN  116 minutes                NaN  \n",
       "3        NaN  128 minutes                NaN  \n",
       "4        NaN  200 minutes                NaN  "
      ]
     },
     "execution_count": 21,
     "metadata": {},
     "output_type": "execute_result"
    }
   ],
   "source": [
    "movie_info = pd.read_csv('rt.movie_info.tsv.gz', delimiter = '\\t')\n",
    "movie_info.head()"
   ]
  },
  {
   "cell_type": "code",
   "execution_count": 22,
   "metadata": {},
   "outputs": [
    {
     "name": "stdout",
     "output_type": "stream",
     "text": [
      "<class 'pandas.core.frame.DataFrame'>\n",
      "RangeIndex: 1560 entries, 0 to 1559\n",
      "Data columns (total 12 columns):\n",
      " #   Column        Non-Null Count  Dtype \n",
      "---  ------        --------------  ----- \n",
      " 0   id            1560 non-null   int64 \n",
      " 1   synopsis      1498 non-null   object\n",
      " 2   rating        1557 non-null   object\n",
      " 3   genre         1552 non-null   object\n",
      " 4   director      1361 non-null   object\n",
      " 5   writer        1111 non-null   object\n",
      " 6   theater_date  1201 non-null   object\n",
      " 7   dvd_date      1201 non-null   object\n",
      " 8   currency      340 non-null    object\n",
      " 9   box_office    340 non-null    object\n",
      " 10  runtime       1530 non-null   object\n",
      " 11  studio        494 non-null    object\n",
      "dtypes: int64(1), object(11)\n",
      "memory usage: 146.4+ KB\n"
     ]
    }
   ],
   "source": [
    "movie_info.info()\n",
    "#This data has 1560 entries but it appears individual columns of currency, box_office, studio have lots of missing data. \n",
    "#We count the missing values"
   ]
  },
  {
   "cell_type": "code",
   "execution_count": 23,
   "metadata": {},
   "outputs": [
    {
     "data": {
      "text/plain": [
       "id                 0\n",
       "synopsis          62\n",
       "rating             3\n",
       "genre              8\n",
       "director         199\n",
       "writer           449\n",
       "theater_date     359\n",
       "dvd_date         359\n",
       "currency        1220\n",
       "box_office      1220\n",
       "runtime           30\n",
       "studio          1066\n",
       "dtype: int64"
      ]
     },
     "execution_count": 23,
     "metadata": {},
     "output_type": "execute_result"
    }
   ],
   "source": [
    "movie_info.isna().sum()"
   ]
  },
  {
   "cell_type": "code",
   "execution_count": 24,
   "metadata": {
    "scrolled": true
   },
   "outputs": [
    {
     "data": {
      "text/plain": [
       "id                0\n",
       "synopsis         62\n",
       "rating            3\n",
       "genre             8\n",
       "director        199\n",
       "writer          449\n",
       "theater_date    359\n",
       "dvd_date        359\n",
       "runtime          30\n",
       "dtype: int64"
      ]
     },
     "execution_count": 24,
     "metadata": {},
     "output_type": "execute_result"
    }
   ],
   "source": [
    "#We drop currency, box_office, studio columns since there are lots of missing values\n",
    "movie_info.drop(['currency','box_office','studio'], axis=1, inplace=True)\n",
    "movie_info.isna().sum()\n"
   ]
  },
  {
   "cell_type": "code",
   "execution_count": 25,
   "metadata": {},
   "outputs": [
    {
     "name": "stdout",
     "output_type": "stream",
     "text": [
      "90 minutes     72\n",
      "95 minutes     66\n",
      "100 minutes    51\n",
      "93 minutes     47\n",
      "96 minutes     43\n",
      "Name: runtime, dtype: int64\n"
     ]
    }
   ],
   "source": [
    "# Count the top 5 most common runtime in minutes \n",
    "top_5 = movie_info['runtime'].value_counts().head()\n",
    "print(top_5)"
   ]
  },
  {
   "cell_type": "markdown",
   "metadata": {},
   "source": []
  },
  {
   "cell_type": "markdown",
   "metadata": {},
   "source": [
    "# 4. Loading Movie reviews Dataset"
   ]
  },
  {
   "cell_type": "code",
   "execution_count": 26,
   "metadata": {},
   "outputs": [
    {
     "data": {
      "text/html": [
       "<div>\n",
       "<style scoped>\n",
       "    .dataframe tbody tr th:only-of-type {\n",
       "        vertical-align: middle;\n",
       "    }\n",
       "\n",
       "    .dataframe tbody tr th {\n",
       "        vertical-align: top;\n",
       "    }\n",
       "\n",
       "    .dataframe thead th {\n",
       "        text-align: right;\n",
       "    }\n",
       "</style>\n",
       "<table border=\"1\" class=\"dataframe\">\n",
       "  <thead>\n",
       "    <tr style=\"text-align: right;\">\n",
       "      <th></th>\n",
       "      <th>id</th>\n",
       "      <th>review</th>\n",
       "      <th>rating</th>\n",
       "      <th>fresh</th>\n",
       "      <th>critic</th>\n",
       "      <th>top_critic</th>\n",
       "      <th>publisher</th>\n",
       "      <th>date</th>\n",
       "    </tr>\n",
       "  </thead>\n",
       "  <tbody>\n",
       "    <tr>\n",
       "      <th>0</th>\n",
       "      <td>3</td>\n",
       "      <td>A distinctly gallows take on contemporary fina...</td>\n",
       "      <td>3/5</td>\n",
       "      <td>fresh</td>\n",
       "      <td>PJ Nabarro</td>\n",
       "      <td>0</td>\n",
       "      <td>Patrick Nabarro</td>\n",
       "      <td>November 10, 2018</td>\n",
       "    </tr>\n",
       "    <tr>\n",
       "      <th>1</th>\n",
       "      <td>3</td>\n",
       "      <td>It's an allegory in search of a meaning that n...</td>\n",
       "      <td>NaN</td>\n",
       "      <td>rotten</td>\n",
       "      <td>Annalee Newitz</td>\n",
       "      <td>0</td>\n",
       "      <td>io9.com</td>\n",
       "      <td>May 23, 2018</td>\n",
       "    </tr>\n",
       "    <tr>\n",
       "      <th>2</th>\n",
       "      <td>3</td>\n",
       "      <td>... life lived in a bubble in financial dealin...</td>\n",
       "      <td>NaN</td>\n",
       "      <td>fresh</td>\n",
       "      <td>Sean Axmaker</td>\n",
       "      <td>0</td>\n",
       "      <td>Stream on Demand</td>\n",
       "      <td>January 4, 2018</td>\n",
       "    </tr>\n",
       "    <tr>\n",
       "      <th>3</th>\n",
       "      <td>3</td>\n",
       "      <td>Continuing along a line introduced in last yea...</td>\n",
       "      <td>NaN</td>\n",
       "      <td>fresh</td>\n",
       "      <td>Daniel Kasman</td>\n",
       "      <td>0</td>\n",
       "      <td>MUBI</td>\n",
       "      <td>November 16, 2017</td>\n",
       "    </tr>\n",
       "    <tr>\n",
       "      <th>4</th>\n",
       "      <td>3</td>\n",
       "      <td>... a perverse twist on neorealism...</td>\n",
       "      <td>NaN</td>\n",
       "      <td>fresh</td>\n",
       "      <td>NaN</td>\n",
       "      <td>0</td>\n",
       "      <td>Cinema Scope</td>\n",
       "      <td>October 12, 2017</td>\n",
       "    </tr>\n",
       "  </tbody>\n",
       "</table>\n",
       "</div>"
      ],
      "text/plain": [
       "   id                                             review rating   fresh  \\\n",
       "0   3  A distinctly gallows take on contemporary fina...    3/5   fresh   \n",
       "1   3  It's an allegory in search of a meaning that n...    NaN  rotten   \n",
       "2   3  ... life lived in a bubble in financial dealin...    NaN   fresh   \n",
       "3   3  Continuing along a line introduced in last yea...    NaN   fresh   \n",
       "4   3             ... a perverse twist on neorealism...     NaN   fresh   \n",
       "\n",
       "           critic  top_critic         publisher               date  \n",
       "0      PJ Nabarro           0   Patrick Nabarro  November 10, 2018  \n",
       "1  Annalee Newitz           0           io9.com       May 23, 2018  \n",
       "2    Sean Axmaker           0  Stream on Demand    January 4, 2018  \n",
       "3   Daniel Kasman           0              MUBI  November 16, 2017  \n",
       "4             NaN           0      Cinema Scope   October 12, 2017  "
      ]
     },
     "execution_count": 26,
     "metadata": {},
     "output_type": "execute_result"
    }
   ],
   "source": [
    "movie_rev = pd.read_csv('rt.reviews.tsv.gz', sep='\\t', encoding='unicode_escape')\n",
    "movie_rev.head() "
   ]
  },
  {
   "cell_type": "code",
   "execution_count": 27,
   "metadata": {},
   "outputs": [
    {
     "name": "stdout",
     "output_type": "stream",
     "text": [
      "<class 'pandas.core.frame.DataFrame'>\n",
      "RangeIndex: 54432 entries, 0 to 54431\n",
      "Data columns (total 8 columns):\n",
      " #   Column      Non-Null Count  Dtype \n",
      "---  ------      --------------  ----- \n",
      " 0   id          54432 non-null  int64 \n",
      " 1   review      48869 non-null  object\n",
      " 2   rating      40915 non-null  object\n",
      " 3   fresh       54432 non-null  object\n",
      " 4   critic      51710 non-null  object\n",
      " 5   top_critic  54432 non-null  int64 \n",
      " 6   publisher   54123 non-null  object\n",
      " 7   date        54432 non-null  object\n",
      "dtypes: int64(2), object(6)\n",
      "memory usage: 3.3+ MB\n"
     ]
    }
   ],
   "source": [
    "movie_rev.info()\n",
    "#there is obviously missing data"
   ]
  },
  {
   "cell_type": "code",
   "execution_count": 28,
   "metadata": {},
   "outputs": [
    {
     "data": {
      "text/plain": [
       "id                0\n",
       "review         5563\n",
       "rating        13517\n",
       "fresh             0\n",
       "critic         2722\n",
       "top_critic        0\n",
       "publisher       309\n",
       "date              0\n",
       "dtype: int64"
      ]
     },
     "execution_count": 28,
     "metadata": {},
     "output_type": "execute_result"
    }
   ],
   "source": [
    "movie_rev.isna().sum()"
   ]
  },
  {
   "cell_type": "code",
   "execution_count": 29,
   "metadata": {},
   "outputs": [
    {
     "name": "stdout",
     "output_type": "stream",
     "text": [
      "Emanuel Levy          595\n",
      "Roger Ebert           461\n",
      "Dennis Schwartz       413\n",
      "Nell Minow            372\n",
      "Frank Swietek         348\n",
      "James Berardinelli    348\n",
      "Name: critic, dtype: int64\n"
     ]
    }
   ],
   "source": [
    "top_6 = movie_rev['critic'].value_counts().head(6)\n",
    "print(top_6)"
   ]
  },
  {
   "cell_type": "markdown",
   "metadata": {},
   "source": [
    "# 5. Loading TMDB Movie review dataset"
   ]
  },
  {
   "cell_type": "code",
   "execution_count": 30,
   "metadata": {},
   "outputs": [
    {
     "data": {
      "text/html": [
       "<div>\n",
       "<style scoped>\n",
       "    .dataframe tbody tr th:only-of-type {\n",
       "        vertical-align: middle;\n",
       "    }\n",
       "\n",
       "    .dataframe tbody tr th {\n",
       "        vertical-align: top;\n",
       "    }\n",
       "\n",
       "    .dataframe thead th {\n",
       "        text-align: right;\n",
       "    }\n",
       "</style>\n",
       "<table border=\"1\" class=\"dataframe\">\n",
       "  <thead>\n",
       "    <tr style=\"text-align: right;\">\n",
       "      <th></th>\n",
       "      <th>Unnamed: 0</th>\n",
       "      <th>genre_ids</th>\n",
       "      <th>id</th>\n",
       "      <th>original_language</th>\n",
       "      <th>original_title</th>\n",
       "      <th>popularity</th>\n",
       "      <th>release_date</th>\n",
       "      <th>title</th>\n",
       "      <th>vote_average</th>\n",
       "      <th>vote_count</th>\n",
       "    </tr>\n",
       "  </thead>\n",
       "  <tbody>\n",
       "    <tr>\n",
       "      <th>0</th>\n",
       "      <td>0</td>\n",
       "      <td>[12, 14, 10751]</td>\n",
       "      <td>12444</td>\n",
       "      <td>en</td>\n",
       "      <td>Harry Potter and the Deathly Hallows: Part 1</td>\n",
       "      <td>33.533</td>\n",
       "      <td>2010-11-19</td>\n",
       "      <td>Harry Potter and the Deathly Hallows: Part 1</td>\n",
       "      <td>7.7</td>\n",
       "      <td>10788</td>\n",
       "    </tr>\n",
       "    <tr>\n",
       "      <th>1</th>\n",
       "      <td>1</td>\n",
       "      <td>[14, 12, 16, 10751]</td>\n",
       "      <td>10191</td>\n",
       "      <td>en</td>\n",
       "      <td>How to Train Your Dragon</td>\n",
       "      <td>28.734</td>\n",
       "      <td>2010-03-26</td>\n",
       "      <td>How to Train Your Dragon</td>\n",
       "      <td>7.7</td>\n",
       "      <td>7610</td>\n",
       "    </tr>\n",
       "    <tr>\n",
       "      <th>2</th>\n",
       "      <td>2</td>\n",
       "      <td>[12, 28, 878]</td>\n",
       "      <td>10138</td>\n",
       "      <td>en</td>\n",
       "      <td>Iron Man 2</td>\n",
       "      <td>28.515</td>\n",
       "      <td>2010-05-07</td>\n",
       "      <td>Iron Man 2</td>\n",
       "      <td>6.8</td>\n",
       "      <td>12368</td>\n",
       "    </tr>\n",
       "    <tr>\n",
       "      <th>3</th>\n",
       "      <td>3</td>\n",
       "      <td>[16, 35, 10751]</td>\n",
       "      <td>862</td>\n",
       "      <td>en</td>\n",
       "      <td>Toy Story</td>\n",
       "      <td>28.005</td>\n",
       "      <td>1995-11-22</td>\n",
       "      <td>Toy Story</td>\n",
       "      <td>7.9</td>\n",
       "      <td>10174</td>\n",
       "    </tr>\n",
       "    <tr>\n",
       "      <th>4</th>\n",
       "      <td>4</td>\n",
       "      <td>[28, 878, 12]</td>\n",
       "      <td>27205</td>\n",
       "      <td>en</td>\n",
       "      <td>Inception</td>\n",
       "      <td>27.920</td>\n",
       "      <td>2010-07-16</td>\n",
       "      <td>Inception</td>\n",
       "      <td>8.3</td>\n",
       "      <td>22186</td>\n",
       "    </tr>\n",
       "  </tbody>\n",
       "</table>\n",
       "</div>"
      ],
      "text/plain": [
       "   Unnamed: 0            genre_ids     id original_language  \\\n",
       "0           0      [12, 14, 10751]  12444                en   \n",
       "1           1  [14, 12, 16, 10751]  10191                en   \n",
       "2           2        [12, 28, 878]  10138                en   \n",
       "3           3      [16, 35, 10751]    862                en   \n",
       "4           4        [28, 878, 12]  27205                en   \n",
       "\n",
       "                                 original_title  popularity release_date  \\\n",
       "0  Harry Potter and the Deathly Hallows: Part 1      33.533   2010-11-19   \n",
       "1                      How to Train Your Dragon      28.734   2010-03-26   \n",
       "2                                    Iron Man 2      28.515   2010-05-07   \n",
       "3                                     Toy Story      28.005   1995-11-22   \n",
       "4                                     Inception      27.920   2010-07-16   \n",
       "\n",
       "                                          title  vote_average  vote_count  \n",
       "0  Harry Potter and the Deathly Hallows: Part 1           7.7       10788  \n",
       "1                      How to Train Your Dragon           7.7        7610  \n",
       "2                                    Iron Man 2           6.8       12368  \n",
       "3                                     Toy Story           7.9       10174  \n",
       "4                                     Inception           8.3       22186  "
      ]
     },
     "execution_count": 30,
     "metadata": {},
     "output_type": "execute_result"
    }
   ],
   "source": [
    "tmdb_movie = pd.read_csv('tmdb.movies.csv.gz')\n",
    "tmdb_movie.head()"
   ]
  },
  {
   "cell_type": "code",
   "execution_count": 31,
   "metadata": {},
   "outputs": [
    {
     "name": "stdout",
     "output_type": "stream",
     "text": [
      "<class 'pandas.core.frame.DataFrame'>\n",
      "RangeIndex: 26517 entries, 0 to 26516\n",
      "Data columns (total 10 columns):\n",
      " #   Column             Non-Null Count  Dtype  \n",
      "---  ------             --------------  -----  \n",
      " 0   Unnamed: 0         26517 non-null  int64  \n",
      " 1   genre_ids          26517 non-null  object \n",
      " 2   id                 26517 non-null  int64  \n",
      " 3   original_language  26517 non-null  object \n",
      " 4   original_title     26517 non-null  object \n",
      " 5   popularity         26517 non-null  float64\n",
      " 6   release_date       26517 non-null  object \n",
      " 7   title              26517 non-null  object \n",
      " 8   vote_average       26517 non-null  float64\n",
      " 9   vote_count         26517 non-null  int64  \n",
      "dtypes: float64(2), int64(3), object(5)\n",
      "memory usage: 2.0+ MB\n"
     ]
    }
   ],
   "source": [
    "tmdb_movie.info()"
   ]
  },
  {
   "cell_type": "code",
   "execution_count": 32,
   "metadata": {
    "scrolled": true
   },
   "outputs": [
    {
     "data": {
      "text/plain": [
       "Unnamed: 0           0\n",
       "genre_ids            0\n",
       "id                   0\n",
       "original_language    0\n",
       "original_title       0\n",
       "popularity           0\n",
       "release_date         0\n",
       "title                0\n",
       "vote_average         0\n",
       "vote_count           0\n",
       "dtype: int64"
      ]
     },
     "execution_count": 32,
     "metadata": {},
     "output_type": "execute_result"
    }
   ],
   "source": [
    "tmdb_movie.isna().sum()\n",
    "# No missing data hence its good for analysis"
   ]
  },
  {
   "cell_type": "code",
   "execution_count": 33,
   "metadata": {},
   "outputs": [
    {
     "data": {
      "text/plain": [
       "array(['Harry Potter and the Deathly Hallows: Part 1',\n",
       "       'How to Train Your Dragon', 'Iron Man 2', ..., 'The Last One',\n",
       "       'Trailer Made', 'The Church'], dtype=object)"
      ]
     },
     "execution_count": 33,
     "metadata": {},
     "output_type": "execute_result"
    }
   ],
   "source": [
    "tmdb_movie['original_title'].unique()"
   ]
  },
  {
   "cell_type": "code",
   "execution_count": 34,
   "metadata": {},
   "outputs": [
    {
     "data": {
      "text/plain": [
       "array(['2010-11-19', '2010-03-26', '2010-05-07', ..., '2018-05-08',\n",
       "       '2018-08-02', '2018-05-26'], dtype=object)"
      ]
     },
     "execution_count": 34,
     "metadata": {},
     "output_type": "execute_result"
    }
   ],
   "source": [
    "tmdb_movie['release_date'].unique()"
   ]
  },
  {
   "cell_type": "code",
   "execution_count": 35,
   "metadata": {},
   "outputs": [
    {
     "data": {
      "text/plain": [
       "array(['Harry Potter and the Deathly Hallows: Part 1',\n",
       "       'How to Train Your Dragon', 'Iron Man 2', ..., 'The Last One',\n",
       "       'Trailer Made', 'The Church'], dtype=object)"
      ]
     },
     "execution_count": 35,
     "metadata": {},
     "output_type": "execute_result"
    }
   ],
   "source": [
    "tmdb_movie['title'].unique()"
   ]
  },
  {
   "cell_type": "code",
   "execution_count": 36,
   "metadata": {},
   "outputs": [
    {
     "data": {
      "text/plain": [
       "array(['[12, 14, 10751]', '[14, 12, 16, 10751]', '[12, 28, 878]', ...,\n",
       "       '[18, 14, 27, 878, 10749, 53]', '[16, 27, 9648]',\n",
       "       '[10751, 12, 28]'], dtype=object)"
      ]
     },
     "execution_count": 36,
     "metadata": {},
     "output_type": "execute_result"
    }
   ],
   "source": [
    "tmdb_movie['genre_ids'].unique()"
   ]
  },
  {
   "cell_type": "code",
   "execution_count": 37,
   "metadata": {},
   "outputs": [
    {
     "data": {
      "text/plain": [
       "array(['en', 'nl', 'es', 'ja', 'sv', 'de', 'fr', 'cn', 'it', 'ru', 'zh',\n",
       "       'hi', 'no', 'ko', 'da', 'fi', 'pl', 'te', 'hu', 'tr', 'pt', 'he',\n",
       "       'fa', 'th', 'cs', 'et', 'tl', 'lt', 'xx', 'bs', 'ar', 'is', 'el',\n",
       "       'mr', 'hr', 'ro', 'sr', 'uk', 'nb', 'hz', 'ca', 'bg', 'sl', 'lv',\n",
       "       'si', 'ab', 'ta', 'bo', 'id', 'sq', 'bn', 'gu', 'lo', 'ne', 'kk',\n",
       "       'hy', 'ps', 'kn', 'vi', 'ku', 'ka', 'ml', 'ur', 'mi', 'eu', 'sn',\n",
       "       'cy', 'ha', 'ky', 'yi', 'pa', 'xh', 'cr', 'sw', 'af', 'dz'],\n",
       "      dtype=object)"
      ]
     },
     "execution_count": 37,
     "metadata": {},
     "output_type": "execute_result"
    }
   ],
   "source": [
    "tmdb_movie['original_language'].unique()"
   ]
  },
  {
   "cell_type": "code",
   "execution_count": 38,
   "metadata": {},
   "outputs": [
    {
     "data": {
      "text/plain": [
       "array(['en', 'nl', 'es', 'ja', 'sv', 'de', 'fr', 'cn', 'it', 'ru', 'zh',\n",
       "       'hi', 'no', 'ko', 'da', 'fi', 'pl', 'te', 'hu', 'tr', 'pt', 'he',\n",
       "       'fa', 'th', 'cs', 'et', 'tl', 'lt', 'xx', 'bs', 'ar', 'is', 'el',\n",
       "       'mr', 'hr', 'ro', 'sr', 'uk', 'nb', 'hz', 'ca', 'bg', 'sl', 'lv',\n",
       "       'si', 'ab', 'ta', 'bo', 'id', 'sq', 'bn', 'gu', 'lo', 'ne', 'kk',\n",
       "       'hy', 'ps', 'kn', 'vi', 'ku', 'ka', 'ml', 'ur', 'mi', 'eu', 'sn',\n",
       "       'cy', 'ha', 'ky', 'yi', 'pa', 'xh', 'cr', 'sw', 'af', 'dz'],\n",
       "      dtype=object)"
      ]
     },
     "execution_count": 38,
     "metadata": {},
     "output_type": "execute_result"
    }
   ],
   "source": [
    "tmdb_movie['original_language'].unique()"
   ]
  },
  {
   "cell_type": "markdown",
   "metadata": {},
   "source": []
  },
  {
   "cell_type": "markdown",
   "metadata": {},
   "source": [
    "# 6. Loading the Movie database "
   ]
  },
  {
   "cell_type": "markdown",
   "metadata": {},
   "source": [
    "The movie data ERD has many tables. My interest was three tables that i determined contained the most relevant info for my analysis\n",
    "1. Movie basics\n",
    "2. Moving ratings\n",
    "3. Movie akas\n",
    "I loaded the datasets and combined them into a single table\n"
   ]
  },
  {
   "cell_type": "code",
   "execution_count": 39,
   "metadata": {
    "scrolled": true
   },
   "outputs": [
    {
     "data": {
      "text/html": [
       "<div>\n",
       "<style scoped>\n",
       "    .dataframe tbody tr th:only-of-type {\n",
       "        vertical-align: middle;\n",
       "    }\n",
       "\n",
       "    .dataframe tbody tr th {\n",
       "        vertical-align: top;\n",
       "    }\n",
       "\n",
       "    .dataframe thead th {\n",
       "        text-align: right;\n",
       "    }\n",
       "</style>\n",
       "<table border=\"1\" class=\"dataframe\">\n",
       "  <thead>\n",
       "    <tr style=\"text-align: right;\">\n",
       "      <th></th>\n",
       "      <th>movie_id</th>\n",
       "      <th>primary_title</th>\n",
       "      <th>original_title</th>\n",
       "      <th>start_year</th>\n",
       "      <th>runtime_minutes</th>\n",
       "      <th>genres</th>\n",
       "      <th>averagerating</th>\n",
       "      <th>numvotes</th>\n",
       "      <th>ordering</th>\n",
       "      <th>title</th>\n",
       "      <th>region</th>\n",
       "      <th>language</th>\n",
       "      <th>types</th>\n",
       "      <th>attributes</th>\n",
       "      <th>is_original_title</th>\n",
       "    </tr>\n",
       "  </thead>\n",
       "  <tbody>\n",
       "    <tr>\n",
       "      <th>0</th>\n",
       "      <td>tt0063540</td>\n",
       "      <td>Sunghursh</td>\n",
       "      <td>Sunghursh</td>\n",
       "      <td>2013</td>\n",
       "      <td>175.0</td>\n",
       "      <td>Action,Crime,Drama</td>\n",
       "      <td>7.0</td>\n",
       "      <td>77</td>\n",
       "      <td>1</td>\n",
       "      <td>Sangharsh</td>\n",
       "      <td>IN</td>\n",
       "      <td>hi</td>\n",
       "      <td>None</td>\n",
       "      <td>alternative transliteration</td>\n",
       "      <td>0.0</td>\n",
       "    </tr>\n",
       "    <tr>\n",
       "      <th>1</th>\n",
       "      <td>tt0063540</td>\n",
       "      <td>Sunghursh</td>\n",
       "      <td>Sunghursh</td>\n",
       "      <td>2013</td>\n",
       "      <td>175.0</td>\n",
       "      <td>Action,Crime,Drama</td>\n",
       "      <td>7.0</td>\n",
       "      <td>77</td>\n",
       "      <td>2</td>\n",
       "      <td>Sunghursh</td>\n",
       "      <td>None</td>\n",
       "      <td>None</td>\n",
       "      <td>original</td>\n",
       "      <td>None</td>\n",
       "      <td>1.0</td>\n",
       "    </tr>\n",
       "    <tr>\n",
       "      <th>2</th>\n",
       "      <td>tt0063540</td>\n",
       "      <td>Sunghursh</td>\n",
       "      <td>Sunghursh</td>\n",
       "      <td>2013</td>\n",
       "      <td>175.0</td>\n",
       "      <td>Action,Crime,Drama</td>\n",
       "      <td>7.0</td>\n",
       "      <td>77</td>\n",
       "      <td>3</td>\n",
       "      <td>Sunghursh</td>\n",
       "      <td>IN</td>\n",
       "      <td>None</td>\n",
       "      <td>None</td>\n",
       "      <td>None</td>\n",
       "      <td>0.0</td>\n",
       "    </tr>\n",
       "    <tr>\n",
       "      <th>3</th>\n",
       "      <td>tt0063540</td>\n",
       "      <td>Sunghursh</td>\n",
       "      <td>Sunghursh</td>\n",
       "      <td>2013</td>\n",
       "      <td>175.0</td>\n",
       "      <td>Action,Crime,Drama</td>\n",
       "      <td>7.0</td>\n",
       "      <td>77</td>\n",
       "      <td>4</td>\n",
       "      <td>Sunghursh</td>\n",
       "      <td>IN</td>\n",
       "      <td>hi</td>\n",
       "      <td>None</td>\n",
       "      <td>alternative transliteration</td>\n",
       "      <td>0.0</td>\n",
       "    </tr>\n",
       "    <tr>\n",
       "      <th>4</th>\n",
       "      <td>tt0063540</td>\n",
       "      <td>Sunghursh</td>\n",
       "      <td>Sunghursh</td>\n",
       "      <td>2013</td>\n",
       "      <td>175.0</td>\n",
       "      <td>Action,Crime,Drama</td>\n",
       "      <td>7.0</td>\n",
       "      <td>77</td>\n",
       "      <td>5</td>\n",
       "      <td>Sungharsh</td>\n",
       "      <td>IN</td>\n",
       "      <td>hi</td>\n",
       "      <td>None</td>\n",
       "      <td>alternative spelling</td>\n",
       "      <td>0.0</td>\n",
       "    </tr>\n",
       "  </tbody>\n",
       "</table>\n",
       "</div>"
      ],
      "text/plain": [
       "    movie_id primary_title original_title  start_year  runtime_minutes  \\\n",
       "0  tt0063540     Sunghursh      Sunghursh        2013            175.0   \n",
       "1  tt0063540     Sunghursh      Sunghursh        2013            175.0   \n",
       "2  tt0063540     Sunghursh      Sunghursh        2013            175.0   \n",
       "3  tt0063540     Sunghursh      Sunghursh        2013            175.0   \n",
       "4  tt0063540     Sunghursh      Sunghursh        2013            175.0   \n",
       "\n",
       "               genres  averagerating  numvotes  ordering      title region  \\\n",
       "0  Action,Crime,Drama            7.0        77         1  Sangharsh     IN   \n",
       "1  Action,Crime,Drama            7.0        77         2  Sunghursh   None   \n",
       "2  Action,Crime,Drama            7.0        77         3  Sunghursh     IN   \n",
       "3  Action,Crime,Drama            7.0        77         4  Sunghursh     IN   \n",
       "4  Action,Crime,Drama            7.0        77         5  Sungharsh     IN   \n",
       "\n",
       "  language     types                   attributes  is_original_title  \n",
       "0       hi      None  alternative transliteration                0.0  \n",
       "1     None  original                         None                1.0  \n",
       "2     None      None                         None                0.0  \n",
       "3       hi      None  alternative transliteration                0.0  \n",
       "4       hi      None         alternative spelling                0.0  "
      ]
     },
     "execution_count": 39,
     "metadata": {},
     "output_type": "execute_result"
    }
   ],
   "source": [
    "# read in the tables as dataframes\n",
    "conn = sqlite3.connect('im.db')\n",
    "df1 = pd.read_sql('SELECT * FROM movie_basics', conn)\n",
    "df2 = pd.read_sql('SELECT * FROM movie_ratings', conn)\n",
    "df3 = pd.read_sql('SELECT * FROM movie_akas', conn)\n",
    "\n",
    "# merge the dataframes on the 'movie_id' column and produce only unique values\n",
    "merged_df = pd.merge(df1, pd.merge(df2, df3, on='movie_id', how='inner'), on='movie_id', how='inner').drop_duplicates()\n",
    "\n",
    "# print the resulting dataframe\n",
    "merged_df.head()\n"
   ]
  },
  {
   "cell_type": "markdown",
   "metadata": {},
   "source": [
    "However, the above table has some values which are repetitive and hence i dropped the movie akas tables and merged the two remaining tables"
   ]
  },
  {
   "cell_type": "code",
   "execution_count": 40,
   "metadata": {
    "scrolled": false
   },
   "outputs": [
    {
     "data": {
      "text/html": [
       "<div>\n",
       "<style scoped>\n",
       "    .dataframe tbody tr th:only-of-type {\n",
       "        vertical-align: middle;\n",
       "    }\n",
       "\n",
       "    .dataframe tbody tr th {\n",
       "        vertical-align: top;\n",
       "    }\n",
       "\n",
       "    .dataframe thead th {\n",
       "        text-align: right;\n",
       "    }\n",
       "</style>\n",
       "<table border=\"1\" class=\"dataframe\">\n",
       "  <thead>\n",
       "    <tr style=\"text-align: right;\">\n",
       "      <th></th>\n",
       "      <th>movie_id</th>\n",
       "      <th>primary_title</th>\n",
       "      <th>original_title</th>\n",
       "      <th>start_year</th>\n",
       "      <th>runtime_minutes</th>\n",
       "      <th>genres</th>\n",
       "      <th>averagerating</th>\n",
       "      <th>numvotes</th>\n",
       "    </tr>\n",
       "  </thead>\n",
       "  <tbody>\n",
       "    <tr>\n",
       "      <th>0</th>\n",
       "      <td>tt0063540</td>\n",
       "      <td>Sunghursh</td>\n",
       "      <td>Sunghursh</td>\n",
       "      <td>2013</td>\n",
       "      <td>175.0</td>\n",
       "      <td>Action,Crime,Drama</td>\n",
       "      <td>7.0</td>\n",
       "      <td>77</td>\n",
       "    </tr>\n",
       "    <tr>\n",
       "      <th>1</th>\n",
       "      <td>tt0066787</td>\n",
       "      <td>One Day Before the Rainy Season</td>\n",
       "      <td>Ashad Ka Ek Din</td>\n",
       "      <td>2019</td>\n",
       "      <td>114.0</td>\n",
       "      <td>Biography,Drama</td>\n",
       "      <td>7.2</td>\n",
       "      <td>43</td>\n",
       "    </tr>\n",
       "    <tr>\n",
       "      <th>2</th>\n",
       "      <td>tt0069049</td>\n",
       "      <td>The Other Side of the Wind</td>\n",
       "      <td>The Other Side of the Wind</td>\n",
       "      <td>2018</td>\n",
       "      <td>122.0</td>\n",
       "      <td>Drama</td>\n",
       "      <td>6.9</td>\n",
       "      <td>4517</td>\n",
       "    </tr>\n",
       "    <tr>\n",
       "      <th>3</th>\n",
       "      <td>tt0069204</td>\n",
       "      <td>Sabse Bada Sukh</td>\n",
       "      <td>Sabse Bada Sukh</td>\n",
       "      <td>2018</td>\n",
       "      <td>NaN</td>\n",
       "      <td>Comedy,Drama</td>\n",
       "      <td>6.1</td>\n",
       "      <td>13</td>\n",
       "    </tr>\n",
       "    <tr>\n",
       "      <th>4</th>\n",
       "      <td>tt0100275</td>\n",
       "      <td>The Wandering Soap Opera</td>\n",
       "      <td>La Telenovela Errante</td>\n",
       "      <td>2017</td>\n",
       "      <td>80.0</td>\n",
       "      <td>Comedy,Drama,Fantasy</td>\n",
       "      <td>6.5</td>\n",
       "      <td>119</td>\n",
       "    </tr>\n",
       "  </tbody>\n",
       "</table>\n",
       "</div>"
      ],
      "text/plain": [
       "    movie_id                    primary_title              original_title  \\\n",
       "0  tt0063540                        Sunghursh                   Sunghursh   \n",
       "1  tt0066787  One Day Before the Rainy Season             Ashad Ka Ek Din   \n",
       "2  tt0069049       The Other Side of the Wind  The Other Side of the Wind   \n",
       "3  tt0069204                  Sabse Bada Sukh             Sabse Bada Sukh   \n",
       "4  tt0100275         The Wandering Soap Opera       La Telenovela Errante   \n",
       "\n",
       "   start_year  runtime_minutes                genres  averagerating  numvotes  \n",
       "0        2013            175.0    Action,Crime,Drama            7.0        77  \n",
       "1        2019            114.0       Biography,Drama            7.2        43  \n",
       "2        2018            122.0                 Drama            6.9      4517  \n",
       "3        2018              NaN          Comedy,Drama            6.1        13  \n",
       "4        2017             80.0  Comedy,Drama,Fantasy            6.5       119  "
      ]
     },
     "execution_count": 40,
     "metadata": {},
     "output_type": "execute_result"
    }
   ],
   "source": [
    "# read in the tables as dataframes\n",
    "df1 = pd.read_sql('SELECT * FROM movie_basics', conn)\n",
    "df2 = pd.read_sql('SELECT * FROM movie_ratings', conn)\n",
    "\n",
    "# merge the dataframes on the 'movie_id' column and produce only unique values\n",
    "merged_df = pd.merge(df1, df2, on='movie_id', how='inner').drop_duplicates('movie_id')\n",
    "# print the resulting dataframe\n",
    "merged_df.head()"
   ]
  },
  {
   "cell_type": "markdown",
   "metadata": {},
   "source": [
    "I wanted to combine this table with the budgets movie table and there i renamed the primary title column to movie so that \n",
    "the two tables share a common column name for merging. "
   ]
  },
  {
   "cell_type": "code",
   "execution_count": 41,
   "metadata": {
    "scrolled": true
   },
   "outputs": [
    {
     "data": {
      "text/html": [
       "<div>\n",
       "<style scoped>\n",
       "    .dataframe tbody tr th:only-of-type {\n",
       "        vertical-align: middle;\n",
       "    }\n",
       "\n",
       "    .dataframe tbody tr th {\n",
       "        vertical-align: top;\n",
       "    }\n",
       "\n",
       "    .dataframe thead th {\n",
       "        text-align: right;\n",
       "    }\n",
       "</style>\n",
       "<table border=\"1\" class=\"dataframe\">\n",
       "  <thead>\n",
       "    <tr style=\"text-align: right;\">\n",
       "      <th></th>\n",
       "      <th>movie_id</th>\n",
       "      <th>movie</th>\n",
       "      <th>original_title</th>\n",
       "      <th>start_year</th>\n",
       "      <th>runtime_minutes</th>\n",
       "      <th>genres</th>\n",
       "      <th>averagerating</th>\n",
       "      <th>numvotes</th>\n",
       "    </tr>\n",
       "  </thead>\n",
       "  <tbody>\n",
       "    <tr>\n",
       "      <th>0</th>\n",
       "      <td>tt0063540</td>\n",
       "      <td>Sunghursh</td>\n",
       "      <td>Sunghursh</td>\n",
       "      <td>2013</td>\n",
       "      <td>175.0</td>\n",
       "      <td>Action,Crime,Drama</td>\n",
       "      <td>7.0</td>\n",
       "      <td>77</td>\n",
       "    </tr>\n",
       "    <tr>\n",
       "      <th>1</th>\n",
       "      <td>tt0066787</td>\n",
       "      <td>One Day Before the Rainy Season</td>\n",
       "      <td>Ashad Ka Ek Din</td>\n",
       "      <td>2019</td>\n",
       "      <td>114.0</td>\n",
       "      <td>Biography,Drama</td>\n",
       "      <td>7.2</td>\n",
       "      <td>43</td>\n",
       "    </tr>\n",
       "    <tr>\n",
       "      <th>2</th>\n",
       "      <td>tt0069049</td>\n",
       "      <td>The Other Side of the Wind</td>\n",
       "      <td>The Other Side of the Wind</td>\n",
       "      <td>2018</td>\n",
       "      <td>122.0</td>\n",
       "      <td>Drama</td>\n",
       "      <td>6.9</td>\n",
       "      <td>4517</td>\n",
       "    </tr>\n",
       "    <tr>\n",
       "      <th>3</th>\n",
       "      <td>tt0069204</td>\n",
       "      <td>Sabse Bada Sukh</td>\n",
       "      <td>Sabse Bada Sukh</td>\n",
       "      <td>2018</td>\n",
       "      <td>NaN</td>\n",
       "      <td>Comedy,Drama</td>\n",
       "      <td>6.1</td>\n",
       "      <td>13</td>\n",
       "    </tr>\n",
       "    <tr>\n",
       "      <th>4</th>\n",
       "      <td>tt0100275</td>\n",
       "      <td>The Wandering Soap Opera</td>\n",
       "      <td>La Telenovela Errante</td>\n",
       "      <td>2017</td>\n",
       "      <td>80.0</td>\n",
       "      <td>Comedy,Drama,Fantasy</td>\n",
       "      <td>6.5</td>\n",
       "      <td>119</td>\n",
       "    </tr>\n",
       "  </tbody>\n",
       "</table>\n",
       "</div>"
      ],
      "text/plain": [
       "    movie_id                            movie              original_title  \\\n",
       "0  tt0063540                        Sunghursh                   Sunghursh   \n",
       "1  tt0066787  One Day Before the Rainy Season             Ashad Ka Ek Din   \n",
       "2  tt0069049       The Other Side of the Wind  The Other Side of the Wind   \n",
       "3  tt0069204                  Sabse Bada Sukh             Sabse Bada Sukh   \n",
       "4  tt0100275         The Wandering Soap Opera       La Telenovela Errante   \n",
       "\n",
       "   start_year  runtime_minutes                genres  averagerating  numvotes  \n",
       "0        2013            175.0    Action,Crime,Drama            7.0        77  \n",
       "1        2019            114.0       Biography,Drama            7.2        43  \n",
       "2        2018            122.0                 Drama            6.9      4517  \n",
       "3        2018              NaN          Comedy,Drama            6.1        13  \n",
       "4        2017             80.0  Comedy,Drama,Fantasy            6.5       119  "
      ]
     },
     "execution_count": 41,
     "metadata": {},
     "output_type": "execute_result"
    }
   ],
   "source": [
    "df = merged_df.rename(columns={'primary_title': 'movie'})\n",
    "df.head()"
   ]
  },
  {
   "cell_type": "markdown",
   "metadata": {},
   "source": [
    "I merged the two tables into a new table called Merged_df3 (Merged dataframe 3)"
   ]
  },
  {
   "cell_type": "code",
   "execution_count": 42,
   "metadata": {
    "scrolled": true
   },
   "outputs": [
    {
     "data": {
      "text/html": [
       "<div>\n",
       "<style scoped>\n",
       "    .dataframe tbody tr th:only-of-type {\n",
       "        vertical-align: middle;\n",
       "    }\n",
       "\n",
       "    .dataframe tbody tr th {\n",
       "        vertical-align: top;\n",
       "    }\n",
       "\n",
       "    .dataframe thead th {\n",
       "        text-align: right;\n",
       "    }\n",
       "</style>\n",
       "<table border=\"1\" class=\"dataframe\">\n",
       "  <thead>\n",
       "    <tr style=\"text-align: right;\">\n",
       "      <th></th>\n",
       "      <th>movie_id</th>\n",
       "      <th>movie</th>\n",
       "      <th>original_title</th>\n",
       "      <th>start_year</th>\n",
       "      <th>runtime_minutes</th>\n",
       "      <th>genres</th>\n",
       "      <th>averagerating</th>\n",
       "      <th>numvotes</th>\n",
       "      <th>id</th>\n",
       "      <th>release_date</th>\n",
       "      <th>production_budget</th>\n",
       "      <th>domestic_gross</th>\n",
       "      <th>worldwide_gross</th>\n",
       "      <th>ROI</th>\n",
       "    </tr>\n",
       "  </thead>\n",
       "  <tbody>\n",
       "    <tr>\n",
       "      <th>0</th>\n",
       "      <td>tt0249516</td>\n",
       "      <td>Foodfight!</td>\n",
       "      <td>Foodfight!</td>\n",
       "      <td>2012</td>\n",
       "      <td>91.0</td>\n",
       "      <td>Action,Animation,Comedy</td>\n",
       "      <td>1.9</td>\n",
       "      <td>8248</td>\n",
       "      <td>26</td>\n",
       "      <td>Dec 31, 2012</td>\n",
       "      <td>45000000.0</td>\n",
       "      <td>0.0</td>\n",
       "      <td>73706.0</td>\n",
       "      <td>-1.00</td>\n",
       "    </tr>\n",
       "    <tr>\n",
       "      <th>1</th>\n",
       "      <td>tt0326592</td>\n",
       "      <td>The Overnight</td>\n",
       "      <td>The Overnight</td>\n",
       "      <td>2010</td>\n",
       "      <td>88.0</td>\n",
       "      <td>None</td>\n",
       "      <td>7.5</td>\n",
       "      <td>24</td>\n",
       "      <td>21</td>\n",
       "      <td>Jun 19, 2015</td>\n",
       "      <td>200000.0</td>\n",
       "      <td>1109808.0</td>\n",
       "      <td>1165996.0</td>\n",
       "      <td>10.38</td>\n",
       "    </tr>\n",
       "    <tr>\n",
       "      <th>2</th>\n",
       "      <td>tt3844362</td>\n",
       "      <td>The Overnight</td>\n",
       "      <td>The Overnight</td>\n",
       "      <td>2015</td>\n",
       "      <td>79.0</td>\n",
       "      <td>Comedy,Mystery</td>\n",
       "      <td>6.1</td>\n",
       "      <td>14828</td>\n",
       "      <td>21</td>\n",
       "      <td>Jun 19, 2015</td>\n",
       "      <td>200000.0</td>\n",
       "      <td>1109808.0</td>\n",
       "      <td>1165996.0</td>\n",
       "      <td>10.38</td>\n",
       "    </tr>\n",
       "    <tr>\n",
       "      <th>3</th>\n",
       "      <td>tt0337692</td>\n",
       "      <td>On the Road</td>\n",
       "      <td>On the Road</td>\n",
       "      <td>2012</td>\n",
       "      <td>124.0</td>\n",
       "      <td>Adventure,Drama,Romance</td>\n",
       "      <td>6.1</td>\n",
       "      <td>37886</td>\n",
       "      <td>17</td>\n",
       "      <td>Mar 22, 2013</td>\n",
       "      <td>25000000.0</td>\n",
       "      <td>720828.0</td>\n",
       "      <td>9313302.0</td>\n",
       "      <td>-0.60</td>\n",
       "    </tr>\n",
       "    <tr>\n",
       "      <th>4</th>\n",
       "      <td>tt4339118</td>\n",
       "      <td>On the Road</td>\n",
       "      <td>On the Road</td>\n",
       "      <td>2014</td>\n",
       "      <td>89.0</td>\n",
       "      <td>Drama</td>\n",
       "      <td>6.0</td>\n",
       "      <td>6</td>\n",
       "      <td>17</td>\n",
       "      <td>Mar 22, 2013</td>\n",
       "      <td>25000000.0</td>\n",
       "      <td>720828.0</td>\n",
       "      <td>9313302.0</td>\n",
       "      <td>-0.60</td>\n",
       "    </tr>\n",
       "  </tbody>\n",
       "</table>\n",
       "</div>"
      ],
      "text/plain": [
       "    movie_id          movie original_title  start_year  runtime_minutes  \\\n",
       "0  tt0249516     Foodfight!     Foodfight!        2012             91.0   \n",
       "1  tt0326592  The Overnight  The Overnight        2010             88.0   \n",
       "2  tt3844362  The Overnight  The Overnight        2015             79.0   \n",
       "3  tt0337692    On the Road    On the Road        2012            124.0   \n",
       "4  tt4339118    On the Road    On the Road        2014             89.0   \n",
       "\n",
       "                    genres  averagerating  numvotes  id  release_date  \\\n",
       "0  Action,Animation,Comedy            1.9      8248  26  Dec 31, 2012   \n",
       "1                     None            7.5        24  21  Jun 19, 2015   \n",
       "2           Comedy,Mystery            6.1     14828  21  Jun 19, 2015   \n",
       "3  Adventure,Drama,Romance            6.1     37886  17  Mar 22, 2013   \n",
       "4                    Drama            6.0         6  17  Mar 22, 2013   \n",
       "\n",
       "   production_budget  domestic_gross  worldwide_gross    ROI  \n",
       "0         45000000.0             0.0          73706.0  -1.00  \n",
       "1           200000.0       1109808.0        1165996.0  10.38  \n",
       "2           200000.0       1109808.0        1165996.0  10.38  \n",
       "3         25000000.0        720828.0        9313302.0  -0.60  \n",
       "4         25000000.0        720828.0        9313302.0  -0.60  "
      ]
     },
     "execution_count": 42,
     "metadata": {},
     "output_type": "execute_result"
    }
   ],
   "source": [
    "merged_df3 = pd.merge(df, budgets_movie, on='movie', how ='inner')\n",
    "merged_df3.head()"
   ]
  },
  {
   "cell_type": "markdown",
   "metadata": {},
   "source": [
    "# Data Analysis of Merged Dataframe(budgets_movie, movie_basics & Movie ratings)"
   ]
  },
  {
   "cell_type": "markdown",
   "metadata": {},
   "source": [
    "# Data Cleaning"
   ]
  },
  {
   "cell_type": "code",
   "execution_count": 43,
   "metadata": {},
   "outputs": [
    {
     "data": {
      "text/plain": [
       "movie_id               0\n",
       "movie                  0\n",
       "original_title         0\n",
       "start_year             0\n",
       "runtime_minutes      118\n",
       "genres                 8\n",
       "averagerating          0\n",
       "numvotes               0\n",
       "id                     0\n",
       "release_date           0\n",
       "production_budget      0\n",
       "domestic_gross         0\n",
       "worldwide_gross        0\n",
       "ROI                    0\n",
       "dtype: int64"
      ]
     },
     "execution_count": 43,
     "metadata": {},
     "output_type": "execute_result"
    }
   ],
   "source": [
    "merged_df3.isna().sum()"
   ]
  },
  {
   "cell_type": "code",
   "execution_count": 44,
   "metadata": {},
   "outputs": [],
   "source": [
    "#runtime column had 128 missing values hence I replaced with the median value\n",
    "merged_df3['runtime_minutes'].fillna(merged_df3['runtime_minutes'].median(), inplace = True) "
   ]
  },
  {
   "cell_type": "code",
   "execution_count": 45,
   "metadata": {},
   "outputs": [],
   "source": [
    "#Genres had 8 missing values we replaced with 'Missing'\n",
    "#I merged tables using inner function hence no duplicates since only unique rows merged\n",
    "merged_df3['genres'].fillna('Missing', inplace = True) "
   ]
  },
  {
   "cell_type": "code",
   "execution_count": 46,
   "metadata": {
    "scrolled": true
   },
   "outputs": [
    {
     "data": {
      "text/plain": [
       "movie_id             0\n",
       "movie                0\n",
       "original_title       0\n",
       "start_year           0\n",
       "runtime_minutes      0\n",
       "genres               0\n",
       "averagerating        0\n",
       "numvotes             0\n",
       "id                   0\n",
       "release_date         0\n",
       "production_budget    0\n",
       "domestic_gross       0\n",
       "worldwide_gross      0\n",
       "ROI                  0\n",
       "dtype: int64"
      ]
     },
     "execution_count": 46,
     "metadata": {},
     "output_type": "execute_result"
    }
   ],
   "source": [
    "merged_df3.isna().sum()"
   ]
  },
  {
   "cell_type": "code",
   "execution_count": 47,
   "metadata": {},
   "outputs": [],
   "source": [
    "# I also converted the release dates into a suitable datetime format for analysis\n",
    "merged_df3['release_date'] = pd.to_datetime(merged_df3['release_date'])\n"
   ]
  },
  {
   "cell_type": "markdown",
   "metadata": {},
   "source": [
    "# Data Exploration"
   ]
  },
  {
   "cell_type": "code",
   "execution_count": 48,
   "metadata": {
    "scrolled": true
   },
   "outputs": [
    {
     "data": {
      "image/png": "[encoded data removed]",
      "text/plain": [
       "<Figure size 640x480 with 4 Axes>"
      ]
     },
     "metadata": {},
     "output_type": "display_data"
    }
   ],
   "source": [
    "#Visualize the distribution of runtime, ratings, and ROI using histograms\n",
    "merged_df3[['runtime_minutes', 'averagerating', 'ROI']].hist(bins=20)\n",
    "plt.show()\n"
   ]
  },
  {
   "cell_type": "code",
   "execution_count": 49,
   "metadata": {},
   "outputs": [
    {
     "data": {
      "text/html": [
       "<div>\n",
       "<style scoped>\n",
       "    .dataframe tbody tr th:only-of-type {\n",
       "        vertical-align: middle;\n",
       "    }\n",
       "\n",
       "    .dataframe tbody tr th {\n",
       "        vertical-align: top;\n",
       "    }\n",
       "\n",
       "    .dataframe thead th {\n",
       "        text-align: right;\n",
       "    }\n",
       "</style>\n",
       "<table border=\"1\" class=\"dataframe\">\n",
       "  <thead>\n",
       "    <tr style=\"text-align: right;\">\n",
       "      <th></th>\n",
       "      <th>runtime_minutes</th>\n",
       "      <th>averagerating</th>\n",
       "      <th>ROI</th>\n",
       "    </tr>\n",
       "  </thead>\n",
       "  <tbody>\n",
       "    <tr>\n",
       "      <th>runtime_minutes</th>\n",
       "      <td>1.000000</td>\n",
       "      <td>0.203768</td>\n",
       "      <td>-0.028707</td>\n",
       "    </tr>\n",
       "    <tr>\n",
       "      <th>averagerating</th>\n",
       "      <td>0.203768</td>\n",
       "      <td>1.000000</td>\n",
       "      <td>0.007536</td>\n",
       "    </tr>\n",
       "    <tr>\n",
       "      <th>ROI</th>\n",
       "      <td>-0.028707</td>\n",
       "      <td>0.007536</td>\n",
       "      <td>1.000000</td>\n",
       "    </tr>\n",
       "  </tbody>\n",
       "</table>\n",
       "</div>"
      ],
      "text/plain": [
       "                 runtime_minutes  averagerating       ROI\n",
       "runtime_minutes         1.000000       0.203768 -0.028707\n",
       "averagerating           0.203768       1.000000  0.007536\n",
       "ROI                    -0.028707       0.007536  1.000000"
      ]
     },
     "execution_count": 49,
     "metadata": {},
     "output_type": "execute_result"
    }
   ],
   "source": [
    "#Check for correlations between variables:\n",
    "merged_df3[['runtime_minutes', 'averagerating', 'ROI']].corr()"
   ]
  },
  {
   "cell_type": "code",
   "execution_count": 50,
   "metadata": {},
   "outputs": [
    {
     "data": {
      "image/png": "[encoded data removed]",
      "text/plain": [
       "<Figure size 640x480 with 2 Axes>"
      ]
     },
     "metadata": {},
     "output_type": "display_data"
    }
   ],
   "source": [
    "#Visualize the Above data\n",
    "# create a dataframe with the correlation values\n",
    "data = {'runtime_minutes': [1.000000, 0.203768, -0.028707],\n",
    "        'averagerating': [0.203768, 1.000000, 0.007536],\n",
    "        'ROI': [-0.028707, 0.007536, 1.000000]}\n",
    "df = pd.DataFrame(data)\n",
    "\n",
    "# create a heatmap using seaborn\n",
    "sns.heatmap(df, annot=True)\n",
    "\n",
    "# display the plot\n",
    "plt.show()"
   ]
  },
  {
   "cell_type": "markdown",
   "metadata": {},
   "source": [
    "# Grouping and aggregation\n"
   ]
  },
  {
   "cell_type": "code",
   "execution_count": 51,
   "metadata": {},
   "outputs": [
    {
     "data": {
      "text/html": [
       "<div>\n",
       "<style scoped>\n",
       "    .dataframe tbody tr th:only-of-type {\n",
       "        vertical-align: middle;\n",
       "    }\n",
       "\n",
       "    .dataframe tbody tr th {\n",
       "        vertical-align: top;\n",
       "    }\n",
       "\n",
       "    .dataframe thead th {\n",
       "        text-align: right;\n",
       "    }\n",
       "</style>\n",
       "<table border=\"1\" class=\"dataframe\">\n",
       "  <thead>\n",
       "    <tr style=\"text-align: right;\">\n",
       "      <th></th>\n",
       "      <th>averagerating</th>\n",
       "      <th>ROI</th>\n",
       "    </tr>\n",
       "    <tr>\n",
       "      <th>movie</th>\n",
       "      <th></th>\n",
       "      <th></th>\n",
       "    </tr>\n",
       "  </thead>\n",
       "  <tbody>\n",
       "    <tr>\n",
       "      <th>#Horror</th>\n",
       "      <td>3.000000</td>\n",
       "      <td>-1.00</td>\n",
       "    </tr>\n",
       "    <tr>\n",
       "      <th>10 Cloverfield Lane</th>\n",
       "      <td>7.200000</td>\n",
       "      <td>35.07</td>\n",
       "    </tr>\n",
       "    <tr>\n",
       "      <th>10 Days in a Madhouse</th>\n",
       "      <td>6.700000</td>\n",
       "      <td>-1.00</td>\n",
       "    </tr>\n",
       "    <tr>\n",
       "      <th>12 Rounds</th>\n",
       "      <td>8.100000</td>\n",
       "      <td>0.48</td>\n",
       "    </tr>\n",
       "    <tr>\n",
       "      <th>12 Strong</th>\n",
       "      <td>6.600000</td>\n",
       "      <td>2.34</td>\n",
       "    </tr>\n",
       "    <tr>\n",
       "      <th>...</th>\n",
       "      <td>...</td>\n",
       "      <td>...</td>\n",
       "    </tr>\n",
       "    <tr>\n",
       "      <th>Zoolander 2</th>\n",
       "      <td>4.700000</td>\n",
       "      <td>0.68</td>\n",
       "    </tr>\n",
       "    <tr>\n",
       "      <th>Zoom</th>\n",
       "      <td>6.233333</td>\n",
       "      <td>-0.30</td>\n",
       "    </tr>\n",
       "    <tr>\n",
       "      <th>Zootopia</th>\n",
       "      <td>8.000000</td>\n",
       "      <td>8.07</td>\n",
       "    </tr>\n",
       "    <tr>\n",
       "      <th>Zulu</th>\n",
       "      <td>6.700000</td>\n",
       "      <td>-0.88</td>\n",
       "    </tr>\n",
       "    <tr>\n",
       "      <th>xXx: Return of Xander Cage</th>\n",
       "      <td>5.200000</td>\n",
       "      <td>3.59</td>\n",
       "    </tr>\n",
       "  </tbody>\n",
       "</table>\n",
       "<p>2126 rows × 2 columns</p>\n",
       "</div>"
      ],
      "text/plain": [
       "                            averagerating    ROI\n",
       "movie                                           \n",
       "#Horror                          3.000000  -1.00\n",
       "10 Cloverfield Lane              7.200000  35.07\n",
       "10 Days in a Madhouse            6.700000  -1.00\n",
       "12 Rounds                        8.100000   0.48\n",
       "12 Strong                        6.600000   2.34\n",
       "...                                   ...    ...\n",
       "Zoolander 2                      4.700000   0.68\n",
       "Zoom                             6.233333  -0.30\n",
       "Zootopia                         8.000000   8.07\n",
       "Zulu                             6.700000  -0.88\n",
       "xXx: Return of Xander Cage       5.200000   3.59\n",
       "\n",
       "[2126 rows x 2 columns]"
      ]
     },
     "execution_count": 51,
     "metadata": {},
     "output_type": "execute_result"
    }
   ],
   "source": [
    "#Group by movie and calculate the mean rating and ROI\n",
    "merged_df3.groupby('movie')[['averagerating', 'ROI']].mean()\n"
   ]
  },
  {
   "cell_type": "code",
   "execution_count": 52,
   "metadata": {},
   "outputs": [
    {
     "data": {
      "image/png": "[encoded data removed]",
      "text/plain": [
       "<Figure size 640x480 with 1 Axes>"
      ]
     },
     "metadata": {},
     "output_type": "display_data"
    }
   ],
   "source": [
    "# create a scatter plot to visualize the correlation between Mean ROI and  averagerating \n",
    "\n",
    "sns.regplot(x='averagerating', y='ROI', data=merged_df3)\n",
    "\n",
    "# set plot labels and title\n",
    "plt.xlabel('Average Rating')\n",
    "plt.ylabel('ROI')\n",
    "plt.title('Movie ROI vs Average Rating')\n",
    "\n",
    "# display the plot\n",
    "plt.show()\n"
   ]
  },
  {
   "cell_type": "code",
   "execution_count": 53,
   "metadata": {},
   "outputs": [
    {
     "name": "stdout",
     "output_type": "stream",
     "text": [
      "                      Movie    Mean ROI\n",
      "0               The Gallows  643.210000\n",
      "1                     Bambi  431.160000\n",
      "2                     Rocky  341.240000\n",
      "3            Graduation Day  190.150000\n",
      "4  Night of the Living Dead  185.365000\n",
      "5          The Devil Inside  154.020000\n",
      "6                 Halloween  135.823333\n",
      "7                     Benji  125.240000\n",
      "8                 Insidious  101.590000\n",
      "9                Unfriended   96.150000\n"
     ]
    }
   ],
   "source": [
    "#top 10 ROI\n",
    "top10_movies = merged_df3.groupby('movie')['ROI'].mean().nlargest(10)\n",
    "top10_movies_df = top10_movies.reset_index().rename(columns={'movie': 'Movie', 'ROI': 'Mean ROI'})\n",
    "print(top10_movies_df)"
   ]
  },
  {
   "cell_type": "code",
   "execution_count": 54,
   "metadata": {},
   "outputs": [
    {
     "data": {
      "image/png": "[encoded data removed]",
      "text/plain": [
       "<Figure size 640x480 with 1 Axes>"
      ]
     },
     "metadata": {},
     "output_type": "display_data"
    }
   ],
   "source": [
    "# create a horizontal bar chart\n",
    "sns.barplot(x='Mean ROI', y='Movie', data=top10_movies_df)\n",
    "\n",
    "# set plot labels and title\n",
    "plt.xlabel('Box Office Mean ROI ')\n",
    "plt.ylabel('Movie Title')\n",
    "plt.title('Mean ROI for Top 10 Movies')\n",
    "\n",
    "# display the plot\n",
    "plt.show()"
   ]
  },
  {
   "cell_type": "code",
   "execution_count": 55,
   "metadata": {
    "scrolled": true
   },
   "outputs": [
    {
     "name": "stdout",
     "output_type": "stream",
     "text": [
      "                 Movie  Averageratings\n",
      "0          Richard III             9.1\n",
      "1              Frailty             9.0\n",
      "2            Inception             8.8\n",
      "3  Message in a Bottle             8.8\n",
      "4          Serendipity             8.8\n",
      "5                Teeth             8.8\n",
      "6             Snow Day             8.7\n",
      "7             The Rock             8.7\n",
      "8                  Yes             8.7\n",
      "9       Butterfly Girl             8.6\n"
     ]
    }
   ],
   "source": [
    "top10_ratings = merged_df3.groupby('movie')['averagerating'].mean().nlargest(10)\n",
    "top10_ratings_df = top10_ratings.reset_index().rename(columns={'movie': 'Movie', 'averagerating': 'Averageratings'})\n",
    "print(top10_ratings_df)"
   ]
  },
  {
   "cell_type": "code",
   "execution_count": 56,
   "metadata": {},
   "outputs": [
    {
     "data": {
      "image/png": "[encoded data removed]",
      "text/plain": [
       "<Figure size 640x480 with 1 Axes>"
      ]
     },
     "metadata": {},
     "output_type": "display_data"
    }
   ],
   "source": [
    "# create a horizontal bar chart\n",
    "sns.barplot(x='Averageratings', y='Movie', data=top10_ratings_df)\n",
    "\n",
    "# set plot labels and title\n",
    "plt.xlabel('Moving Ratings ')\n",
    "plt.ylabel('Movie Title')\n",
    "plt.title('Top 10 Rated Movies ')\n",
    "\n",
    "# display the plot\n",
    "plt.show()"
   ]
  },
  {
   "cell_type": "code",
   "execution_count": 57,
   "metadata": {
    "scrolled": true
   },
   "outputs": [
    {
     "name": "stdout",
     "output_type": "stream",
     "text": [
      "                      Genre  Mean ROI\n",
      "0     Biography,Documentary  73.22000\n",
      "1        Crime,Drama,Family  66.44500\n",
      "2      Drama,Family,Fantasy  62.97000\n",
      "3      Action,Drama,Romance  44.96500\n",
      "4       Action,Comedy,Drama  44.10625\n",
      "5   Horror,Romance,Thriller  38.01000\n",
      "6  Animation,Family,Fantasy  36.22000\n",
      "7            Family,Fantasy  36.22000\n",
      "8   Horror,Mystery,Thriller  33.38200\n",
      "9         Documentary,Sport  31.19250\n"
     ]
    }
   ],
   "source": [
    "#Group by genre and calculate the median ROI\n",
    "genre_ROI = merged_df3.groupby('genres')['ROI'].mean().nlargest(10)\n",
    "genre_ROI_df = genre_ROI.reset_index().rename(columns={'genres': 'Genre', 'ROI': 'Mean ROI'})\n",
    "print(genre_ROI_df)"
   ]
  },
  {
   "cell_type": "code",
   "execution_count": 58,
   "metadata": {},
   "outputs": [
    {
     "data": {
      "image/png": "[encoded data removed]",
      "text/plain": [
       "<Figure size 640x480 with 1 Axes>"
      ]
     },
     "metadata": {},
     "output_type": "display_data"
    }
   ],
   "source": [
    "# create a horizontal bar chart\n",
    "sns.barplot(x='Mean ROI', y='Genre', data=genre_ROI_df)\n",
    "\n",
    "# set plot labels and title\n",
    "plt.xlabel('Mean ROI')\n",
    "plt.ylabel('Genre')\n",
    "plt.title('Top 10 Movies measured by Return on Investment')\n",
    "\n",
    "# display the plot\n",
    "plt.show()"
   ]
  },
  {
   "cell_type": "code",
   "execution_count": 59,
   "metadata": {
    "scrolled": false
   },
   "outputs": [
    {
     "data": {
      "text/plain": [
       "genres\n",
       "Crime,Drama,Family          66.445\n",
       "Drama,Family,Fantasy        62.970\n",
       "Horror,Romance,Thriller     38.010\n",
       "Animation,Family,Fantasy    36.220\n",
       "Family,Fantasy              36.220\n",
       "Family,Fantasy,Musical      29.120\n",
       "Crime,Fantasy,Thriller      25.200\n",
       "Comedy,Documentary          19.560\n",
       "Adventure,Horror            19.120\n",
       "Biography,Drama,Fantasy     18.850\n",
       "Name: ROI, dtype: float64"
      ]
     },
     "execution_count": 59,
     "metadata": {},
     "output_type": "execute_result"
    }
   ],
   "source": [
    "merged_df3.groupby('genres')['ROI'].median().nlargest(10)\n"
   ]
  },
  {
   "cell_type": "markdown",
   "metadata": {},
   "source": []
  },
  {
   "cell_type": "code",
   "execution_count": 60,
   "metadata": {
    "scrolled": true
   },
   "outputs": [
    {
     "name": "stdout",
     "output_type": "stream",
     "text": [
      "                             Genre  Average Rating\n",
      "0         Action,Documentary,Drama           8.700\n",
      "1                Crime,Documentary           8.250\n",
      "2        Crime,Documentary,History           8.200\n",
      "3        Documentary,Drama,History           8.100\n",
      "4          Adventure,Drama,Mystery           7.900\n",
      "5       Documentary,Sport,Thriller           7.900\n",
      "6                            Sport           7.900\n",
      "7  Adventure,Biography,Documentary           7.800\n",
      "8                   Comedy,Musical           7.800\n",
      "9      Biography,Documentary,Drama           7.725\n"
     ]
    }
   ],
   "source": [
    "genretop_rating = merged_df3.groupby('genres')['averagerating'].mean().nlargest(10)\n",
    "genretop_rating_df = genretop_rating.reset_index().rename(columns={'genres': 'Genre', 'averagerating': 'Average Rating'})\n",
    "print(genretop_rating_df)"
   ]
  },
  {
   "cell_type": "code",
   "execution_count": 61,
   "metadata": {},
   "outputs": [
    {
     "data": {
      "image/png": "[encoded data removed]",
      "text/plain": [
       "<Figure size 640x480 with 1 Axes>"
      ]
     },
     "metadata": {},
     "output_type": "display_data"
    }
   ],
   "source": [
    "# create a horizontal bar chart\n",
    "sns.barplot(x='Average Rating', y='Genre', data=genretop_rating_df)\n",
    "\n",
    "# set plot labels and title\n",
    "plt.xlabel('Average Rating')\n",
    "plt.ylabel('Genre')\n",
    "plt.title('Top 10 Rated Movies by Genre')\n",
    "\n",
    "# display the plot\n",
    "plt.show()"
   ]
  },
  {
   "cell_type": "code",
   "execution_count": 62,
   "metadata": {
    "scrolled": true
   },
   "outputs": [
    {
     "data": {
      "image/png": "[encoded data removed]",
      "text/plain": [
       "<Figure size 640x480 with 1 Axes>"
      ]
     },
     "metadata": {},
     "output_type": "display_data"
    },
    {
     "name": "stdout",
     "output_type": "stream",
     "text": [
      "                       Genre  Production Budget\n",
      "0          Adventure,Fantasy       2.316667e+08\n",
      "1    Action,Adventure,Sci-Fi       1.606103e+08\n",
      "2      Adventure,Drama,Sport       1.500000e+08\n",
      "3            Fantasy,Romance       1.500000e+08\n",
      "4   Adventure,Family,Fantasy       1.322750e+08\n",
      "5   Action,Adventure,Fantasy       1.297650e+08\n",
      "6   Adventure,Mystery,Sci-Fi       1.250000e+08\n",
      "7   Action,Adventure,Western       1.231667e+08\n",
      "8  Action,Adventure,Thriller       1.222143e+08\n",
      "9    Action,Adventure,Family       1.215000e+08\n"
     ]
    }
   ],
   "source": [
    "genretop_prod = merged_df3.groupby('genres')['production_budget'].mean().nlargest(10)\n",
    "genretop_prod_df = genretop_prod.reset_index().rename(columns={'genres': 'Genre', 'production_budget': 'Production Budget'})\n",
    "\n",
    "# create a horizontal bar chart\n",
    "sns.barplot(x='Production Budget', y='Genre', data=genretop_prod_df)\n",
    "\n",
    "# set plot labels and title\n",
    "plt.xlabel('Production Budget')\n",
    "plt.ylabel('Genre')\n",
    "plt.title('Top 10 Movie Genres by Production Budget')\n",
    "\n",
    "# display the plot\n",
    "plt.show()\n",
    "\n",
    "print(genretop_prod_df)"
   ]
  },
  {
   "cell_type": "code",
   "execution_count": 63,
   "metadata": {
    "scrolled": true
   },
   "outputs": [
    {
     "data": {
      "text/html": [
       "<div>\n",
       "<style scoped>\n",
       "    .dataframe tbody tr th:only-of-type {\n",
       "        vertical-align: middle;\n",
       "    }\n",
       "\n",
       "    .dataframe tbody tr th {\n",
       "        vertical-align: top;\n",
       "    }\n",
       "\n",
       "    .dataframe thead th {\n",
       "        text-align: right;\n",
       "    }\n",
       "</style>\n",
       "<table border=\"1\" class=\"dataframe\">\n",
       "  <thead>\n",
       "    <tr style=\"text-align: right;\">\n",
       "      <th></th>\n",
       "      <th>movie_id</th>\n",
       "      <th>movie</th>\n",
       "      <th>original_title</th>\n",
       "      <th>start_year</th>\n",
       "      <th>runtime_minutes</th>\n",
       "      <th>genres</th>\n",
       "      <th>averagerating</th>\n",
       "      <th>numvotes</th>\n",
       "      <th>id</th>\n",
       "      <th>release_date</th>\n",
       "      <th>production_budget</th>\n",
       "      <th>domestic_gross</th>\n",
       "      <th>worldwide_gross</th>\n",
       "      <th>ROI</th>\n",
       "    </tr>\n",
       "  </thead>\n",
       "  <tbody>\n",
       "    <tr>\n",
       "      <th>1</th>\n",
       "      <td>tt0326592</td>\n",
       "      <td>The Overnight</td>\n",
       "      <td>The Overnight</td>\n",
       "      <td>2010</td>\n",
       "      <td>88.0</td>\n",
       "      <td>Missing</td>\n",
       "      <td>7.5</td>\n",
       "      <td>24</td>\n",
       "      <td>21</td>\n",
       "      <td>2015-06-19</td>\n",
       "      <td>200000.0</td>\n",
       "      <td>1109808.0</td>\n",
       "      <td>1.165996e+06</td>\n",
       "      <td>10.38</td>\n",
       "    </tr>\n",
       "    <tr>\n",
       "      <th>6</th>\n",
       "      <td>tt0359950</td>\n",
       "      <td>The Secret Life of Walter Mitty</td>\n",
       "      <td>The Secret Life of Walter Mitty</td>\n",
       "      <td>2013</td>\n",
       "      <td>114.0</td>\n",
       "      <td>Adventure,Comedy,Drama</td>\n",
       "      <td>7.3</td>\n",
       "      <td>275300</td>\n",
       "      <td>37</td>\n",
       "      <td>2013-12-25</td>\n",
       "      <td>91000000.0</td>\n",
       "      <td>58236838.0</td>\n",
       "      <td>1.878612e+08</td>\n",
       "      <td>1.70</td>\n",
       "    </tr>\n",
       "    <tr>\n",
       "      <th>12</th>\n",
       "      <td>tt0398286</td>\n",
       "      <td>Tangled</td>\n",
       "      <td>Tangled</td>\n",
       "      <td>2010</td>\n",
       "      <td>100.0</td>\n",
       "      <td>Adventure,Animation,Comedy</td>\n",
       "      <td>7.8</td>\n",
       "      <td>366366</td>\n",
       "      <td>15</td>\n",
       "      <td>2010-11-24</td>\n",
       "      <td>260000000.0</td>\n",
       "      <td>200821936.0</td>\n",
       "      <td>5.864772e+08</td>\n",
       "      <td>2.03</td>\n",
       "    </tr>\n",
       "    <tr>\n",
       "      <th>18</th>\n",
       "      <td>tt0433035</td>\n",
       "      <td>Real Steel</td>\n",
       "      <td>Real Steel</td>\n",
       "      <td>2011</td>\n",
       "      <td>127.0</td>\n",
       "      <td>Action,Drama,Family</td>\n",
       "      <td>7.1</td>\n",
       "      <td>283534</td>\n",
       "      <td>31</td>\n",
       "      <td>2011-10-07</td>\n",
       "      <td>110000000.0</td>\n",
       "      <td>85463309.0</td>\n",
       "      <td>2.638803e+08</td>\n",
       "      <td>2.18</td>\n",
       "    </tr>\n",
       "    <tr>\n",
       "      <th>20</th>\n",
       "      <td>tt0435761</td>\n",
       "      <td>Toy Story 3</td>\n",
       "      <td>Toy Story 3</td>\n",
       "      <td>2010</td>\n",
       "      <td>103.0</td>\n",
       "      <td>Adventure,Animation,Comedy</td>\n",
       "      <td>8.3</td>\n",
       "      <td>682218</td>\n",
       "      <td>47</td>\n",
       "      <td>2010-06-18</td>\n",
       "      <td>200000000.0</td>\n",
       "      <td>415004880.0</td>\n",
       "      <td>1.068880e+09</td>\n",
       "      <td>6.42</td>\n",
       "    </tr>\n",
       "  </tbody>\n",
       "</table>\n",
       "</div>"
      ],
      "text/plain": [
       "     movie_id                            movie  \\\n",
       "1   tt0326592                    The Overnight   \n",
       "6   tt0359950  The Secret Life of Walter Mitty   \n",
       "12  tt0398286                          Tangled   \n",
       "18  tt0433035                       Real Steel   \n",
       "20  tt0435761                      Toy Story 3   \n",
       "\n",
       "                     original_title  start_year  runtime_minutes  \\\n",
       "1                     The Overnight        2010             88.0   \n",
       "6   The Secret Life of Walter Mitty        2013            114.0   \n",
       "12                          Tangled        2010            100.0   \n",
       "18                       Real Steel        2011            127.0   \n",
       "20                      Toy Story 3        2010            103.0   \n",
       "\n",
       "                        genres  averagerating  numvotes  id release_date  \\\n",
       "1                      Missing            7.5        24  21   2015-06-19   \n",
       "6       Adventure,Comedy,Drama            7.3    275300  37   2013-12-25   \n",
       "12  Adventure,Animation,Comedy            7.8    366366  15   2010-11-24   \n",
       "18         Action,Drama,Family            7.1    283534  31   2011-10-07   \n",
       "20  Adventure,Animation,Comedy            8.3    682218  47   2010-06-18   \n",
       "\n",
       "    production_budget  domestic_gross  worldwide_gross    ROI  \n",
       "1            200000.0       1109808.0     1.165996e+06  10.38  \n",
       "6          91000000.0      58236838.0     1.878612e+08   1.70  \n",
       "12        260000000.0     200821936.0     5.864772e+08   2.03  \n",
       "18        110000000.0      85463309.0     2.638803e+08   2.18  \n",
       "20        200000000.0     415004880.0     1.068880e+09   6.42  "
      ]
     },
     "execution_count": 63,
     "metadata": {},
     "output_type": "execute_result"
    }
   ],
   "source": [
    "#Data Filtering Highly rated\n",
    "highlyrated = merged_df3[merged_df3['averagerating'] > 7]\n",
    "highlyrated.head()\n"
   ]
  },
  {
   "cell_type": "code",
   "execution_count": 64,
   "metadata": {},
   "outputs": [
    {
     "data": {
      "image/png": "[encoded data removed]",
      "text/plain": [
       "<Figure size 640x480 with 1 Axes>"
      ]
     },
     "metadata": {},
     "output_type": "display_data"
    }
   ],
   "source": [
    "sns.boxplot(data=highlyrated, x='ROI', y='averagerating', orient='h', showfliers=False);"
   ]
  },
  {
   "cell_type": "code",
   "execution_count": 65,
   "metadata": {},
   "outputs": [
    {
     "data": {
      "text/html": [
       "<div>\n",
       "<style scoped>\n",
       "    .dataframe tbody tr th:only-of-type {\n",
       "        vertical-align: middle;\n",
       "    }\n",
       "\n",
       "    .dataframe tbody tr th {\n",
       "        vertical-align: top;\n",
       "    }\n",
       "\n",
       "    .dataframe thead th {\n",
       "        text-align: right;\n",
       "    }\n",
       "</style>\n",
       "<table border=\"1\" class=\"dataframe\">\n",
       "  <thead>\n",
       "    <tr style=\"text-align: right;\">\n",
       "      <th></th>\n",
       "      <th>movie_id</th>\n",
       "      <th>movie</th>\n",
       "      <th>original_title</th>\n",
       "      <th>start_year</th>\n",
       "      <th>runtime_minutes</th>\n",
       "      <th>genres</th>\n",
       "      <th>averagerating</th>\n",
       "      <th>numvotes</th>\n",
       "      <th>id</th>\n",
       "      <th>release_date</th>\n",
       "      <th>production_budget</th>\n",
       "      <th>domestic_gross</th>\n",
       "      <th>worldwide_gross</th>\n",
       "      <th>ROI</th>\n",
       "    </tr>\n",
       "  </thead>\n",
       "  <tbody>\n",
       "    <tr>\n",
       "      <th>1</th>\n",
       "      <td>tt0326592</td>\n",
       "      <td>The Overnight</td>\n",
       "      <td>The Overnight</td>\n",
       "      <td>2010</td>\n",
       "      <td>88.0</td>\n",
       "      <td>Missing</td>\n",
       "      <td>7.5</td>\n",
       "      <td>24</td>\n",
       "      <td>21</td>\n",
       "      <td>2015-06-19</td>\n",
       "      <td>200000.0</td>\n",
       "      <td>1109808.0</td>\n",
       "      <td>1.165996e+06</td>\n",
       "      <td>10.38</td>\n",
       "    </tr>\n",
       "    <tr>\n",
       "      <th>2</th>\n",
       "      <td>tt3844362</td>\n",
       "      <td>The Overnight</td>\n",
       "      <td>The Overnight</td>\n",
       "      <td>2015</td>\n",
       "      <td>79.0</td>\n",
       "      <td>Comedy,Mystery</td>\n",
       "      <td>6.1</td>\n",
       "      <td>14828</td>\n",
       "      <td>21</td>\n",
       "      <td>2015-06-19</td>\n",
       "      <td>200000.0</td>\n",
       "      <td>1109808.0</td>\n",
       "      <td>1.165996e+06</td>\n",
       "      <td>10.38</td>\n",
       "    </tr>\n",
       "    <tr>\n",
       "      <th>6</th>\n",
       "      <td>tt0359950</td>\n",
       "      <td>The Secret Life of Walter Mitty</td>\n",
       "      <td>The Secret Life of Walter Mitty</td>\n",
       "      <td>2013</td>\n",
       "      <td>114.0</td>\n",
       "      <td>Adventure,Comedy,Drama</td>\n",
       "      <td>7.3</td>\n",
       "      <td>275300</td>\n",
       "      <td>37</td>\n",
       "      <td>2013-12-25</td>\n",
       "      <td>91000000.0</td>\n",
       "      <td>58236838.0</td>\n",
       "      <td>1.878612e+08</td>\n",
       "      <td>1.70</td>\n",
       "    </tr>\n",
       "    <tr>\n",
       "      <th>7</th>\n",
       "      <td>tt0365907</td>\n",
       "      <td>A Walk Among the Tombstones</td>\n",
       "      <td>A Walk Among the Tombstones</td>\n",
       "      <td>2014</td>\n",
       "      <td>114.0</td>\n",
       "      <td>Action,Crime,Drama</td>\n",
       "      <td>6.5</td>\n",
       "      <td>105116</td>\n",
       "      <td>67</td>\n",
       "      <td>2014-09-19</td>\n",
       "      <td>28000000.0</td>\n",
       "      <td>26017685.0</td>\n",
       "      <td>6.210859e+07</td>\n",
       "      <td>2.15</td>\n",
       "    </tr>\n",
       "    <tr>\n",
       "      <th>8</th>\n",
       "      <td>tt0369610</td>\n",
       "      <td>Jurassic World</td>\n",
       "      <td>Jurassic World</td>\n",
       "      <td>2015</td>\n",
       "      <td>124.0</td>\n",
       "      <td>Action,Adventure,Sci-Fi</td>\n",
       "      <td>7.0</td>\n",
       "      <td>539338</td>\n",
       "      <td>34</td>\n",
       "      <td>2015-06-12</td>\n",
       "      <td>215000000.0</td>\n",
       "      <td>652270625.0</td>\n",
       "      <td>1.648855e+09</td>\n",
       "      <td>9.70</td>\n",
       "    </tr>\n",
       "  </tbody>\n",
       "</table>\n",
       "</div>"
      ],
      "text/plain": [
       "    movie_id                            movie  \\\n",
       "1  tt0326592                    The Overnight   \n",
       "2  tt3844362                    The Overnight   \n",
       "6  tt0359950  The Secret Life of Walter Mitty   \n",
       "7  tt0365907      A Walk Among the Tombstones   \n",
       "8  tt0369610                   Jurassic World   \n",
       "\n",
       "                    original_title  start_year  runtime_minutes  \\\n",
       "1                    The Overnight        2010             88.0   \n",
       "2                    The Overnight        2015             79.0   \n",
       "6  The Secret Life of Walter Mitty        2013            114.0   \n",
       "7      A Walk Among the Tombstones        2014            114.0   \n",
       "8                   Jurassic World        2015            124.0   \n",
       "\n",
       "                    genres  averagerating  numvotes  id release_date  \\\n",
       "1                  Missing            7.5        24  21   2015-06-19   \n",
       "2           Comedy,Mystery            6.1     14828  21   2015-06-19   \n",
       "6   Adventure,Comedy,Drama            7.3    275300  37   2013-12-25   \n",
       "7       Action,Crime,Drama            6.5    105116  67   2014-09-19   \n",
       "8  Action,Adventure,Sci-Fi            7.0    539338  34   2015-06-12   \n",
       "\n",
       "   production_budget  domestic_gross  worldwide_gross    ROI  \n",
       "1           200000.0       1109808.0     1.165996e+06  10.38  \n",
       "2           200000.0       1109808.0     1.165996e+06  10.38  \n",
       "6         91000000.0      58236838.0     1.878612e+08   1.70  \n",
       "7         28000000.0      26017685.0     6.210859e+07   2.15  \n",
       "8        215000000.0     652270625.0     1.648855e+09   9.70  "
      ]
     },
     "execution_count": 65,
     "metadata": {},
     "output_type": "execute_result"
    }
   ],
   "source": [
    "#Data Filtering Positive ROI\n",
    "profitable = merged_df3[merged_df3['ROI'] > 0]\n",
    "profitable.head()\n"
   ]
  },
  {
   "cell_type": "code",
   "execution_count": 66,
   "metadata": {},
   "outputs": [
    {
     "data": {
      "image/png": "[encoded data removed]",
      "text/plain": [
       "<Figure size 640x480 with 1 Axes>"
      ]
     },
     "metadata": {},
     "output_type": "display_data"
    }
   ],
   "source": [
    "#Visualize Movies with Positive ROIs\n",
    "plt.hist(profitable['ROI'])\n",
    "plt.xlabel('ROI')\n",
    "plt.ylabel('Frequency');\n"
   ]
  },
  {
   "cell_type": "code",
   "execution_count": 67,
   "metadata": {
    "scrolled": true
   },
   "outputs": [
    {
     "data": {
      "text/html": [
       "<div>\n",
       "<style scoped>\n",
       "    .dataframe tbody tr th:only-of-type {\n",
       "        vertical-align: middle;\n",
       "    }\n",
       "\n",
       "    .dataframe tbody tr th {\n",
       "        vertical-align: top;\n",
       "    }\n",
       "\n",
       "    .dataframe thead th {\n",
       "        text-align: right;\n",
       "    }\n",
       "</style>\n",
       "<table border=\"1\" class=\"dataframe\">\n",
       "  <thead>\n",
       "    <tr style=\"text-align: right;\">\n",
       "      <th></th>\n",
       "      <th>movie_id</th>\n",
       "      <th>movie</th>\n",
       "      <th>original_title</th>\n",
       "      <th>start_year</th>\n",
       "      <th>runtime_minutes</th>\n",
       "      <th>genres</th>\n",
       "      <th>averagerating</th>\n",
       "      <th>numvotes</th>\n",
       "      <th>id</th>\n",
       "      <th>release_date</th>\n",
       "      <th>production_budget</th>\n",
       "      <th>domestic_gross</th>\n",
       "      <th>worldwide_gross</th>\n",
       "      <th>ROI</th>\n",
       "    </tr>\n",
       "  </thead>\n",
       "  <tbody>\n",
       "    <tr>\n",
       "      <th>0</th>\n",
       "      <td>tt0249516</td>\n",
       "      <td>Foodfight!</td>\n",
       "      <td>Foodfight!</td>\n",
       "      <td>2012</td>\n",
       "      <td>91.0</td>\n",
       "      <td>Action,Animation,Comedy</td>\n",
       "      <td>1.9</td>\n",
       "      <td>8248</td>\n",
       "      <td>26</td>\n",
       "      <td>2012-12-31</td>\n",
       "      <td>45000000.0</td>\n",
       "      <td>0.0</td>\n",
       "      <td>73706.0</td>\n",
       "      <td>-1.00</td>\n",
       "    </tr>\n",
       "    <tr>\n",
       "      <th>3</th>\n",
       "      <td>tt0337692</td>\n",
       "      <td>On the Road</td>\n",
       "      <td>On the Road</td>\n",
       "      <td>2012</td>\n",
       "      <td>124.0</td>\n",
       "      <td>Adventure,Drama,Romance</td>\n",
       "      <td>6.1</td>\n",
       "      <td>37886</td>\n",
       "      <td>17</td>\n",
       "      <td>2013-03-22</td>\n",
       "      <td>25000000.0</td>\n",
       "      <td>720828.0</td>\n",
       "      <td>9313302.0</td>\n",
       "      <td>-0.60</td>\n",
       "    </tr>\n",
       "    <tr>\n",
       "      <th>4</th>\n",
       "      <td>tt4339118</td>\n",
       "      <td>On the Road</td>\n",
       "      <td>On the Road</td>\n",
       "      <td>2014</td>\n",
       "      <td>89.0</td>\n",
       "      <td>Drama</td>\n",
       "      <td>6.0</td>\n",
       "      <td>6</td>\n",
       "      <td>17</td>\n",
       "      <td>2013-03-22</td>\n",
       "      <td>25000000.0</td>\n",
       "      <td>720828.0</td>\n",
       "      <td>9313302.0</td>\n",
       "      <td>-0.60</td>\n",
       "    </tr>\n",
       "    <tr>\n",
       "      <th>5</th>\n",
       "      <td>tt5647250</td>\n",
       "      <td>On the Road</td>\n",
       "      <td>On the Road</td>\n",
       "      <td>2016</td>\n",
       "      <td>121.0</td>\n",
       "      <td>Drama</td>\n",
       "      <td>5.7</td>\n",
       "      <td>127</td>\n",
       "      <td>17</td>\n",
       "      <td>2013-03-22</td>\n",
       "      <td>25000000.0</td>\n",
       "      <td>720828.0</td>\n",
       "      <td>9313302.0</td>\n",
       "      <td>-0.60</td>\n",
       "    </tr>\n",
       "    <tr>\n",
       "      <th>9</th>\n",
       "      <td>tt0376136</td>\n",
       "      <td>The Rum Diary</td>\n",
       "      <td>The Rum Diary</td>\n",
       "      <td>2011</td>\n",
       "      <td>119.0</td>\n",
       "      <td>Comedy,Drama</td>\n",
       "      <td>6.2</td>\n",
       "      <td>94787</td>\n",
       "      <td>16</td>\n",
       "      <td>2011-10-28</td>\n",
       "      <td>45000000.0</td>\n",
       "      <td>13109815.0</td>\n",
       "      <td>21544732.0</td>\n",
       "      <td>-0.23</td>\n",
       "    </tr>\n",
       "    <tr>\n",
       "      <th>...</th>\n",
       "      <td>...</td>\n",
       "      <td>...</td>\n",
       "      <td>...</td>\n",
       "      <td>...</td>\n",
       "      <td>...</td>\n",
       "      <td>...</td>\n",
       "      <td>...</td>\n",
       "      <td>...</td>\n",
       "      <td>...</td>\n",
       "      <td>...</td>\n",
       "      <td>...</td>\n",
       "      <td>...</td>\n",
       "      <td>...</td>\n",
       "      <td>...</td>\n",
       "    </tr>\n",
       "    <tr>\n",
       "      <th>2857</th>\n",
       "      <td>tt8043306</td>\n",
       "      <td>Teefa in Trouble</td>\n",
       "      <td>Teefa in Trouble</td>\n",
       "      <td>2018</td>\n",
       "      <td>155.0</td>\n",
       "      <td>Action,Comedy,Crime</td>\n",
       "      <td>7.4</td>\n",
       "      <td>2724</td>\n",
       "      <td>8</td>\n",
       "      <td>2018-07-20</td>\n",
       "      <td>1500000.0</td>\n",
       "      <td>0.0</td>\n",
       "      <td>98806.0</td>\n",
       "      <td>-0.93</td>\n",
       "    </tr>\n",
       "    <tr>\n",
       "      <th>2861</th>\n",
       "      <td>tt8266310</td>\n",
       "      <td>Blinded by the Light</td>\n",
       "      <td>Blinded by the Light</td>\n",
       "      <td>2019</td>\n",
       "      <td>117.0</td>\n",
       "      <td>Biography,Comedy,Drama</td>\n",
       "      <td>6.2</td>\n",
       "      <td>173</td>\n",
       "      <td>64</td>\n",
       "      <td>2019-08-14</td>\n",
       "      <td>15000000.0</td>\n",
       "      <td>0.0</td>\n",
       "      <td>0.0</td>\n",
       "      <td>-1.00</td>\n",
       "    </tr>\n",
       "    <tr>\n",
       "      <th>2866</th>\n",
       "      <td>tt8653840</td>\n",
       "      <td>Flawless</td>\n",
       "      <td>Haneshef</td>\n",
       "      <td>2018</td>\n",
       "      <td>97.0</td>\n",
       "      <td>Drama</td>\n",
       "      <td>6.4</td>\n",
       "      <td>34</td>\n",
       "      <td>14</td>\n",
       "      <td>1999-11-24</td>\n",
       "      <td>27000000.0</td>\n",
       "      <td>4485485.0</td>\n",
       "      <td>4485485.0</td>\n",
       "      <td>-0.67</td>\n",
       "    </tr>\n",
       "    <tr>\n",
       "      <th>2867</th>\n",
       "      <td>tt8655470</td>\n",
       "      <td>The Specials</td>\n",
       "      <td>Hors normes</td>\n",
       "      <td>2019</td>\n",
       "      <td>101.0</td>\n",
       "      <td>Comedy</td>\n",
       "      <td>7.2</td>\n",
       "      <td>13</td>\n",
       "      <td>89</td>\n",
       "      <td>2000-09-22</td>\n",
       "      <td>1000000.0</td>\n",
       "      <td>12996.0</td>\n",
       "      <td>12996.0</td>\n",
       "      <td>-0.97</td>\n",
       "    </tr>\n",
       "    <tr>\n",
       "      <th>2870</th>\n",
       "      <td>tt8680254</td>\n",
       "      <td>Richard III</td>\n",
       "      <td>Richard III</td>\n",
       "      <td>2016</td>\n",
       "      <td>101.0</td>\n",
       "      <td>Drama</td>\n",
       "      <td>9.1</td>\n",
       "      <td>28</td>\n",
       "      <td>65</td>\n",
       "      <td>1995-12-29</td>\n",
       "      <td>9200000.0</td>\n",
       "      <td>2684904.0</td>\n",
       "      <td>4199334.0</td>\n",
       "      <td>-0.25</td>\n",
       "    </tr>\n",
       "  </tbody>\n",
       "</table>\n",
       "<p>926 rows × 14 columns</p>\n",
       "</div>"
      ],
      "text/plain": [
       "       movie_id                 movie        original_title  start_year  \\\n",
       "0     tt0249516            Foodfight!            Foodfight!        2012   \n",
       "3     tt0337692           On the Road           On the Road        2012   \n",
       "4     tt4339118           On the Road           On the Road        2014   \n",
       "5     tt5647250           On the Road           On the Road        2016   \n",
       "9     tt0376136         The Rum Diary         The Rum Diary        2011   \n",
       "...         ...                   ...                   ...         ...   \n",
       "2857  tt8043306      Teefa in Trouble      Teefa in Trouble        2018   \n",
       "2861  tt8266310  Blinded by the Light  Blinded by the Light        2019   \n",
       "2866  tt8653840              Flawless              Haneshef        2018   \n",
       "2867  tt8655470          The Specials           Hors normes        2019   \n",
       "2870  tt8680254           Richard III           Richard III        2016   \n",
       "\n",
       "      runtime_minutes                   genres  averagerating  numvotes  id  \\\n",
       "0                91.0  Action,Animation,Comedy            1.9      8248  26   \n",
       "3               124.0  Adventure,Drama,Romance            6.1     37886  17   \n",
       "4                89.0                    Drama            6.0         6  17   \n",
       "5               121.0                    Drama            5.7       127  17   \n",
       "9               119.0             Comedy,Drama            6.2     94787  16   \n",
       "...               ...                      ...            ...       ...  ..   \n",
       "2857            155.0      Action,Comedy,Crime            7.4      2724   8   \n",
       "2861            117.0   Biography,Comedy,Drama            6.2       173  64   \n",
       "2866             97.0                    Drama            6.4        34  14   \n",
       "2867            101.0                   Comedy            7.2        13  89   \n",
       "2870            101.0                    Drama            9.1        28  65   \n",
       "\n",
       "     release_date  production_budget  domestic_gross  worldwide_gross   ROI  \n",
       "0      2012-12-31         45000000.0             0.0          73706.0 -1.00  \n",
       "3      2013-03-22         25000000.0        720828.0        9313302.0 -0.60  \n",
       "4      2013-03-22         25000000.0        720828.0        9313302.0 -0.60  \n",
       "5      2013-03-22         25000000.0        720828.0        9313302.0 -0.60  \n",
       "9      2011-10-28         45000000.0      13109815.0       21544732.0 -0.23  \n",
       "...           ...                ...             ...              ...   ...  \n",
       "2857   2018-07-20          1500000.0             0.0          98806.0 -0.93  \n",
       "2861   2019-08-14         15000000.0             0.0              0.0 -1.00  \n",
       "2866   1999-11-24         27000000.0       4485485.0        4485485.0 -0.67  \n",
       "2867   2000-09-22          1000000.0         12996.0          12996.0 -0.97  \n",
       "2870   1995-12-29          9200000.0       2684904.0        4199334.0 -0.25  \n",
       "\n",
       "[926 rows x 14 columns]"
      ]
     },
     "execution_count": 67,
     "metadata": {},
     "output_type": "execute_result"
    }
   ],
   "source": [
    "#Data Filtering Positive ROI\n",
    "profitable = merged_df3[merged_df3['ROI'] < 0]\n",
    "profitable.head(1000)"
   ]
  },
  {
   "cell_type": "code",
   "execution_count": 68,
   "metadata": {},
   "outputs": [
    {
     "data": {
      "image/png": "[encoded data removed]",
      "text/plain": [
       "<Figure size 640x480 with 1 Axes>"
      ]
     },
     "metadata": {},
     "output_type": "display_data"
    }
   ],
   "source": [
    "# Get the counts of profitable and non-profitable movies\n",
    "profitable_count = (merged_df3['ROI'] > 0).sum()\n",
    "non_profitable_count = (merged_df3['ROI'] <= 0).sum()\n",
    "\n",
    "# Create a bar chart\n",
    "plt.bar(['Profitable', 'Non-profitable'], [profitable_count, non_profitable_count])\n",
    "plt.xlabel('Profitability')\n",
    "plt.ylabel('Count')\n",
    "plt.title('Counts of Profitable and Non-Profitable Movies');"
   ]
  },
  {
   "cell_type": "markdown",
   "metadata": {},
   "source": [
    "# Time Series Analysis"
   ]
  },
  {
   "cell_type": "code",
   "execution_count": 69,
   "metadata": {},
   "outputs": [
    {
     "data": {
      "text/html": [
       "<div>\n",
       "<style scoped>\n",
       "    .dataframe tbody tr th:only-of-type {\n",
       "        vertical-align: middle;\n",
       "    }\n",
       "\n",
       "    .dataframe tbody tr th {\n",
       "        vertical-align: top;\n",
       "    }\n",
       "\n",
       "    .dataframe thead th {\n",
       "        text-align: right;\n",
       "    }\n",
       "</style>\n",
       "<table border=\"1\" class=\"dataframe\">\n",
       "  <thead>\n",
       "    <tr style=\"text-align: right;\">\n",
       "      <th></th>\n",
       "      <th>averagerating</th>\n",
       "      <th>ROI</th>\n",
       "    </tr>\n",
       "    <tr>\n",
       "      <th>release_date</th>\n",
       "      <th></th>\n",
       "      <th></th>\n",
       "    </tr>\n",
       "  </thead>\n",
       "  <tbody>\n",
       "    <tr>\n",
       "      <th>2012</th>\n",
       "      <td>0.203768</td>\n",
       "      <td>-0.028707</td>\n",
       "    </tr>\n",
       "    <tr>\n",
       "      <th>2015</th>\n",
       "      <td>0.503768</td>\n",
       "      <td>0.503768</td>\n",
       "    </tr>\n",
       "  </tbody>\n",
       "</table>\n",
       "</div>"
      ],
      "text/plain": [
       "              averagerating       ROI\n",
       "release_date                         \n",
       "2012               0.203768 -0.028707\n",
       "2015               0.503768  0.503768"
      ]
     },
     "execution_count": 69,
     "metadata": {},
     "output_type": "execute_result"
    }
   ],
   "source": [
    "#Group by release year and calculate the mean rating and ROI\n",
    "df.groupby(merged_df3['release_date'].dt.year)[['averagerating', 'ROI']].mean()\n"
   ]
  },
  {
   "cell_type": "code",
   "execution_count": 70,
   "metadata": {},
   "outputs": [
    {
     "data": {
      "image/png": "[encoded data removed]",
      "text/plain": [
       "<Figure size 640x480 with 1 Axes>"
      ]
     },
     "metadata": {},
     "output_type": "display_data"
    }
   ],
   "source": [
    "#Create a time series plot of the average rating over time\n",
    "df.groupby(merged_df3['release_date'].dt.year)['averagerating'].mean().plot()\n",
    "plt.show()\n"
   ]
  },
  {
   "cell_type": "markdown",
   "metadata": {},
   "source": [
    "# Data merging"
   ]
  },
  {
   "cell_type": "code",
   "execution_count": 71,
   "metadata": {},
   "outputs": [
    {
     "data": {
      "text/html": [
       "<div>\n",
       "<style scoped>\n",
       "    .dataframe tbody tr th:only-of-type {\n",
       "        vertical-align: middle;\n",
       "    }\n",
       "\n",
       "    .dataframe tbody tr th {\n",
       "        vertical-align: top;\n",
       "    }\n",
       "\n",
       "    .dataframe thead th {\n",
       "        text-align: right;\n",
       "    }\n",
       "</style>\n",
       "<table border=\"1\" class=\"dataframe\">\n",
       "  <thead>\n",
       "    <tr style=\"text-align: right;\">\n",
       "      <th></th>\n",
       "      <th>movie_id</th>\n",
       "      <th>person_id</th>\n",
       "    </tr>\n",
       "  </thead>\n",
       "  <tbody>\n",
       "    <tr>\n",
       "      <th>0</th>\n",
       "      <td>tt0285252</td>\n",
       "      <td>nm0899854</td>\n",
       "    </tr>\n",
       "    <tr>\n",
       "      <th>1</th>\n",
       "      <td>tt0462036</td>\n",
       "      <td>nm1940585</td>\n",
       "    </tr>\n",
       "    <tr>\n",
       "      <th>2</th>\n",
       "      <td>tt0835418</td>\n",
       "      <td>nm0151540</td>\n",
       "    </tr>\n",
       "    <tr>\n",
       "      <th>3</th>\n",
       "      <td>tt0835418</td>\n",
       "      <td>nm0151540</td>\n",
       "    </tr>\n",
       "    <tr>\n",
       "      <th>4</th>\n",
       "      <td>tt0878654</td>\n",
       "      <td>nm0089502</td>\n",
       "    </tr>\n",
       "    <tr>\n",
       "      <th>...</th>\n",
       "      <td>...</td>\n",
       "      <td>...</td>\n",
       "    </tr>\n",
       "    <tr>\n",
       "      <th>291169</th>\n",
       "      <td>tt8999974</td>\n",
       "      <td>nm10122357</td>\n",
       "    </tr>\n",
       "    <tr>\n",
       "      <th>291170</th>\n",
       "      <td>tt9001390</td>\n",
       "      <td>nm6711477</td>\n",
       "    </tr>\n",
       "    <tr>\n",
       "      <th>291171</th>\n",
       "      <td>tt9001494</td>\n",
       "      <td>nm10123242</td>\n",
       "    </tr>\n",
       "    <tr>\n",
       "      <th>291172</th>\n",
       "      <td>tt9001494</td>\n",
       "      <td>nm10123248</td>\n",
       "    </tr>\n",
       "    <tr>\n",
       "      <th>291173</th>\n",
       "      <td>tt9004986</td>\n",
       "      <td>nm4993825</td>\n",
       "    </tr>\n",
       "  </tbody>\n",
       "</table>\n",
       "<p>291174 rows × 2 columns</p>\n",
       "</div>"
      ],
      "text/plain": [
       "         movie_id   person_id\n",
       "0       tt0285252   nm0899854\n",
       "1       tt0462036   nm1940585\n",
       "2       tt0835418   nm0151540\n",
       "3       tt0835418   nm0151540\n",
       "4       tt0878654   nm0089502\n",
       "...           ...         ...\n",
       "291169  tt8999974  nm10122357\n",
       "291170  tt9001390   nm6711477\n",
       "291171  tt9001494  nm10123242\n",
       "291172  tt9001494  nm10123248\n",
       "291173  tt9004986   nm4993825\n",
       "\n",
       "[291174 rows x 2 columns]"
      ]
     },
     "execution_count": 71,
     "metadata": {},
     "output_type": "execute_result"
    }
   ],
   "source": [
    "#Reading directors information from the SQL table\n",
    "pd.read_sql(\"\"\"SELECT * FROM directors;\"\"\", conn)"
   ]
  },
  {
   "cell_type": "markdown",
   "metadata": {},
   "source": [
    "# Merging with directors table"
   ]
  },
  {
   "cell_type": "code",
   "execution_count": 72,
   "metadata": {},
   "outputs": [
    {
     "data": {
      "text/html": [
       "<div>\n",
       "<style scoped>\n",
       "    .dataframe tbody tr th:only-of-type {\n",
       "        vertical-align: middle;\n",
       "    }\n",
       "\n",
       "    .dataframe tbody tr th {\n",
       "        vertical-align: top;\n",
       "    }\n",
       "\n",
       "    .dataframe thead th {\n",
       "        text-align: right;\n",
       "    }\n",
       "</style>\n",
       "<table border=\"1\" class=\"dataframe\">\n",
       "  <thead>\n",
       "    <tr style=\"text-align: right;\">\n",
       "      <th></th>\n",
       "      <th>movie_id</th>\n",
       "      <th>movie</th>\n",
       "      <th>original_title</th>\n",
       "      <th>start_year</th>\n",
       "      <th>runtime_minutes</th>\n",
       "      <th>genres</th>\n",
       "      <th>averagerating</th>\n",
       "      <th>numvotes</th>\n",
       "      <th>id</th>\n",
       "      <th>release_date</th>\n",
       "      <th>production_budget</th>\n",
       "      <th>domestic_gross</th>\n",
       "      <th>worldwide_gross</th>\n",
       "      <th>ROI</th>\n",
       "      <th>person_id</th>\n",
       "    </tr>\n",
       "  </thead>\n",
       "  <tbody>\n",
       "    <tr>\n",
       "      <th>0</th>\n",
       "      <td>tt0249516</td>\n",
       "      <td>Foodfight!</td>\n",
       "      <td>Foodfight!</td>\n",
       "      <td>2012</td>\n",
       "      <td>91.0</td>\n",
       "      <td>Action,Animation,Comedy</td>\n",
       "      <td>1.9</td>\n",
       "      <td>8248</td>\n",
       "      <td>26</td>\n",
       "      <td>2012-12-31</td>\n",
       "      <td>45000000.0</td>\n",
       "      <td>0.0</td>\n",
       "      <td>73706.0</td>\n",
       "      <td>-1.0</td>\n",
       "      <td>nm0440415</td>\n",
       "    </tr>\n",
       "    <tr>\n",
       "      <th>1</th>\n",
       "      <td>tt0249516</td>\n",
       "      <td>Foodfight!</td>\n",
       "      <td>Foodfight!</td>\n",
       "      <td>2012</td>\n",
       "      <td>91.0</td>\n",
       "      <td>Action,Animation,Comedy</td>\n",
       "      <td>1.9</td>\n",
       "      <td>8248</td>\n",
       "      <td>26</td>\n",
       "      <td>2012-12-31</td>\n",
       "      <td>45000000.0</td>\n",
       "      <td>0.0</td>\n",
       "      <td>73706.0</td>\n",
       "      <td>-1.0</td>\n",
       "      <td>nm0440415</td>\n",
       "    </tr>\n",
       "    <tr>\n",
       "      <th>2</th>\n",
       "      <td>tt0249516</td>\n",
       "      <td>Foodfight!</td>\n",
       "      <td>Foodfight!</td>\n",
       "      <td>2012</td>\n",
       "      <td>91.0</td>\n",
       "      <td>Action,Animation,Comedy</td>\n",
       "      <td>1.9</td>\n",
       "      <td>8248</td>\n",
       "      <td>26</td>\n",
       "      <td>2012-12-31</td>\n",
       "      <td>45000000.0</td>\n",
       "      <td>0.0</td>\n",
       "      <td>73706.0</td>\n",
       "      <td>-1.0</td>\n",
       "      <td>nm0440415</td>\n",
       "    </tr>\n",
       "    <tr>\n",
       "      <th>3</th>\n",
       "      <td>tt0249516</td>\n",
       "      <td>Foodfight!</td>\n",
       "      <td>Foodfight!</td>\n",
       "      <td>2012</td>\n",
       "      <td>91.0</td>\n",
       "      <td>Action,Animation,Comedy</td>\n",
       "      <td>1.9</td>\n",
       "      <td>8248</td>\n",
       "      <td>26</td>\n",
       "      <td>2012-12-31</td>\n",
       "      <td>45000000.0</td>\n",
       "      <td>0.0</td>\n",
       "      <td>73706.0</td>\n",
       "      <td>-1.0</td>\n",
       "      <td>nm0440415</td>\n",
       "    </tr>\n",
       "    <tr>\n",
       "      <th>4</th>\n",
       "      <td>tt0249516</td>\n",
       "      <td>Foodfight!</td>\n",
       "      <td>Foodfight!</td>\n",
       "      <td>2012</td>\n",
       "      <td>91.0</td>\n",
       "      <td>Action,Animation,Comedy</td>\n",
       "      <td>1.9</td>\n",
       "      <td>8248</td>\n",
       "      <td>26</td>\n",
       "      <td>2012-12-31</td>\n",
       "      <td>45000000.0</td>\n",
       "      <td>0.0</td>\n",
       "      <td>73706.0</td>\n",
       "      <td>-1.0</td>\n",
       "      <td>nm0440415</td>\n",
       "    </tr>\n",
       "  </tbody>\n",
       "</table>\n",
       "</div>"
      ],
      "text/plain": [
       "    movie_id       movie original_title  start_year  runtime_minutes  \\\n",
       "0  tt0249516  Foodfight!     Foodfight!        2012             91.0   \n",
       "1  tt0249516  Foodfight!     Foodfight!        2012             91.0   \n",
       "2  tt0249516  Foodfight!     Foodfight!        2012             91.0   \n",
       "3  tt0249516  Foodfight!     Foodfight!        2012             91.0   \n",
       "4  tt0249516  Foodfight!     Foodfight!        2012             91.0   \n",
       "\n",
       "                    genres  averagerating  numvotes  id release_date  \\\n",
       "0  Action,Animation,Comedy            1.9      8248  26   2012-12-31   \n",
       "1  Action,Animation,Comedy            1.9      8248  26   2012-12-31   \n",
       "2  Action,Animation,Comedy            1.9      8248  26   2012-12-31   \n",
       "3  Action,Animation,Comedy            1.9      8248  26   2012-12-31   \n",
       "4  Action,Animation,Comedy            1.9      8248  26   2012-12-31   \n",
       "\n",
       "   production_budget  domestic_gross  worldwide_gross  ROI  person_id  \n",
       "0         45000000.0             0.0          73706.0 -1.0  nm0440415  \n",
       "1         45000000.0             0.0          73706.0 -1.0  nm0440415  \n",
       "2         45000000.0             0.0          73706.0 -1.0  nm0440415  \n",
       "3         45000000.0             0.0          73706.0 -1.0  nm0440415  \n",
       "4         45000000.0             0.0          73706.0 -1.0  nm0440415  "
      ]
     },
     "execution_count": 72,
     "metadata": {},
     "output_type": "execute_result"
    }
   ],
   "source": [
    "#Merged with directors information\n",
    "director_df = pd.read_sql(\"\"\"SELECT * FROM directors;\"\"\", conn)\n",
    "merged_df4 = pd.merge(merged_df3, director_df, on='movie_id', how ='inner')\n",
    "merged_df4.head()\n"
   ]
  },
  {
   "cell_type": "code",
   "execution_count": 73,
   "metadata": {},
   "outputs": [
    {
     "data": {
      "text/html": [
       "<div>\n",
       "<style scoped>\n",
       "    .dataframe tbody tr th:only-of-type {\n",
       "        vertical-align: middle;\n",
       "    }\n",
       "\n",
       "    .dataframe tbody tr th {\n",
       "        vertical-align: top;\n",
       "    }\n",
       "\n",
       "    .dataframe thead th {\n",
       "        text-align: right;\n",
       "    }\n",
       "</style>\n",
       "<table border=\"1\" class=\"dataframe\">\n",
       "  <thead>\n",
       "    <tr style=\"text-align: right;\">\n",
       "      <th></th>\n",
       "      <th>movie_id</th>\n",
       "      <th>movie</th>\n",
       "      <th>original_title</th>\n",
       "      <th>start_year</th>\n",
       "      <th>runtime_minutes</th>\n",
       "      <th>genres</th>\n",
       "      <th>averagerating</th>\n",
       "      <th>numvotes</th>\n",
       "      <th>id</th>\n",
       "      <th>release_date</th>\n",
       "      <th>production_budget</th>\n",
       "      <th>domestic_gross</th>\n",
       "      <th>worldwide_gross</th>\n",
       "      <th>ROI</th>\n",
       "      <th>person_id_x</th>\n",
       "      <th>person_id_y</th>\n",
       "    </tr>\n",
       "  </thead>\n",
       "  <tbody>\n",
       "    <tr>\n",
       "      <th>0</th>\n",
       "      <td>tt0249516</td>\n",
       "      <td>Foodfight!</td>\n",
       "      <td>Foodfight!</td>\n",
       "      <td>2012</td>\n",
       "      <td>91.0</td>\n",
       "      <td>Action,Animation,Comedy</td>\n",
       "      <td>1.9</td>\n",
       "      <td>8248</td>\n",
       "      <td>26</td>\n",
       "      <td>2012-12-31</td>\n",
       "      <td>45000000.0</td>\n",
       "      <td>0.0</td>\n",
       "      <td>73706.0</td>\n",
       "      <td>-1.0</td>\n",
       "      <td>nm0440415</td>\n",
       "      <td>nm0440415</td>\n",
       "    </tr>\n",
       "    <tr>\n",
       "      <th>1</th>\n",
       "      <td>tt0249516</td>\n",
       "      <td>Foodfight!</td>\n",
       "      <td>Foodfight!</td>\n",
       "      <td>2012</td>\n",
       "      <td>91.0</td>\n",
       "      <td>Action,Animation,Comedy</td>\n",
       "      <td>1.9</td>\n",
       "      <td>8248</td>\n",
       "      <td>26</td>\n",
       "      <td>2012-12-31</td>\n",
       "      <td>45000000.0</td>\n",
       "      <td>0.0</td>\n",
       "      <td>73706.0</td>\n",
       "      <td>-1.0</td>\n",
       "      <td>nm0440415</td>\n",
       "      <td>nm0923312</td>\n",
       "    </tr>\n",
       "    <tr>\n",
       "      <th>2</th>\n",
       "      <td>tt0249516</td>\n",
       "      <td>Foodfight!</td>\n",
       "      <td>Foodfight!</td>\n",
       "      <td>2012</td>\n",
       "      <td>91.0</td>\n",
       "      <td>Action,Animation,Comedy</td>\n",
       "      <td>1.9</td>\n",
       "      <td>8248</td>\n",
       "      <td>26</td>\n",
       "      <td>2012-12-31</td>\n",
       "      <td>45000000.0</td>\n",
       "      <td>0.0</td>\n",
       "      <td>73706.0</td>\n",
       "      <td>-1.0</td>\n",
       "      <td>nm0440415</td>\n",
       "      <td>nm0295165</td>\n",
       "    </tr>\n",
       "    <tr>\n",
       "      <th>3</th>\n",
       "      <td>tt0249516</td>\n",
       "      <td>Foodfight!</td>\n",
       "      <td>Foodfight!</td>\n",
       "      <td>2012</td>\n",
       "      <td>91.0</td>\n",
       "      <td>Action,Animation,Comedy</td>\n",
       "      <td>1.9</td>\n",
       "      <td>8248</td>\n",
       "      <td>26</td>\n",
       "      <td>2012-12-31</td>\n",
       "      <td>45000000.0</td>\n",
       "      <td>0.0</td>\n",
       "      <td>73706.0</td>\n",
       "      <td>-1.0</td>\n",
       "      <td>nm0440415</td>\n",
       "      <td>nm0841854</td>\n",
       "    </tr>\n",
       "    <tr>\n",
       "      <th>4</th>\n",
       "      <td>tt0249516</td>\n",
       "      <td>Foodfight!</td>\n",
       "      <td>Foodfight!</td>\n",
       "      <td>2012</td>\n",
       "      <td>91.0</td>\n",
       "      <td>Action,Animation,Comedy</td>\n",
       "      <td>1.9</td>\n",
       "      <td>8248</td>\n",
       "      <td>26</td>\n",
       "      <td>2012-12-31</td>\n",
       "      <td>45000000.0</td>\n",
       "      <td>0.0</td>\n",
       "      <td>73706.0</td>\n",
       "      <td>-1.0</td>\n",
       "      <td>nm0440415</td>\n",
       "      <td>nm0220297</td>\n",
       "    </tr>\n",
       "  </tbody>\n",
       "</table>\n",
       "</div>"
      ],
      "text/plain": [
       "    movie_id       movie original_title  start_year  runtime_minutes  \\\n",
       "0  tt0249516  Foodfight!     Foodfight!        2012             91.0   \n",
       "1  tt0249516  Foodfight!     Foodfight!        2012             91.0   \n",
       "2  tt0249516  Foodfight!     Foodfight!        2012             91.0   \n",
       "3  tt0249516  Foodfight!     Foodfight!        2012             91.0   \n",
       "4  tt0249516  Foodfight!     Foodfight!        2012             91.0   \n",
       "\n",
       "                    genres  averagerating  numvotes  id release_date  \\\n",
       "0  Action,Animation,Comedy            1.9      8248  26   2012-12-31   \n",
       "1  Action,Animation,Comedy            1.9      8248  26   2012-12-31   \n",
       "2  Action,Animation,Comedy            1.9      8248  26   2012-12-31   \n",
       "3  Action,Animation,Comedy            1.9      8248  26   2012-12-31   \n",
       "4  Action,Animation,Comedy            1.9      8248  26   2012-12-31   \n",
       "\n",
       "   production_budget  domestic_gross  worldwide_gross  ROI person_id_x  \\\n",
       "0         45000000.0             0.0          73706.0 -1.0   nm0440415   \n",
       "1         45000000.0             0.0          73706.0 -1.0   nm0440415   \n",
       "2         45000000.0             0.0          73706.0 -1.0   nm0440415   \n",
       "3         45000000.0             0.0          73706.0 -1.0   nm0440415   \n",
       "4         45000000.0             0.0          73706.0 -1.0   nm0440415   \n",
       "\n",
       "  person_id_y  \n",
       "0   nm0440415  \n",
       "1   nm0923312  \n",
       "2   nm0295165  \n",
       "3   nm0841854  \n",
       "4   nm0220297  "
      ]
     },
     "execution_count": 73,
     "metadata": {},
     "output_type": "execute_result"
    }
   ],
   "source": [
    "#Merged with Writers information from SQL\n",
    "writer_df = pd.read_sql(\"\"\"SELECT * FROM writers;\"\"\", conn)\n",
    "merged_df5 = pd.merge(merged_df4, writer_df, on='movie_id', how ='inner')\n",
    "merged_df5.head()"
   ]
  },
  {
   "cell_type": "code",
   "execution_count": 74,
   "metadata": {},
   "outputs": [
    {
     "data": {
      "text/html": [
       "<div>\n",
       "<style scoped>\n",
       "    .dataframe tbody tr th:only-of-type {\n",
       "        vertical-align: middle;\n",
       "    }\n",
       "\n",
       "    .dataframe tbody tr th {\n",
       "        vertical-align: top;\n",
       "    }\n",
       "\n",
       "    .dataframe thead th {\n",
       "        text-align: right;\n",
       "    }\n",
       "</style>\n",
       "<table border=\"1\" class=\"dataframe\">\n",
       "  <thead>\n",
       "    <tr style=\"text-align: right;\">\n",
       "      <th></th>\n",
       "      <th>movie_id</th>\n",
       "      <th>movie</th>\n",
       "      <th>original_title</th>\n",
       "      <th>start_year</th>\n",
       "      <th>runtime_minutes</th>\n",
       "      <th>genres</th>\n",
       "      <th>averagerating</th>\n",
       "      <th>numvotes</th>\n",
       "      <th>id</th>\n",
       "      <th>release_date</th>\n",
       "      <th>...</th>\n",
       "      <th>ROI</th>\n",
       "      <th>person_id_x</th>\n",
       "      <th>person_id_y</th>\n",
       "      <th>ordering</th>\n",
       "      <th>title</th>\n",
       "      <th>region</th>\n",
       "      <th>language</th>\n",
       "      <th>types</th>\n",
       "      <th>attributes</th>\n",
       "      <th>is_original_title</th>\n",
       "    </tr>\n",
       "  </thead>\n",
       "  <tbody>\n",
       "    <tr>\n",
       "      <th>0</th>\n",
       "      <td>tt0249516</td>\n",
       "      <td>Foodfight!</td>\n",
       "      <td>Foodfight!</td>\n",
       "      <td>2012</td>\n",
       "      <td>91.0</td>\n",
       "      <td>Action,Animation,Comedy</td>\n",
       "      <td>1.9</td>\n",
       "      <td>8248</td>\n",
       "      <td>26</td>\n",
       "      <td>2012-12-31</td>\n",
       "      <td>...</td>\n",
       "      <td>-1.0</td>\n",
       "      <td>nm0440415</td>\n",
       "      <td>nm0440415</td>\n",
       "      <td>10</td>\n",
       "      <td>Foodfight!</td>\n",
       "      <td>FI</td>\n",
       "      <td>None</td>\n",
       "      <td>imdbDisplay</td>\n",
       "      <td>None</td>\n",
       "      <td>0.0</td>\n",
       "    </tr>\n",
       "    <tr>\n",
       "      <th>1</th>\n",
       "      <td>tt0249516</td>\n",
       "      <td>Foodfight!</td>\n",
       "      <td>Foodfight!</td>\n",
       "      <td>2012</td>\n",
       "      <td>91.0</td>\n",
       "      <td>Action,Animation,Comedy</td>\n",
       "      <td>1.9</td>\n",
       "      <td>8248</td>\n",
       "      <td>26</td>\n",
       "      <td>2012-12-31</td>\n",
       "      <td>...</td>\n",
       "      <td>-1.0</td>\n",
       "      <td>nm0440415</td>\n",
       "      <td>nm0440415</td>\n",
       "      <td>11</td>\n",
       "      <td>Foodfight!</td>\n",
       "      <td>SE</td>\n",
       "      <td>None</td>\n",
       "      <td>imdbDisplay</td>\n",
       "      <td>None</td>\n",
       "      <td>0.0</td>\n",
       "    </tr>\n",
       "    <tr>\n",
       "      <th>2</th>\n",
       "      <td>tt0249516</td>\n",
       "      <td>Foodfight!</td>\n",
       "      <td>Foodfight!</td>\n",
       "      <td>2012</td>\n",
       "      <td>91.0</td>\n",
       "      <td>Action,Animation,Comedy</td>\n",
       "      <td>1.9</td>\n",
       "      <td>8248</td>\n",
       "      <td>26</td>\n",
       "      <td>2012-12-31</td>\n",
       "      <td>...</td>\n",
       "      <td>-1.0</td>\n",
       "      <td>nm0440415</td>\n",
       "      <td>nm0440415</td>\n",
       "      <td>1</td>\n",
       "      <td>A Guerra das Comidas</td>\n",
       "      <td>BR</td>\n",
       "      <td>None</td>\n",
       "      <td>imdbDisplay</td>\n",
       "      <td>None</td>\n",
       "      <td>0.0</td>\n",
       "    </tr>\n",
       "    <tr>\n",
       "      <th>3</th>\n",
       "      <td>tt0249516</td>\n",
       "      <td>Foodfight!</td>\n",
       "      <td>Foodfight!</td>\n",
       "      <td>2012</td>\n",
       "      <td>91.0</td>\n",
       "      <td>Action,Animation,Comedy</td>\n",
       "      <td>1.9</td>\n",
       "      <td>8248</td>\n",
       "      <td>26</td>\n",
       "      <td>2012-12-31</td>\n",
       "      <td>...</td>\n",
       "      <td>-1.0</td>\n",
       "      <td>nm0440415</td>\n",
       "      <td>nm0440415</td>\n",
       "      <td>2</td>\n",
       "      <td>Foodfight!</td>\n",
       "      <td>US</td>\n",
       "      <td>None</td>\n",
       "      <td>None</td>\n",
       "      <td>None</td>\n",
       "      <td>0.0</td>\n",
       "    </tr>\n",
       "    <tr>\n",
       "      <th>4</th>\n",
       "      <td>tt0249516</td>\n",
       "      <td>Foodfight!</td>\n",
       "      <td>Foodfight!</td>\n",
       "      <td>2012</td>\n",
       "      <td>91.0</td>\n",
       "      <td>Action,Animation,Comedy</td>\n",
       "      <td>1.9</td>\n",
       "      <td>8248</td>\n",
       "      <td>26</td>\n",
       "      <td>2012-12-31</td>\n",
       "      <td>...</td>\n",
       "      <td>-1.0</td>\n",
       "      <td>nm0440415</td>\n",
       "      <td>nm0440415</td>\n",
       "      <td>3</td>\n",
       "      <td>Toidusõda!</td>\n",
       "      <td>EE</td>\n",
       "      <td>None</td>\n",
       "      <td>imdbDisplay</td>\n",
       "      <td>None</td>\n",
       "      <td>0.0</td>\n",
       "    </tr>\n",
       "  </tbody>\n",
       "</table>\n",
       "<p>5 rows × 23 columns</p>\n",
       "</div>"
      ],
      "text/plain": [
       "    movie_id       movie original_title  start_year  runtime_minutes  \\\n",
       "0  tt0249516  Foodfight!     Foodfight!        2012             91.0   \n",
       "1  tt0249516  Foodfight!     Foodfight!        2012             91.0   \n",
       "2  tt0249516  Foodfight!     Foodfight!        2012             91.0   \n",
       "3  tt0249516  Foodfight!     Foodfight!        2012             91.0   \n",
       "4  tt0249516  Foodfight!     Foodfight!        2012             91.0   \n",
       "\n",
       "                    genres  averagerating  numvotes  id release_date  ...  \\\n",
       "0  Action,Animation,Comedy            1.9      8248  26   2012-12-31  ...   \n",
       "1  Action,Animation,Comedy            1.9      8248  26   2012-12-31  ...   \n",
       "2  Action,Animation,Comedy            1.9      8248  26   2012-12-31  ...   \n",
       "3  Action,Animation,Comedy            1.9      8248  26   2012-12-31  ...   \n",
       "4  Action,Animation,Comedy            1.9      8248  26   2012-12-31  ...   \n",
       "\n",
       "   ROI  person_id_x  person_id_y  ordering                 title region  \\\n",
       "0 -1.0    nm0440415    nm0440415        10            Foodfight!     FI   \n",
       "1 -1.0    nm0440415    nm0440415        11            Foodfight!     SE   \n",
       "2 -1.0    nm0440415    nm0440415         1  A Guerra das Comidas     BR   \n",
       "3 -1.0    nm0440415    nm0440415         2            Foodfight!     US   \n",
       "4 -1.0    nm0440415    nm0440415         3            Toidusõda!     EE   \n",
       "\n",
       "   language        types attributes is_original_title  \n",
       "0      None  imdbDisplay       None               0.0  \n",
       "1      None  imdbDisplay       None               0.0  \n",
       "2      None  imdbDisplay       None               0.0  \n",
       "3      None         None       None               0.0  \n",
       "4      None  imdbDisplay       None               0.0  \n",
       "\n",
       "[5 rows x 23 columns]"
      ]
     },
     "execution_count": 74,
     "metadata": {},
     "output_type": "execute_result"
    }
   ],
   "source": [
    "#Merged with Movie akas\n",
    "maka_df = pd.read_sql(\"\"\"SELECT * FROM movie_akas;\"\"\", conn)\n",
    "merged_df6 = pd.merge(merged_df5, maka_df, on='movie_id', how ='inner')\n",
    "merged_df6.head()"
   ]
  },
  {
   "cell_type": "code",
   "execution_count": 75,
   "metadata": {
    "scrolled": true
   },
   "outputs": [
    {
     "data": {
      "text/html": [
       "<div>\n",
       "<style scoped>\n",
       "    .dataframe tbody tr th:only-of-type {\n",
       "        vertical-align: middle;\n",
       "    }\n",
       "\n",
       "    .dataframe tbody tr th {\n",
       "        vertical-align: top;\n",
       "    }\n",
       "\n",
       "    .dataframe thead th {\n",
       "        text-align: right;\n",
       "    }\n",
       "</style>\n",
       "<table border=\"1\" class=\"dataframe\">\n",
       "  <thead>\n",
       "    <tr style=\"text-align: right;\">\n",
       "      <th></th>\n",
       "      <th>movie_id</th>\n",
       "      <th>movie</th>\n",
       "      <th>original_title</th>\n",
       "      <th>start_year</th>\n",
       "      <th>runtime_minutes</th>\n",
       "      <th>genres</th>\n",
       "      <th>averagerating</th>\n",
       "      <th>numvotes</th>\n",
       "      <th>id</th>\n",
       "      <th>release_date</th>\n",
       "      <th>...</th>\n",
       "      <th>region</th>\n",
       "      <th>language</th>\n",
       "      <th>types</th>\n",
       "      <th>attributes</th>\n",
       "      <th>is_original_title</th>\n",
       "      <th>ordering_y</th>\n",
       "      <th>person_id</th>\n",
       "      <th>category</th>\n",
       "      <th>job</th>\n",
       "      <th>characters</th>\n",
       "    </tr>\n",
       "  </thead>\n",
       "  <tbody>\n",
       "    <tr>\n",
       "      <th>0</th>\n",
       "      <td>tt0249516</td>\n",
       "      <td>Foodfight!</td>\n",
       "      <td>Foodfight!</td>\n",
       "      <td>2012</td>\n",
       "      <td>91.0</td>\n",
       "      <td>Action,Animation,Comedy</td>\n",
       "      <td>1.9</td>\n",
       "      <td>8248</td>\n",
       "      <td>26</td>\n",
       "      <td>2012-12-31</td>\n",
       "      <td>...</td>\n",
       "      <td>FI</td>\n",
       "      <td>None</td>\n",
       "      <td>imdbDisplay</td>\n",
       "      <td>None</td>\n",
       "      <td>0.0</td>\n",
       "      <td>10</td>\n",
       "      <td>nm0257258</td>\n",
       "      <td>producer</td>\n",
       "      <td>producer</td>\n",
       "      <td>None</td>\n",
       "    </tr>\n",
       "    <tr>\n",
       "      <th>1</th>\n",
       "      <td>tt0249516</td>\n",
       "      <td>Foodfight!</td>\n",
       "      <td>Foodfight!</td>\n",
       "      <td>2012</td>\n",
       "      <td>91.0</td>\n",
       "      <td>Action,Animation,Comedy</td>\n",
       "      <td>1.9</td>\n",
       "      <td>8248</td>\n",
       "      <td>26</td>\n",
       "      <td>2012-12-31</td>\n",
       "      <td>...</td>\n",
       "      <td>FI</td>\n",
       "      <td>None</td>\n",
       "      <td>imdbDisplay</td>\n",
       "      <td>None</td>\n",
       "      <td>0.0</td>\n",
       "      <td>1</td>\n",
       "      <td>nm0240381</td>\n",
       "      <td>actress</td>\n",
       "      <td>None</td>\n",
       "      <td>[\"Sunshine Goodness\"]</td>\n",
       "    </tr>\n",
       "    <tr>\n",
       "      <th>2</th>\n",
       "      <td>tt0249516</td>\n",
       "      <td>Foodfight!</td>\n",
       "      <td>Foodfight!</td>\n",
       "      <td>2012</td>\n",
       "      <td>91.0</td>\n",
       "      <td>Action,Animation,Comedy</td>\n",
       "      <td>1.9</td>\n",
       "      <td>8248</td>\n",
       "      <td>26</td>\n",
       "      <td>2012-12-31</td>\n",
       "      <td>...</td>\n",
       "      <td>FI</td>\n",
       "      <td>None</td>\n",
       "      <td>imdbDisplay</td>\n",
       "      <td>None</td>\n",
       "      <td>0.0</td>\n",
       "      <td>2</td>\n",
       "      <td>nm0240380</td>\n",
       "      <td>actress</td>\n",
       "      <td>None</td>\n",
       "      <td>[\"Sweetcakes\"]</td>\n",
       "    </tr>\n",
       "    <tr>\n",
       "      <th>3</th>\n",
       "      <td>tt0249516</td>\n",
       "      <td>Foodfight!</td>\n",
       "      <td>Foodfight!</td>\n",
       "      <td>2012</td>\n",
       "      <td>91.0</td>\n",
       "      <td>Action,Animation,Comedy</td>\n",
       "      <td>1.9</td>\n",
       "      <td>8248</td>\n",
       "      <td>26</td>\n",
       "      <td>2012-12-31</td>\n",
       "      <td>...</td>\n",
       "      <td>FI</td>\n",
       "      <td>None</td>\n",
       "      <td>imdbDisplay</td>\n",
       "      <td>None</td>\n",
       "      <td>0.0</td>\n",
       "      <td>3</td>\n",
       "      <td>nm0000221</td>\n",
       "      <td>actor</td>\n",
       "      <td>None</td>\n",
       "      <td>[\"Dex Dogtective\"]</td>\n",
       "    </tr>\n",
       "    <tr>\n",
       "      <th>4</th>\n",
       "      <td>tt0249516</td>\n",
       "      <td>Foodfight!</td>\n",
       "      <td>Foodfight!</td>\n",
       "      <td>2012</td>\n",
       "      <td>91.0</td>\n",
       "      <td>Action,Animation,Comedy</td>\n",
       "      <td>1.9</td>\n",
       "      <td>8248</td>\n",
       "      <td>26</td>\n",
       "      <td>2012-12-31</td>\n",
       "      <td>...</td>\n",
       "      <td>FI</td>\n",
       "      <td>None</td>\n",
       "      <td>imdbDisplay</td>\n",
       "      <td>None</td>\n",
       "      <td>0.0</td>\n",
       "      <td>4</td>\n",
       "      <td>nm0519456</td>\n",
       "      <td>actress</td>\n",
       "      <td>None</td>\n",
       "      <td>[\"Lady X\"]</td>\n",
       "    </tr>\n",
       "  </tbody>\n",
       "</table>\n",
       "<p>5 rows × 28 columns</p>\n",
       "</div>"
      ],
      "text/plain": [
       "    movie_id       movie original_title  start_year  runtime_minutes  \\\n",
       "0  tt0249516  Foodfight!     Foodfight!        2012             91.0   \n",
       "1  tt0249516  Foodfight!     Foodfight!        2012             91.0   \n",
       "2  tt0249516  Foodfight!     Foodfight!        2012             91.0   \n",
       "3  tt0249516  Foodfight!     Foodfight!        2012             91.0   \n",
       "4  tt0249516  Foodfight!     Foodfight!        2012             91.0   \n",
       "\n",
       "                    genres  averagerating  numvotes  id release_date  ...  \\\n",
       "0  Action,Animation,Comedy            1.9      8248  26   2012-12-31  ...   \n",
       "1  Action,Animation,Comedy            1.9      8248  26   2012-12-31  ...   \n",
       "2  Action,Animation,Comedy            1.9      8248  26   2012-12-31  ...   \n",
       "3  Action,Animation,Comedy            1.9      8248  26   2012-12-31  ...   \n",
       "4  Action,Animation,Comedy            1.9      8248  26   2012-12-31  ...   \n",
       "\n",
       "   region  language        types  attributes is_original_title ordering_y  \\\n",
       "0      FI      None  imdbDisplay        None               0.0         10   \n",
       "1      FI      None  imdbDisplay        None               0.0          1   \n",
       "2      FI      None  imdbDisplay        None               0.0          2   \n",
       "3      FI      None  imdbDisplay        None               0.0          3   \n",
       "4      FI      None  imdbDisplay        None               0.0          4   \n",
       "\n",
       "   person_id  category       job             characters  \n",
       "0  nm0257258  producer  producer                   None  \n",
       "1  nm0240381   actress      None  [\"Sunshine Goodness\"]  \n",
       "2  nm0240380   actress      None         [\"Sweetcakes\"]  \n",
       "3  nm0000221     actor      None     [\"Dex Dogtective\"]  \n",
       "4  nm0519456   actress      None             [\"Lady X\"]  \n",
       "\n",
       "[5 rows x 28 columns]"
      ]
     },
     "execution_count": 75,
     "metadata": {},
     "output_type": "execute_result"
    }
   ],
   "source": [
    "#Merged with principals\n",
    "mprinc_df = pd.read_sql(\"\"\"SELECT * FROM principals;\"\"\", conn)\n",
    "merged_df7 = pd.merge(merged_df6, mprinc_df, on='movie_id', how ='inner')\n",
    "merged_df7.head()"
   ]
  },
  {
   "cell_type": "code",
   "execution_count": 76,
   "metadata": {
    "scrolled": false
   },
   "outputs": [
    {
     "data": {
      "text/html": [
       "<div>\n",
       "<style scoped>\n",
       "    .dataframe tbody tr th:only-of-type {\n",
       "        vertical-align: middle;\n",
       "    }\n",
       "\n",
       "    .dataframe tbody tr th {\n",
       "        vertical-align: top;\n",
       "    }\n",
       "\n",
       "    .dataframe thead th {\n",
       "        text-align: right;\n",
       "    }\n",
       "</style>\n",
       "<table border=\"1\" class=\"dataframe\">\n",
       "  <thead>\n",
       "    <tr style=\"text-align: right;\">\n",
       "      <th></th>\n",
       "      <th>movie_id</th>\n",
       "      <th>movie</th>\n",
       "      <th>original_title_x</th>\n",
       "      <th>start_year</th>\n",
       "      <th>runtime_minutes</th>\n",
       "      <th>genres</th>\n",
       "      <th>averagerating</th>\n",
       "      <th>numvotes</th>\n",
       "      <th>id_x</th>\n",
       "      <th>release_date_x</th>\n",
       "      <th>...</th>\n",
       "      <th>characters</th>\n",
       "      <th>Unnamed: 0</th>\n",
       "      <th>genre_ids</th>\n",
       "      <th>id_y</th>\n",
       "      <th>original_language</th>\n",
       "      <th>original_title_y</th>\n",
       "      <th>popularity</th>\n",
       "      <th>release_date_y</th>\n",
       "      <th>vote_average</th>\n",
       "      <th>vote_count</th>\n",
       "    </tr>\n",
       "  </thead>\n",
       "  <tbody>\n",
       "    <tr>\n",
       "      <th>0</th>\n",
       "      <td>tt0249516</td>\n",
       "      <td>Foodfight!</td>\n",
       "      <td>Foodfight!</td>\n",
       "      <td>2012</td>\n",
       "      <td>91.0</td>\n",
       "      <td>Action,Animation,Comedy</td>\n",
       "      <td>1.9</td>\n",
       "      <td>8248</td>\n",
       "      <td>26</td>\n",
       "      <td>2012-12-31</td>\n",
       "      <td>...</td>\n",
       "      <td>None</td>\n",
       "      <td>8456</td>\n",
       "      <td>[16, 28, 35, 10751]</td>\n",
       "      <td>116977</td>\n",
       "      <td>en</td>\n",
       "      <td>Foodfight!</td>\n",
       "      <td>4.705</td>\n",
       "      <td>2013-05-07</td>\n",
       "      <td>2.1</td>\n",
       "      <td>46</td>\n",
       "    </tr>\n",
       "    <tr>\n",
       "      <th>1</th>\n",
       "      <td>tt0249516</td>\n",
       "      <td>Foodfight!</td>\n",
       "      <td>Foodfight!</td>\n",
       "      <td>2012</td>\n",
       "      <td>91.0</td>\n",
       "      <td>Action,Animation,Comedy</td>\n",
       "      <td>1.9</td>\n",
       "      <td>8248</td>\n",
       "      <td>26</td>\n",
       "      <td>2012-12-31</td>\n",
       "      <td>...</td>\n",
       "      <td>[\"Sunshine Goodness\"]</td>\n",
       "      <td>8456</td>\n",
       "      <td>[16, 28, 35, 10751]</td>\n",
       "      <td>116977</td>\n",
       "      <td>en</td>\n",
       "      <td>Foodfight!</td>\n",
       "      <td>4.705</td>\n",
       "      <td>2013-05-07</td>\n",
       "      <td>2.1</td>\n",
       "      <td>46</td>\n",
       "    </tr>\n",
       "    <tr>\n",
       "      <th>2</th>\n",
       "      <td>tt0249516</td>\n",
       "      <td>Foodfight!</td>\n",
       "      <td>Foodfight!</td>\n",
       "      <td>2012</td>\n",
       "      <td>91.0</td>\n",
       "      <td>Action,Animation,Comedy</td>\n",
       "      <td>1.9</td>\n",
       "      <td>8248</td>\n",
       "      <td>26</td>\n",
       "      <td>2012-12-31</td>\n",
       "      <td>...</td>\n",
       "      <td>[\"Sweetcakes\"]</td>\n",
       "      <td>8456</td>\n",
       "      <td>[16, 28, 35, 10751]</td>\n",
       "      <td>116977</td>\n",
       "      <td>en</td>\n",
       "      <td>Foodfight!</td>\n",
       "      <td>4.705</td>\n",
       "      <td>2013-05-07</td>\n",
       "      <td>2.1</td>\n",
       "      <td>46</td>\n",
       "    </tr>\n",
       "    <tr>\n",
       "      <th>3</th>\n",
       "      <td>tt0249516</td>\n",
       "      <td>Foodfight!</td>\n",
       "      <td>Foodfight!</td>\n",
       "      <td>2012</td>\n",
       "      <td>91.0</td>\n",
       "      <td>Action,Animation,Comedy</td>\n",
       "      <td>1.9</td>\n",
       "      <td>8248</td>\n",
       "      <td>26</td>\n",
       "      <td>2012-12-31</td>\n",
       "      <td>...</td>\n",
       "      <td>[\"Dex Dogtective\"]</td>\n",
       "      <td>8456</td>\n",
       "      <td>[16, 28, 35, 10751]</td>\n",
       "      <td>116977</td>\n",
       "      <td>en</td>\n",
       "      <td>Foodfight!</td>\n",
       "      <td>4.705</td>\n",
       "      <td>2013-05-07</td>\n",
       "      <td>2.1</td>\n",
       "      <td>46</td>\n",
       "    </tr>\n",
       "    <tr>\n",
       "      <th>4</th>\n",
       "      <td>tt0249516</td>\n",
       "      <td>Foodfight!</td>\n",
       "      <td>Foodfight!</td>\n",
       "      <td>2012</td>\n",
       "      <td>91.0</td>\n",
       "      <td>Action,Animation,Comedy</td>\n",
       "      <td>1.9</td>\n",
       "      <td>8248</td>\n",
       "      <td>26</td>\n",
       "      <td>2012-12-31</td>\n",
       "      <td>...</td>\n",
       "      <td>[\"Lady X\"]</td>\n",
       "      <td>8456</td>\n",
       "      <td>[16, 28, 35, 10751]</td>\n",
       "      <td>116977</td>\n",
       "      <td>en</td>\n",
       "      <td>Foodfight!</td>\n",
       "      <td>4.705</td>\n",
       "      <td>2013-05-07</td>\n",
       "      <td>2.1</td>\n",
       "      <td>46</td>\n",
       "    </tr>\n",
       "  </tbody>\n",
       "</table>\n",
       "<p>5 rows × 37 columns</p>\n",
       "</div>"
      ],
      "text/plain": [
       "    movie_id       movie original_title_x  start_year  runtime_minutes  \\\n",
       "0  tt0249516  Foodfight!       Foodfight!        2012             91.0   \n",
       "1  tt0249516  Foodfight!       Foodfight!        2012             91.0   \n",
       "2  tt0249516  Foodfight!       Foodfight!        2012             91.0   \n",
       "3  tt0249516  Foodfight!       Foodfight!        2012             91.0   \n",
       "4  tt0249516  Foodfight!       Foodfight!        2012             91.0   \n",
       "\n",
       "                    genres  averagerating  numvotes  id_x release_date_x  ...  \\\n",
       "0  Action,Animation,Comedy            1.9      8248    26     2012-12-31  ...   \n",
       "1  Action,Animation,Comedy            1.9      8248    26     2012-12-31  ...   \n",
       "2  Action,Animation,Comedy            1.9      8248    26     2012-12-31  ...   \n",
       "3  Action,Animation,Comedy            1.9      8248    26     2012-12-31  ...   \n",
       "4  Action,Animation,Comedy            1.9      8248    26     2012-12-31  ...   \n",
       "\n",
       "              characters  Unnamed: 0            genre_ids    id_y  \\\n",
       "0                   None        8456  [16, 28, 35, 10751]  116977   \n",
       "1  [\"Sunshine Goodness\"]        8456  [16, 28, 35, 10751]  116977   \n",
       "2         [\"Sweetcakes\"]        8456  [16, 28, 35, 10751]  116977   \n",
       "3     [\"Dex Dogtective\"]        8456  [16, 28, 35, 10751]  116977   \n",
       "4             [\"Lady X\"]        8456  [16, 28, 35, 10751]  116977   \n",
       "\n",
       "  original_language original_title_y  popularity release_date_y vote_average  \\\n",
       "0                en       Foodfight!       4.705     2013-05-07          2.1   \n",
       "1                en       Foodfight!       4.705     2013-05-07          2.1   \n",
       "2                en       Foodfight!       4.705     2013-05-07          2.1   \n",
       "3                en       Foodfight!       4.705     2013-05-07          2.1   \n",
       "4                en       Foodfight!       4.705     2013-05-07          2.1   \n",
       "\n",
       "  vote_count  \n",
       "0         46  \n",
       "1         46  \n",
       "2         46  \n",
       "3         46  \n",
       "4         46  \n",
       "\n",
       "[5 rows x 37 columns]"
      ]
     },
     "execution_count": 76,
     "metadata": {},
     "output_type": "execute_result"
    }
   ],
   "source": [
    "#Memerged with \n",
    "merged_final_df = pd.merge(merged_df7, tmdb_movie, on='title', how ='inner')\n",
    "merged_final_df.head()"
   ]
  },
  {
   "cell_type": "code",
   "execution_count": 77,
   "metadata": {
    "scrolled": true
   },
   "outputs": [
    {
     "name": "stdout",
     "output_type": "stream",
     "text": [
      "<class 'pandas.core.frame.DataFrame'>\n",
      "Int64Index: 9781871 entries, 0 to 9781870\n",
      "Data columns (total 37 columns):\n",
      " #   Column             Dtype         \n",
      "---  ------             -----         \n",
      " 0   movie_id           object        \n",
      " 1   movie              object        \n",
      " 2   original_title_x   object        \n",
      " 3   start_year         int64         \n",
      " 4   runtime_minutes    float64       \n",
      " 5   genres             object        \n",
      " 6   averagerating      float64       \n",
      " 7   numvotes           int64         \n",
      " 8   id_x               int64         \n",
      " 9   release_date_x     datetime64[ns]\n",
      " 10  production_budget  float64       \n",
      " 11  domestic_gross     float64       \n",
      " 12  worldwide_gross    float64       \n",
      " 13  ROI                float64       \n",
      " 14  person_id_x        object        \n",
      " 15  person_id_y        object        \n",
      " 16  ordering_x         int64         \n",
      " 17  title              object        \n",
      " 18  region             object        \n",
      " 19  language           object        \n",
      " 20  types              object        \n",
      " 21  attributes         object        \n",
      " 22  is_original_title  float64       \n",
      " 23  ordering_y         int64         \n",
      " 24  person_id          object        \n",
      " 25  category           object        \n",
      " 26  job                object        \n",
      " 27  characters         object        \n",
      " 28  Unnamed: 0         int64         \n",
      " 29  genre_ids          object        \n",
      " 30  id_y               int64         \n",
      " 31  original_language  object        \n",
      " 32  original_title_y   object        \n",
      " 33  popularity         float64       \n",
      " 34  release_date_y     object        \n",
      " 35  vote_average       float64       \n",
      " 36  vote_count         int64         \n",
      "dtypes: datetime64[ns](1), float64(9), int64(8), object(19)\n",
      "memory usage: 2.8+ GB\n"
     ]
    }
   ],
   "source": [
    "merged_final_df.info()"
   ]
  },
  {
   "cell_type": "code",
   "execution_count": 78,
   "metadata": {},
   "outputs": [
    {
     "data": {
      "image/png": "[encoded data removed]",
      "text/plain": [
       "<Figure size 640x480 with 1 Axes>"
      ]
     },
     "metadata": {},
     "output_type": "display_data"
    }
   ],
   "source": [
    "plt.scatter(merged_final_df['averagerating'], merged_final_df['numvotes'])\n",
    "plt.xlabel('Average Rating')\n",
    "plt.ylabel('Number of Votes')\n",
    "plt.show()"
   ]
  },
  {
   "cell_type": "code",
   "execution_count": 79,
   "metadata": {},
   "outputs": [
    {
     "name": "stdout",
     "output_type": "stream",
     "text": [
      "Correlation coefficient between numvotes and averagerating:  0.5124943038145994\n"
     ]
    }
   ],
   "source": [
    "corr_coeff = merged_final_df['numvotes'].corr(merged_final_df['averagerating'])\n",
    "\n",
    "print('Correlation coefficient between numvotes and averagerating: ', corr_coeff)"
   ]
  },
  {
   "cell_type": "code",
   "execution_count": 80,
   "metadata": {
    "scrolled": true
   },
   "outputs": [
    {
     "data": {
      "image/png": "[encoded data removed]",
      "text/plain": [
       "<Figure size 640x480 with 1 Axes>"
      ]
     },
     "metadata": {},
     "output_type": "display_data"
    }
   ],
   "source": [
    "plt.scatter(merged_final_df['production_budget'], merged_final_df['worldwide_gross'])\n",
    "plt.xlabel('Production Budget')\n",
    "plt.ylabel('Worldwide Gross')\n",
    "plt.title('Production Budget vs Worldwide Gross')\n",
    "plt.show()"
   ]
  },
  {
   "cell_type": "code",
   "execution_count": 81,
   "metadata": {},
   "outputs": [
    {
     "data": {
      "image/png": "[encoded data removed]",
      "text/plain": [
       "<Figure size 640x480 with 1 Axes>"
      ]
     },
     "metadata": {},
     "output_type": "display_data"
    }
   ],
   "source": [
    "plt.scatter(merged_final_df['runtime_minutes'], merged_final_df['ROI'])\n",
    "plt.xlabel('Run Time')\n",
    "plt.ylabel('ROI')\n",
    "plt.title('Runtime of Movies in Minutes Vs Return on Investment')\n",
    "plt.show()"
   ]
  },
  {
   "cell_type": "code",
   "execution_count": 82,
   "metadata": {},
   "outputs": [
    {
     "data": {
      "image/png": "[encoded data removed]",
      "text/plain": [
       "<Figure size 640x480 with 1 Axes>"
      ]
     },
     "metadata": {},
     "output_type": "display_data"
    }
   ],
   "source": [
    "df_yearly_mean = merged_final_df.groupby('start_year')['averagerating'].mean()\n",
    "# Create a line plot of the yearly mean\n",
    "plt.plot(df_yearly_mean.index, df_yearly_mean.values)\n",
    "plt.xlabel('Year')\n",
    "plt.ylabel('Average rating')\n",
    "plt.title('Yearly Mean of Average Rating')\n",
    "plt.show()\n",
    "\n"
   ]
  },
  {
   "cell_type": "markdown",
   "metadata": {},
   "source": []
  },
  {
   "cell_type": "code",
   "execution_count": 83,
   "metadata": {},
   "outputs": [
    {
     "name": "stdout",
     "output_type": "stream",
     "text": [
      "      movie_id                                        movie  \\\n",
      "463  tt1298650  Pirates of the Caribbean: On Stranger Tides   \n",
      "\n",
      "                                  original_title  start_year  runtime_minutes  \\\n",
      "463  Pirates of the Caribbean: On Stranger Tides        2011            136.0   \n",
      "\n",
      "                       genres  averagerating  numvotes  id release_date  \\\n",
      "463  Action,Adventure,Fantasy            6.6    447624   2   2011-05-20   \n",
      "\n",
      "     production_budget  domestic_gross  worldwide_gross   ROI  \n",
      "463        410600000.0     241063875.0     1.045664e+09  2.13  \n"
     ]
    }
   ],
   "source": [
    "#This was a test to check if merged_df3 dataframe had indeed merged with the budgets_movie after changing the primary_title \n",
    "word = 'Pirates of the Caribbean: On Stranger Tides'\n",
    "\n",
    "filtered_df3 = merged_df3[merged_df3['movie'].str.contains(word)]\n",
    "\n",
    "# print the resulting filtered dataframe\n",
    "print(filtered_df3)"
   ]
  },
  {
   "cell_type": "code",
   "execution_count": 84,
   "metadata": {
    "scrolled": true
   },
   "outputs": [
    {
     "data": {
      "image/png": "[encoded data removed]",
      "text/plain": [
       "<Figure size 640x480 with 1 Axes>"
      ]
     },
     "metadata": {},
     "output_type": "display_data"
    }
   ],
   "source": [
    "# Create a histogram of the popularity distribution \n",
    "plt.hist(merged_final_df['popularity'], bins=20)\n",
    "plt.xlabel('Popularity')\n",
    "plt.ylabel('Frequency')\n",
    "plt.title('Popularity distribution')\n",
    "plt.show()"
   ]
  },
  {
   "cell_type": "code",
   "execution_count": 85,
   "metadata": {
    "scrolled": true
   },
   "outputs": [
    {
     "data": {
      "image/png": "[encoded data removed]",
      "text/plain": [
       "<Figure size 640x480 with 1 Axes>"
      ]
     },
     "metadata": {},
     "output_type": "display_data"
    }
   ],
   "source": [
    "plt.hist(merged_final_df['runtime_minutes'], bins=20)\n",
    "plt.xlabel('Runtime')\n",
    "plt.ylabel('Frequency')\n",
    "plt.title('Runtime distribution')\n",
    "plt.show()"
   ]
  },
  {
   "cell_type": "code",
   "execution_count": 86,
   "metadata": {
    "scrolled": true
   },
   "outputs": [
    {
     "data": {
      "image/png": "[encoded data removed]",
      "text/plain": [
       "<Figure size 640x480 with 1 Axes>"
      ]
     },
     "metadata": {},
     "output_type": "display_data"
    }
   ],
   "source": [
    "regiontop_prod = merged_final_df.groupby('region')['ROI'].mean().nlargest(10)\n",
    "regiontop_prod_df = regiontop_prod.reset_index().rename(columns={'region': 'Region', 'ROI': 'Return on Investment'})\n",
    "\n",
    "# create a horizontal bar chart\n",
    "sns.barplot(x='Return on Investment', y='Region', data=regiontop_prod_df)\n",
    "\n",
    "# set plot labels and title\n",
    "plt.xlabel('Return on Investment')\n",
    "plt.ylabel('Region')\n",
    "plt.title('Top 10 Movie ROIs by Region')\n",
    "\n",
    "# display the plot\n",
    "plt.show()"
   ]
  },
  {
   "cell_type": "code",
   "execution_count": 87,
   "metadata": {
    "scrolled": true
   },
   "outputs": [
    {
     "data": {
      "image/png": "[encoded data removed]",
      "text/plain": [
       "<Figure size 640x480 with 1 Axes>"
      ]
     },
     "metadata": {},
     "output_type": "display_data"
    }
   ],
   "source": [
    "langtop_prod = merged_final_df.groupby('language')['ROI'].mean().nlargest(10)\n",
    "langtop_prod_df = langtop_prod.reset_index().rename(columns={'language': 'Language', 'ROI': 'Return on Investment'})\n",
    "\n",
    "# create a horizontal bar chart\n",
    "sns.barplot(x='Return on Investment', y='Language', data=langtop_prod_df)\n",
    "\n",
    "# set plot labels and title\n",
    "plt.xlabel('Return on Investment')\n",
    "plt.ylabel('Region')\n",
    "plt.title('Movies with highest ROIs grouped by Language')\n",
    "\n",
    "# display the plot\n",
    "plt.show()"
   ]
  },
  {
   "cell_type": "code",
   "execution_count": 88,
   "metadata": {},
   "outputs": [
    {
     "name": "stdout",
     "output_type": "stream",
     "text": [
      "Index(['movie_id', 'movie', 'original_title_x', 'start_year',\n",
      "       'runtime_minutes', 'genres', 'averagerating', 'numvotes', 'id_x',\n",
      "       'release_date_x', 'production_budget', 'domestic_gross',\n",
      "       'worldwide_gross', 'ROI', 'person_id_x', 'person_id_y', 'ordering_x',\n",
      "       'title', 'region', 'language', 'types', 'attributes',\n",
      "       'is_original_title', 'ordering_y', 'person_id', 'category', 'job',\n",
      "       'characters', 'Unnamed: 0', 'genre_ids', 'id_y', 'original_language',\n",
      "       'original_title_y', 'popularity', 'release_date_y', 'vote_average',\n",
      "       'vote_count'],\n",
      "      dtype='object')\n"
     ]
    }
   ],
   "source": [
    "print(merged_final_df.columns)"
   ]
  },
  {
   "cell_type": "code",
   "execution_count": 89,
   "metadata": {},
   "outputs": [
    {
     "data": {
      "text/html": [
       "<div>\n",
       "<style scoped>\n",
       "    .dataframe tbody tr th:only-of-type {\n",
       "        vertical-align: middle;\n",
       "    }\n",
       "\n",
       "    .dataframe tbody tr th {\n",
       "        vertical-align: top;\n",
       "    }\n",
       "\n",
       "    .dataframe thead th {\n",
       "        text-align: right;\n",
       "    }\n",
       "</style>\n",
       "<table border=\"1\" class=\"dataframe\">\n",
       "  <thead>\n",
       "    <tr style=\"text-align: right;\">\n",
       "      <th></th>\n",
       "      <th>movie</th>\n",
       "      <th>region</th>\n",
       "      <th>language</th>\n",
       "      <th>popularity</th>\n",
       "      <th>runtime_minutes</th>\n",
       "      <th>ROI</th>\n",
       "      <th>averagerating</th>\n",
       "      <th>genres</th>\n",
       "    </tr>\n",
       "  </thead>\n",
       "  <tbody>\n",
       "    <tr>\n",
       "      <th>9153947</th>\n",
       "      <td>The Gallows</td>\n",
       "      <td>None</td>\n",
       "      <td>None</td>\n",
       "      <td>6.477</td>\n",
       "      <td>81.0</td>\n",
       "      <td>643.21</td>\n",
       "      <td>4.2</td>\n",
       "      <td>Horror,Mystery,Thriller</td>\n",
       "    </tr>\n",
       "    <tr>\n",
       "      <th>9153772</th>\n",
       "      <td>The Gallows</td>\n",
       "      <td>None</td>\n",
       "      <td>None</td>\n",
       "      <td>9.166</td>\n",
       "      <td>81.0</td>\n",
       "      <td>643.21</td>\n",
       "      <td>4.2</td>\n",
       "      <td>Horror,Mystery,Thriller</td>\n",
       "    </tr>\n",
       "    <tr>\n",
       "      <th>9153770</th>\n",
       "      <td>The Gallows</td>\n",
       "      <td>US</td>\n",
       "      <td>None</td>\n",
       "      <td>9.166</td>\n",
       "      <td>81.0</td>\n",
       "      <td>643.21</td>\n",
       "      <td>4.2</td>\n",
       "      <td>Horror,Mystery,Thriller</td>\n",
       "    </tr>\n",
       "    <tr>\n",
       "      <th>9153769</th>\n",
       "      <td>The Gallows</td>\n",
       "      <td>US</td>\n",
       "      <td>None</td>\n",
       "      <td>9.166</td>\n",
       "      <td>81.0</td>\n",
       "      <td>643.21</td>\n",
       "      <td>4.2</td>\n",
       "      <td>Horror,Mystery,Thriller</td>\n",
       "    </tr>\n",
       "    <tr>\n",
       "      <th>9153768</th>\n",
       "      <td>The Gallows</td>\n",
       "      <td>US</td>\n",
       "      <td>None</td>\n",
       "      <td>9.166</td>\n",
       "      <td>81.0</td>\n",
       "      <td>643.21</td>\n",
       "      <td>4.2</td>\n",
       "      <td>Horror,Mystery,Thriller</td>\n",
       "    </tr>\n",
       "    <tr>\n",
       "      <th>9153767</th>\n",
       "      <td>The Gallows</td>\n",
       "      <td>US</td>\n",
       "      <td>None</td>\n",
       "      <td>9.166</td>\n",
       "      <td>81.0</td>\n",
       "      <td>643.21</td>\n",
       "      <td>4.2</td>\n",
       "      <td>Horror,Mystery,Thriller</td>\n",
       "    </tr>\n",
       "    <tr>\n",
       "      <th>9153766</th>\n",
       "      <td>The Gallows</td>\n",
       "      <td>US</td>\n",
       "      <td>None</td>\n",
       "      <td>9.166</td>\n",
       "      <td>81.0</td>\n",
       "      <td>643.21</td>\n",
       "      <td>4.2</td>\n",
       "      <td>Horror,Mystery,Thriller</td>\n",
       "    </tr>\n",
       "    <tr>\n",
       "      <th>9153765</th>\n",
       "      <td>The Gallows</td>\n",
       "      <td>US</td>\n",
       "      <td>None</td>\n",
       "      <td>9.166</td>\n",
       "      <td>81.0</td>\n",
       "      <td>643.21</td>\n",
       "      <td>4.2</td>\n",
       "      <td>Horror,Mystery,Thriller</td>\n",
       "    </tr>\n",
       "    <tr>\n",
       "      <th>9153764</th>\n",
       "      <td>The Gallows</td>\n",
       "      <td>US</td>\n",
       "      <td>None</td>\n",
       "      <td>9.166</td>\n",
       "      <td>81.0</td>\n",
       "      <td>643.21</td>\n",
       "      <td>4.2</td>\n",
       "      <td>Horror,Mystery,Thriller</td>\n",
       "    </tr>\n",
       "    <tr>\n",
       "      <th>9153763</th>\n",
       "      <td>The Gallows</td>\n",
       "      <td>US</td>\n",
       "      <td>None</td>\n",
       "      <td>9.166</td>\n",
       "      <td>81.0</td>\n",
       "      <td>643.21</td>\n",
       "      <td>4.2</td>\n",
       "      <td>Horror,Mystery,Thriller</td>\n",
       "    </tr>\n",
       "  </tbody>\n",
       "</table>\n",
       "</div>"
      ],
      "text/plain": [
       "               movie region language  popularity  runtime_minutes     ROI  \\\n",
       "9153947  The Gallows   None     None       6.477             81.0  643.21   \n",
       "9153772  The Gallows   None     None       9.166             81.0  643.21   \n",
       "9153770  The Gallows     US     None       9.166             81.0  643.21   \n",
       "9153769  The Gallows     US     None       9.166             81.0  643.21   \n",
       "9153768  The Gallows     US     None       9.166             81.0  643.21   \n",
       "9153767  The Gallows     US     None       9.166             81.0  643.21   \n",
       "9153766  The Gallows     US     None       9.166             81.0  643.21   \n",
       "9153765  The Gallows     US     None       9.166             81.0  643.21   \n",
       "9153764  The Gallows     US     None       9.166             81.0  643.21   \n",
       "9153763  The Gallows     US     None       9.166             81.0  643.21   \n",
       "\n",
       "         averagerating                   genres  \n",
       "9153947            4.2  Horror,Mystery,Thriller  \n",
       "9153772            4.2  Horror,Mystery,Thriller  \n",
       "9153770            4.2  Horror,Mystery,Thriller  \n",
       "9153769            4.2  Horror,Mystery,Thriller  \n",
       "9153768            4.2  Horror,Mystery,Thriller  \n",
       "9153767            4.2  Horror,Mystery,Thriller  \n",
       "9153766            4.2  Horror,Mystery,Thriller  \n",
       "9153765            4.2  Horror,Mystery,Thriller  \n",
       "9153764            4.2  Horror,Mystery,Thriller  \n",
       "9153763            4.2  Horror,Mystery,Thriller  "
      ]
     },
     "execution_count": 89,
     "metadata": {},
     "output_type": "execute_result"
    }
   ],
   "source": [
    "merged_final_df.sort_values(by='ROI', ascending=False)[[\"movie\", \"region\",\"language\",\"popularity\",\"runtime_minutes\", \"ROI\", \"averagerating\", \"genres\"]].head(10)\n"
   ]
  },
  {
   "cell_type": "code",
   "execution_count": 90,
   "metadata": {},
   "outputs": [
    {
     "ename": "NameError",
     "evalue": "name 'top_10' is not defined",
     "output_type": "error",
     "traceback": [
      "\u001b[1;31m---------------------------------------------------------------------------\u001b[0m",
      "\u001b[1;31mNameError\u001b[0m                                 Traceback (most recent call last)",
      "\u001b[1;32m~\\AppData\\Local\\Temp\\ipykernel_13156\\3754292415.py\u001b[0m in \u001b[0;36m<module>\u001b[1;34m\u001b[0m\n\u001b[1;32m----> 1\u001b[1;33m \u001b[0msns\u001b[0m\u001b[1;33m.\u001b[0m\u001b[0mheatmap\u001b[0m\u001b[1;33m(\u001b[0m\u001b[0mdata\u001b[0m\u001b[1;33m=\u001b[0m\u001b[0mtop_10\u001b[0m\u001b[1;33m[\u001b[0m\u001b[1;33m[\u001b[0m\u001b[1;34m'production_budget'\u001b[0m\u001b[1;33m,\u001b[0m \u001b[1;34m'domestic_gross'\u001b[0m\u001b[1;33m,\u001b[0m \u001b[1;34m'worldwide_gross'\u001b[0m\u001b[1;33m]\u001b[0m\u001b[1;33m]\u001b[0m\u001b[1;33m.\u001b[0m\u001b[0mcorr\u001b[0m\u001b[1;33m(\u001b[0m\u001b[1;33m)\u001b[0m\u001b[1;33m,\u001b[0m \u001b[0mcmap\u001b[0m\u001b[1;33m=\u001b[0m\u001b[1;34m'coolwarm'\u001b[0m\u001b[1;33m,\u001b[0m \u001b[0mannot\u001b[0m\u001b[1;33m=\u001b[0m\u001b[1;32mTrue\u001b[0m\u001b[1;33m)\u001b[0m\u001b[1;33m;\u001b[0m\u001b[1;33m\u001b[0m\u001b[1;33m\u001b[0m\u001b[0m\n\u001b[0m",
      "\u001b[1;31mNameError\u001b[0m: name 'top_10' is not defined"
     ]
    }
   ],
   "source": [
    "sns.heatmap(data=top_10[['production_budget', 'domestic_gross', 'worldwide_gross']].corr(), cmap='coolwarm', annot=True);"
   ]
  },
  {
   "cell_type": "markdown",
   "metadata": {},
   "source": [
    "\n"
   ]
  }
 ],
 "metadata": {
  "kernelspec": {
   "display_name": "Python 3 (ipykernel)",
   "language": "python",
   "name": "python3"
  },
  "language_info": {
   "codemirror_mode": {
    "name": "ipython",
    "version": 3
   },
   "file_extension": ".py",
   "mimetype": "text/x-python",
   "name": "python",
   "nbconvert_exporter": "python",
   "pygments_lexer": "ipython3",
   "version": "3.9.13"
  }
 },
 "nbformat": 4,
 "nbformat_minor": 2
}
